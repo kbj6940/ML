{
 "cells": [
  {
   "cell_type": "code",
   "execution_count": 1,
   "metadata": {},
   "outputs": [],
   "source": [
    "import pandas as pd\n",
    "import numpy as np"
   ]
  },
  {
   "cell_type": "markdown",
   "metadata": {},
   "source": [
    "# 데이터 로드"
   ]
  },
  {
   "cell_type": "code",
   "execution_count": 2,
   "metadata": {},
   "outputs": [],
   "source": [
    "df= pd.read_csv('C:/Users/Admin/Desktop/최종 프로젝트 - 로드킬 생태통로/roadkill(fin)_권4.csv', encoding = 'cp949')"
   ]
  },
  {
   "cell_type": "markdown",
   "metadata": {},
   "source": [
    "# 데이터 전처리"
   ]
  },
  {
   "cell_type": "code",
   "execution_count": 3,
   "metadata": {},
   "outputs": [],
   "source": [
    "df.drop(columns = '산지면적', inplace = True)"
   ]
  },
  {
   "cell_type": "code",
   "execution_count": 4,
   "metadata": {},
   "outputs": [
    {
     "data": {
      "text/plain": [
       "Index(['발생건수', 'left', 'bottom', 'right', 'top', '졸음쉼터수', '휴게소수', '사찰수',\n",
       "       'icjc수', '다리수', '주유소수', '2011교통량', '생태통로수', '농지면적', '철도수', '등고선수',\n",
       "       '고라니수', '족제비수', '고양이수', '노루수', '청설모수', '오소리수', '너구리수', '멧돼지수', '두더지수',\n",
       "       'AREA'],\n",
       "      dtype='object')"
      ]
     },
     "execution_count": 4,
     "metadata": {},
     "output_type": "execute_result"
    }
   ],
   "source": [
    "df.columns"
   ]
  },
  {
   "cell_type": "code",
   "execution_count": 5,
   "metadata": {},
   "outputs": [],
   "source": [
    "df.columns = ['roadkill', 'left', 'bottom', 'right', 'top','sleep','restarea','temple','icjc','bridge','gas','traffic','sangtae'\n",
    "              ,'nongji','rail','deunggo','gorani','jokjebi','cat','noru','chungsolmo','osori','nuguri','wildboar','digda','sanji']"
   ]
  },
  {
   "cell_type": "code",
   "execution_count": 6,
   "metadata": {},
   "outputs": [],
   "source": [
    "## 철길유무 0, 1 더미화\n",
    "df = df.fillna(0)\n",
    "df.loc[df['rail'] != 0, 'rail'] = 1"
   ]
  },
  {
   "cell_type": "code",
   "execution_count": 7,
   "metadata": {},
   "outputs": [],
   "source": [
    "#격자 관련 처리\n",
    "df = df.drop(columns = ['left','bottom','right','top'])"
   ]
  },
  {
   "cell_type": "code",
   "execution_count": 8,
   "metadata": {
    "scrolled": true
   },
   "outputs": [
    {
     "data": {
      "text/html": [
       "<div>\n",
       "<style scoped>\n",
       "    .dataframe tbody tr th:only-of-type {\n",
       "        vertical-align: middle;\n",
       "    }\n",
       "\n",
       "    .dataframe tbody tr th {\n",
       "        vertical-align: top;\n",
       "    }\n",
       "\n",
       "    .dataframe thead th {\n",
       "        text-align: right;\n",
       "    }\n",
       "</style>\n",
       "<table border=\"1\" class=\"dataframe\">\n",
       "  <thead>\n",
       "    <tr style=\"text-align: right;\">\n",
       "      <th></th>\n",
       "      <th>roadkill</th>\n",
       "      <th>sleep</th>\n",
       "      <th>restarea</th>\n",
       "      <th>temple</th>\n",
       "      <th>icjc</th>\n",
       "      <th>bridge</th>\n",
       "      <th>gas</th>\n",
       "      <th>traffic</th>\n",
       "      <th>sangtae</th>\n",
       "      <th>nongji</th>\n",
       "      <th>...</th>\n",
       "      <th>gorani</th>\n",
       "      <th>jokjebi</th>\n",
       "      <th>cat</th>\n",
       "      <th>noru</th>\n",
       "      <th>chungsolmo</th>\n",
       "      <th>osori</th>\n",
       "      <th>nuguri</th>\n",
       "      <th>wildboar</th>\n",
       "      <th>digda</th>\n",
       "      <th>sanji</th>\n",
       "    </tr>\n",
       "  </thead>\n",
       "  <tbody>\n",
       "    <tr>\n",
       "      <th>0</th>\n",
       "      <td>117.0</td>\n",
       "      <td>0.0</td>\n",
       "      <td>2.0</td>\n",
       "      <td>0.0</td>\n",
       "      <td>3.0</td>\n",
       "      <td>2.0</td>\n",
       "      <td>8.0</td>\n",
       "      <td>30404.0</td>\n",
       "      <td>0.0</td>\n",
       "      <td>7.543593e+06</td>\n",
       "      <td>...</td>\n",
       "      <td>21.0</td>\n",
       "      <td>0.0</td>\n",
       "      <td>0.0</td>\n",
       "      <td>0.0</td>\n",
       "      <td>0.0</td>\n",
       "      <td>1.0</td>\n",
       "      <td>0.0</td>\n",
       "      <td>22.0</td>\n",
       "      <td>1.0</td>\n",
       "      <td>35747831.78</td>\n",
       "    </tr>\n",
       "    <tr>\n",
       "      <th>1</th>\n",
       "      <td>110.0</td>\n",
       "      <td>0.0</td>\n",
       "      <td>0.0</td>\n",
       "      <td>1.0</td>\n",
       "      <td>1.0</td>\n",
       "      <td>4.0</td>\n",
       "      <td>2.0</td>\n",
       "      <td>32956.0</td>\n",
       "      <td>0.0</td>\n",
       "      <td>4.372069e+06</td>\n",
       "      <td>...</td>\n",
       "      <td>32.0</td>\n",
       "      <td>0.0</td>\n",
       "      <td>0.0</td>\n",
       "      <td>0.0</td>\n",
       "      <td>1.0</td>\n",
       "      <td>1.0</td>\n",
       "      <td>0.0</td>\n",
       "      <td>21.0</td>\n",
       "      <td>1.0</td>\n",
       "      <td>39685468.51</td>\n",
       "    </tr>\n",
       "    <tr>\n",
       "      <th>2</th>\n",
       "      <td>103.0</td>\n",
       "      <td>0.0</td>\n",
       "      <td>0.0</td>\n",
       "      <td>1.0</td>\n",
       "      <td>3.0</td>\n",
       "      <td>6.0</td>\n",
       "      <td>3.0</td>\n",
       "      <td>4901.0</td>\n",
       "      <td>0.0</td>\n",
       "      <td>1.139921e+06</td>\n",
       "      <td>...</td>\n",
       "      <td>25.0</td>\n",
       "      <td>0.0</td>\n",
       "      <td>0.0</td>\n",
       "      <td>0.0</td>\n",
       "      <td>0.0</td>\n",
       "      <td>0.0</td>\n",
       "      <td>0.0</td>\n",
       "      <td>26.0</td>\n",
       "      <td>0.0</td>\n",
       "      <td>23404117.38</td>\n",
       "    </tr>\n",
       "    <tr>\n",
       "      <th>3</th>\n",
       "      <td>102.0</td>\n",
       "      <td>0.0</td>\n",
       "      <td>0.0</td>\n",
       "      <td>1.0</td>\n",
       "      <td>0.0</td>\n",
       "      <td>2.0</td>\n",
       "      <td>4.0</td>\n",
       "      <td>47709.0</td>\n",
       "      <td>0.0</td>\n",
       "      <td>7.932653e+05</td>\n",
       "      <td>...</td>\n",
       "      <td>26.0</td>\n",
       "      <td>0.0</td>\n",
       "      <td>1.0</td>\n",
       "      <td>0.0</td>\n",
       "      <td>1.0</td>\n",
       "      <td>2.0</td>\n",
       "      <td>1.0</td>\n",
       "      <td>24.0</td>\n",
       "      <td>1.0</td>\n",
       "      <td>30232536.44</td>\n",
       "    </tr>\n",
       "    <tr>\n",
       "      <th>4</th>\n",
       "      <td>101.0</td>\n",
       "      <td>0.0</td>\n",
       "      <td>0.0</td>\n",
       "      <td>0.0</td>\n",
       "      <td>2.0</td>\n",
       "      <td>11.0</td>\n",
       "      <td>4.0</td>\n",
       "      <td>1698.0</td>\n",
       "      <td>0.0</td>\n",
       "      <td>1.082278e+07</td>\n",
       "      <td>...</td>\n",
       "      <td>10.0</td>\n",
       "      <td>0.0</td>\n",
       "      <td>1.0</td>\n",
       "      <td>1.0</td>\n",
       "      <td>0.0</td>\n",
       "      <td>0.0</td>\n",
       "      <td>1.0</td>\n",
       "      <td>13.0</td>\n",
       "      <td>5.0</td>\n",
       "      <td>35972790.20</td>\n",
       "    </tr>\n",
       "    <tr>\n",
       "      <th>...</th>\n",
       "      <td>...</td>\n",
       "      <td>...</td>\n",
       "      <td>...</td>\n",
       "      <td>...</td>\n",
       "      <td>...</td>\n",
       "      <td>...</td>\n",
       "      <td>...</td>\n",
       "      <td>...</td>\n",
       "      <td>...</td>\n",
       "      <td>...</td>\n",
       "      <td>...</td>\n",
       "      <td>...</td>\n",
       "      <td>...</td>\n",
       "      <td>...</td>\n",
       "      <td>...</td>\n",
       "      <td>...</td>\n",
       "      <td>...</td>\n",
       "      <td>...</td>\n",
       "      <td>...</td>\n",
       "      <td>...</td>\n",
       "      <td>...</td>\n",
       "    </tr>\n",
       "    <tr>\n",
       "      <th>938</th>\n",
       "      <td>0.0</td>\n",
       "      <td>0.0</td>\n",
       "      <td>0.0</td>\n",
       "      <td>0.0</td>\n",
       "      <td>0.0</td>\n",
       "      <td>0.0</td>\n",
       "      <td>25.0</td>\n",
       "      <td>0.0</td>\n",
       "      <td>0.0</td>\n",
       "      <td>1.803651e+06</td>\n",
       "      <td>...</td>\n",
       "      <td>0.0</td>\n",
       "      <td>0.0</td>\n",
       "      <td>0.0</td>\n",
       "      <td>3.0</td>\n",
       "      <td>0.0</td>\n",
       "      <td>0.0</td>\n",
       "      <td>7.0</td>\n",
       "      <td>0.0</td>\n",
       "      <td>0.0</td>\n",
       "      <td>0.00</td>\n",
       "    </tr>\n",
       "    <tr>\n",
       "      <th>939</th>\n",
       "      <td>0.0</td>\n",
       "      <td>0.0</td>\n",
       "      <td>0.0</td>\n",
       "      <td>3.0</td>\n",
       "      <td>0.0</td>\n",
       "      <td>0.0</td>\n",
       "      <td>22.0</td>\n",
       "      <td>0.0</td>\n",
       "      <td>0.0</td>\n",
       "      <td>0.000000e+00</td>\n",
       "      <td>...</td>\n",
       "      <td>0.0</td>\n",
       "      <td>0.0</td>\n",
       "      <td>0.0</td>\n",
       "      <td>3.0</td>\n",
       "      <td>0.0</td>\n",
       "      <td>0.0</td>\n",
       "      <td>7.0</td>\n",
       "      <td>0.0</td>\n",
       "      <td>0.0</td>\n",
       "      <td>0.00</td>\n",
       "    </tr>\n",
       "    <tr>\n",
       "      <th>940</th>\n",
       "      <td>0.0</td>\n",
       "      <td>0.0</td>\n",
       "      <td>0.0</td>\n",
       "      <td>0.0</td>\n",
       "      <td>0.0</td>\n",
       "      <td>0.0</td>\n",
       "      <td>21.0</td>\n",
       "      <td>0.0</td>\n",
       "      <td>0.0</td>\n",
       "      <td>0.000000e+00</td>\n",
       "      <td>...</td>\n",
       "      <td>0.0</td>\n",
       "      <td>0.0</td>\n",
       "      <td>0.0</td>\n",
       "      <td>3.0</td>\n",
       "      <td>0.0</td>\n",
       "      <td>0.0</td>\n",
       "      <td>7.0</td>\n",
       "      <td>0.0</td>\n",
       "      <td>0.0</td>\n",
       "      <td>0.00</td>\n",
       "    </tr>\n",
       "    <tr>\n",
       "      <th>941</th>\n",
       "      <td>0.0</td>\n",
       "      <td>4.0</td>\n",
       "      <td>0.0</td>\n",
       "      <td>0.0</td>\n",
       "      <td>0.0</td>\n",
       "      <td>0.0</td>\n",
       "      <td>20.0</td>\n",
       "      <td>0.0</td>\n",
       "      <td>0.0</td>\n",
       "      <td>0.000000e+00</td>\n",
       "      <td>...</td>\n",
       "      <td>0.0</td>\n",
       "      <td>0.0</td>\n",
       "      <td>0.0</td>\n",
       "      <td>3.0</td>\n",
       "      <td>0.0</td>\n",
       "      <td>0.0</td>\n",
       "      <td>8.0</td>\n",
       "      <td>0.0</td>\n",
       "      <td>0.0</td>\n",
       "      <td>0.00</td>\n",
       "    </tr>\n",
       "    <tr>\n",
       "      <th>942</th>\n",
       "      <td>0.0</td>\n",
       "      <td>0.0</td>\n",
       "      <td>1.0</td>\n",
       "      <td>1.0</td>\n",
       "      <td>0.0</td>\n",
       "      <td>0.0</td>\n",
       "      <td>19.0</td>\n",
       "      <td>0.0</td>\n",
       "      <td>0.0</td>\n",
       "      <td>0.000000e+00</td>\n",
       "      <td>...</td>\n",
       "      <td>0.0</td>\n",
       "      <td>0.0</td>\n",
       "      <td>0.0</td>\n",
       "      <td>3.0</td>\n",
       "      <td>0.0</td>\n",
       "      <td>0.0</td>\n",
       "      <td>17.0</td>\n",
       "      <td>0.0</td>\n",
       "      <td>0.0</td>\n",
       "      <td>0.00</td>\n",
       "    </tr>\n",
       "  </tbody>\n",
       "</table>\n",
       "<p>943 rows × 22 columns</p>\n",
       "</div>"
      ],
      "text/plain": [
       "     roadkill  sleep  restarea  temple  icjc  bridge   gas  traffic  sangtae  \\\n",
       "0       117.0    0.0       2.0     0.0   3.0     2.0   8.0  30404.0      0.0   \n",
       "1       110.0    0.0       0.0     1.0   1.0     4.0   2.0  32956.0      0.0   \n",
       "2       103.0    0.0       0.0     1.0   3.0     6.0   3.0   4901.0      0.0   \n",
       "3       102.0    0.0       0.0     1.0   0.0     2.0   4.0  47709.0      0.0   \n",
       "4       101.0    0.0       0.0     0.0   2.0    11.0   4.0   1698.0      0.0   \n",
       "..        ...    ...       ...     ...   ...     ...   ...      ...      ...   \n",
       "938       0.0    0.0       0.0     0.0   0.0     0.0  25.0      0.0      0.0   \n",
       "939       0.0    0.0       0.0     3.0   0.0     0.0  22.0      0.0      0.0   \n",
       "940       0.0    0.0       0.0     0.0   0.0     0.0  21.0      0.0      0.0   \n",
       "941       0.0    4.0       0.0     0.0   0.0     0.0  20.0      0.0      0.0   \n",
       "942       0.0    0.0       1.0     1.0   0.0     0.0  19.0      0.0      0.0   \n",
       "\n",
       "           nongji  ...  gorani  jokjebi  cat  noru  chungsolmo  osori  nuguri  \\\n",
       "0    7.543593e+06  ...    21.0      0.0  0.0   0.0         0.0    1.0     0.0   \n",
       "1    4.372069e+06  ...    32.0      0.0  0.0   0.0         1.0    1.0     0.0   \n",
       "2    1.139921e+06  ...    25.0      0.0  0.0   0.0         0.0    0.0     0.0   \n",
       "3    7.932653e+05  ...    26.0      0.0  1.0   0.0         1.0    2.0     1.0   \n",
       "4    1.082278e+07  ...    10.0      0.0  1.0   1.0         0.0    0.0     1.0   \n",
       "..            ...  ...     ...      ...  ...   ...         ...    ...     ...   \n",
       "938  1.803651e+06  ...     0.0      0.0  0.0   3.0         0.0    0.0     7.0   \n",
       "939  0.000000e+00  ...     0.0      0.0  0.0   3.0         0.0    0.0     7.0   \n",
       "940  0.000000e+00  ...     0.0      0.0  0.0   3.0         0.0    0.0     7.0   \n",
       "941  0.000000e+00  ...     0.0      0.0  0.0   3.0         0.0    0.0     8.0   \n",
       "942  0.000000e+00  ...     0.0      0.0  0.0   3.0         0.0    0.0    17.0   \n",
       "\n",
       "     wildboar  digda        sanji  \n",
       "0        22.0    1.0  35747831.78  \n",
       "1        21.0    1.0  39685468.51  \n",
       "2        26.0    0.0  23404117.38  \n",
       "3        24.0    1.0  30232536.44  \n",
       "4        13.0    5.0  35972790.20  \n",
       "..        ...    ...          ...  \n",
       "938       0.0    0.0         0.00  \n",
       "939       0.0    0.0         0.00  \n",
       "940       0.0    0.0         0.00  \n",
       "941       0.0    0.0         0.00  \n",
       "942       0.0    0.0         0.00  \n",
       "\n",
       "[943 rows x 22 columns]"
      ]
     },
     "execution_count": 8,
     "metadata": {},
     "output_type": "execute_result"
    }
   ],
   "source": [
    "df.astype('float')"
   ]
  },
  {
   "cell_type": "markdown",
   "metadata": {},
   "source": [
    "# 변수 스케일링"
   ]
  },
  {
   "cell_type": "code",
   "execution_count": 9,
   "metadata": {
    "scrolled": true
   },
   "outputs": [
    {
     "ename": "NameError",
     "evalue": "name 'sns' is not defined",
     "output_type": "error",
     "traceback": [
      "\u001b[1;31m---------------------------------------------------------------------------\u001b[0m",
      "\u001b[1;31mNameError\u001b[0m                                 Traceback (most recent call last)",
      "\u001b[1;32m<ipython-input-9-ba1133c41956>\u001b[0m in \u001b[0;36m<module>\u001b[1;34m\u001b[0m\n\u001b[1;32m----> 1\u001b[1;33m \u001b[0msns\u001b[0m\u001b[1;33m.\u001b[0m\u001b[0mcountplot\u001b[0m\u001b[1;33m(\u001b[0m\u001b[0mx\u001b[0m\u001b[1;33m=\u001b[0m\u001b[1;34m\"roadkill\"\u001b[0m\u001b[1;33m,\u001b[0m \u001b[0mdata\u001b[0m\u001b[1;33m=\u001b[0m\u001b[0mdf\u001b[0m\u001b[1;33m)\u001b[0m\u001b[1;33m\u001b[0m\u001b[1;33m\u001b[0m\u001b[0m\n\u001b[0m\u001b[0;32m      2\u001b[0m \u001b[0mplt\u001b[0m\u001b[1;33m.\u001b[0m\u001b[0mtitle\u001b[0m\u001b[1;33m(\u001b[0m\u001b[1;34m\"roadkill\"\u001b[0m\u001b[1;33m)\u001b[0m\u001b[1;33m\u001b[0m\u001b[1;33m\u001b[0m\u001b[0m\n\u001b[0;32m      3\u001b[0m \u001b[0mplt\u001b[0m\u001b[1;33m.\u001b[0m\u001b[0mshow\u001b[0m\u001b[1;33m(\u001b[0m\u001b[1;33m)\u001b[0m\u001b[1;33m\u001b[0m\u001b[1;33m\u001b[0m\u001b[0m\n",
      "\u001b[1;31mNameError\u001b[0m: name 'sns' is not defined"
     ]
    }
   ],
   "source": [
    "sns.countplot(x=\"roadkill\", data=df)\n",
    "plt.title(\"roadkill\")\n",
    "plt.show()"
   ]
  },
  {
   "cell_type": "code",
   "execution_count": null,
   "metadata": {
    "scrolled": true
   },
   "outputs": [],
   "source": [
    "df_x = df[['sleep', 'restarea', 'temple', 'icjc', 'bridge', 'gas',\n",
    "       'traffic', 'sangtae', 'nongji', 'rail', 'deunggo', 'gorani', 'jokjebi',\n",
    "       'cat', 'noru', 'chungsolmo', 'osori', 'nuguri', 'wildboar', 'digda',\n",
    "       'sanji']]"
   ]
  },
  {
   "cell_type": "code",
   "execution_count": 10,
   "metadata": {},
   "outputs": [
    {
     "ename": "NameError",
     "evalue": "name 'df_x' is not defined",
     "output_type": "error",
     "traceback": [
      "\u001b[1;31m---------------------------------------------------------------------------\u001b[0m",
      "\u001b[1;31mNameError\u001b[0m                                 Traceback (most recent call last)",
      "\u001b[1;32m<ipython-input-10-61ad9212de40>\u001b[0m in \u001b[0;36m<module>\u001b[1;34m\u001b[0m\n\u001b[0;32m      2\u001b[0m \u001b[1;32mfrom\u001b[0m \u001b[0msklearn\u001b[0m\u001b[1;33m.\u001b[0m\u001b[0mpreprocessing\u001b[0m \u001b[1;32mimport\u001b[0m \u001b[0mRobustScaler\u001b[0m\u001b[1;33m\u001b[0m\u001b[1;33m\u001b[0m\u001b[0m\n\u001b[0;32m      3\u001b[0m \u001b[0mrobust_scaler\u001b[0m \u001b[1;33m=\u001b[0m \u001b[0mRobustScaler\u001b[0m\u001b[1;33m(\u001b[0m\u001b[1;33m)\u001b[0m\u001b[1;33m\u001b[0m\u001b[1;33m\u001b[0m\u001b[0m\n\u001b[1;32m----> 4\u001b[1;33m \u001b[0mrobust_scaler\u001b[0m\u001b[1;33m.\u001b[0m\u001b[0mfit\u001b[0m\u001b[1;33m(\u001b[0m\u001b[0mdf_x\u001b[0m\u001b[1;33m)\u001b[0m\u001b[1;33m\u001b[0m\u001b[1;33m\u001b[0m\u001b[0m\n\u001b[0m\u001b[0;32m      5\u001b[0m \u001b[0mdf_robust_scaled\u001b[0m \u001b[1;33m=\u001b[0m \u001b[0mrobust_scaler\u001b[0m\u001b[1;33m.\u001b[0m\u001b[0mtransform\u001b[0m\u001b[1;33m(\u001b[0m\u001b[0mdf_x\u001b[0m\u001b[1;33m)\u001b[0m\u001b[1;33m\u001b[0m\u001b[1;33m\u001b[0m\u001b[0m\n\u001b[0;32m      6\u001b[0m \u001b[0mdf_robust_scaled\u001b[0m \u001b[1;33m=\u001b[0m \u001b[0mpd\u001b[0m\u001b[1;33m.\u001b[0m\u001b[0mDataFrame\u001b[0m\u001b[1;33m(\u001b[0m\u001b[0mdf_robust_scaled\u001b[0m\u001b[1;33m,\u001b[0m \u001b[0mcolumns\u001b[0m \u001b[1;33m=\u001b[0m \u001b[0mdf_x\u001b[0m\u001b[1;33m.\u001b[0m\u001b[0mcolumns\u001b[0m\u001b[1;33m)\u001b[0m\u001b[1;33m\u001b[0m\u001b[1;33m\u001b[0m\u001b[0m\n",
      "\u001b[1;31mNameError\u001b[0m: name 'df_x' is not defined"
     ]
    }
   ],
   "source": [
    "# RobustScaler(X) -> 중앙값(median)이 0, IQR(interquartile range)이 1이 되도록 변환. -> 아웃라이어 영향 최소화\n",
    "from sklearn.preprocessing import RobustScaler\n",
    "robust_scaler = RobustScaler()\n",
    "robust_scaler.fit(df_x)\n",
    "df_robust_scaled = robust_scaler.transform(df_x)\n",
    "df_robust_scaled = pd.DataFrame(df_robust_scaled, columns = df_x.columns)\n",
    "df_robust_scaled = pd.concat([df_robust_scaled, df['roadkill']], axis = 1)\n",
    "df = df_robust_scaled"
   ]
  },
  {
   "cell_type": "code",
   "execution_count": null,
   "metadata": {},
   "outputs": [],
   "source": [
    "df"
   ]
  },
  {
   "cell_type": "markdown",
   "metadata": {},
   "source": [
    "# 변수간 상관관계 확인"
   ]
  },
  {
   "cell_type": "code",
   "execution_count": null,
   "metadata": {},
   "outputs": [],
   "source": [
    "import matplotlib.pyplot as plt\n",
    "import seaborn as sns\n",
    "%matplotlib inline\n",
    "import matplotlib\n",
    "from matplotlib import font_manager, rc"
   ]
  },
  {
   "cell_type": "code",
   "execution_count": null,
   "metadata": {},
   "outputs": [],
   "source": [
    "matplotlib.rcParams['axes.unicode_minus'] = False   \n",
    "font_name = font_manager.FontProperties(fname=\"c:/Windows/Fonts/malgun.ttf\").get_name()\n",
    "rc('font', family=font_name)"
   ]
  },
  {
   "cell_type": "code",
   "execution_count": null,
   "metadata": {},
   "outputs": [],
   "source": [
    "df1 = df.drop(columns = 'roadkill')"
   ]
  },
  {
   "cell_type": "code",
   "execution_count": 11,
   "metadata": {
    "scrolled": false
   },
   "outputs": [
    {
     "ename": "NameError",
     "evalue": "name 'plt' is not defined",
     "output_type": "error",
     "traceback": [
      "\u001b[1;31m---------------------------------------------------------------------------\u001b[0m",
      "\u001b[1;31mNameError\u001b[0m                                 Traceback (most recent call last)",
      "\u001b[1;32m<ipython-input-11-a37fa4cfaf1e>\u001b[0m in \u001b[0;36m<module>\u001b[1;34m\u001b[0m\n\u001b[1;32m----> 1\u001b[1;33m \u001b[0mcolormap\u001b[0m \u001b[1;33m=\u001b[0m \u001b[0mplt\u001b[0m\u001b[1;33m.\u001b[0m\u001b[0mcm\u001b[0m\u001b[1;33m.\u001b[0m\u001b[0mPuRd\u001b[0m\u001b[1;33m\u001b[0m\u001b[1;33m\u001b[0m\u001b[0m\n\u001b[0m\u001b[0;32m      2\u001b[0m \u001b[0mplt\u001b[0m\u001b[1;33m.\u001b[0m\u001b[0mfigure\u001b[0m\u001b[1;33m(\u001b[0m\u001b[0mfigsize\u001b[0m \u001b[1;33m=\u001b[0m \u001b[1;33m(\u001b[0m\u001b[1;36m15\u001b[0m\u001b[1;33m,\u001b[0m\u001b[1;36m15\u001b[0m\u001b[1;33m)\u001b[0m\u001b[1;33m)\u001b[0m\u001b[1;33m\u001b[0m\u001b[1;33m\u001b[0m\u001b[0m\n\u001b[0;32m      3\u001b[0m \u001b[0mplt\u001b[0m\u001b[1;33m.\u001b[0m\u001b[0mtitle\u001b[0m\u001b[1;33m(\u001b[0m\u001b[1;34m'상관관계 히트맵'\u001b[0m\u001b[1;33m,\u001b[0m \u001b[0my\u001b[0m \u001b[1;33m=\u001b[0m \u001b[1;36m1.1\u001b[0m\u001b[1;33m,\u001b[0m \u001b[0msize\u001b[0m \u001b[1;33m=\u001b[0m \u001b[1;36m20\u001b[0m\u001b[1;33m)\u001b[0m\u001b[1;33m\u001b[0m\u001b[1;33m\u001b[0m\u001b[0m\n\u001b[0;32m      4\u001b[0m sns.heatmap(df1.astype(float).corr(),\n\u001b[0;32m      5\u001b[0m             \u001b[0mlinewidths\u001b[0m \u001b[1;33m=\u001b[0m \u001b[1;36m0.1\u001b[0m\u001b[1;33m,\u001b[0m\u001b[1;33m\u001b[0m\u001b[1;33m\u001b[0m\u001b[0m\n",
      "\u001b[1;31mNameError\u001b[0m: name 'plt' is not defined"
     ]
    }
   ],
   "source": [
    "colormap = plt.cm.PuRd\n",
    "plt.figure(figsize = (15,15))\n",
    "plt.title('상관관계 히트맵', y = 1.1, size = 20)\n",
    "sns.heatmap(df1.astype(float).corr(),\n",
    "            linewidths = 0.1,\n",
    "            vmax = 1.0, square = True,\n",
    "            fmt = '.2f',\n",
    "            cmap = colormap,\n",
    "            annot = True,\n",
    "            linecolor = \"white\",\n",
    "            annot_kws = {\"size\" : 14})\n"
   ]
  },
  {
   "cell_type": "code",
   "execution_count": 12,
   "metadata": {},
   "outputs": [],
   "source": [
    "# import pandas_profiling\n",
    "# profile = df.profile_report()\n",
    "# profile"
   ]
  },
  {
   "cell_type": "code",
   "execution_count": 13,
   "metadata": {},
   "outputs": [],
   "source": [
    "import re\n",
    "df = df.rename(columns = lambda x:re.sub('[^A-Za-z0-9_]+', '', x))"
   ]
  },
  {
   "cell_type": "code",
   "execution_count": 14,
   "metadata": {},
   "outputs": [],
   "source": [
    "df.columns = [\"\".join (c if c.isalnum() else \"_\" for c in str(x)) for x in df.columns]"
   ]
  },
  {
   "cell_type": "markdown",
   "metadata": {},
   "source": [
    "# 초도 모델링 : 다중선형회귀"
   ]
  },
  {
   "cell_type": "code",
   "execution_count": 15,
   "metadata": {},
   "outputs": [],
   "source": [
    "# Adjusted R2 계산 함수\n",
    "def Adj_r2(n,r2):\n",
    "    Adj_r2 = 1-(1-r2)*(len(n)-1)/(len(n)-len(X.columns)-1)\n",
    "    return Adj_r2"
   ]
  },
  {
   "cell_type": "code",
   "execution_count": 16,
   "metadata": {},
   "outputs": [],
   "source": [
    "X = df[['sleep', 'restarea', 'temple', 'icjc', 'bridge', 'gas', 'traffic',\n",
    "       'sangtae', 'nongji', 'rail', 'deunggo', 'gorani', 'jokjebi', 'cat',\n",
    "       'noru', 'chungsolmo', 'osori', 'nuguri', 'wildboar', 'digda', 'sanji']]\n",
    "\n",
    "y= df['roadkill']"
   ]
  },
  {
   "cell_type": "code",
   "execution_count": 17,
   "metadata": {},
   "outputs": [],
   "source": [
    "from sklearn import linear_model\n",
    "from sklearn.datasets import make_regression\n",
    "from statsmodels.graphics import utils\n",
    "from sklearn.linear_model import LinearRegression\n",
    "import statsmodels.api as sm\n",
    "from statsmodels.tools.eval_measures import rmse\n"
   ]
  },
  {
   "cell_type": "code",
   "execution_count": 18,
   "metadata": {},
   "outputs": [
    {
     "data": {
      "text/plain": [
       "943"
      ]
     },
     "execution_count": 18,
     "metadata": {},
     "output_type": "execute_result"
    }
   ],
   "source": [
    "len(X)"
   ]
  },
  {
   "cell_type": "code",
   "execution_count": 19,
   "metadata": {},
   "outputs": [
    {
     "data": {
      "text/plain": [
       "21"
      ]
     },
     "execution_count": 19,
     "metadata": {},
     "output_type": "execute_result"
    }
   ],
   "source": [
    "len(X.columns)"
   ]
  },
  {
   "cell_type": "code",
   "execution_count": 20,
   "metadata": {
    "scrolled": false
   },
   "outputs": [
    {
     "name": "stdout",
     "output_type": "stream",
     "text": [
      "                        Results: Ordinary least squares\n",
      "===============================================================================\n",
      "Model:                  OLS              Adj. R-squared (uncentered): 0.605    \n",
      "Dependent Variable:     roadkill         AIC:                         7943.3569\n",
      "Date:                   2020-08-20 08:57 BIC:                         8045.1873\n",
      "No. Observations:       943              Log-Likelihood:              -3950.7  \n",
      "Df Model:               21               F-statistic:                 69.88    \n",
      "Df Residuals:           922              Prob (F-statistic):          4.40e-174\n",
      "R-squared (uncentered): 0.614            Scale:                       260.76   \n",
      "-----------------------------------------------------------------------------------\n",
      "                Coef.      Std.Err.        t        P>|t|       [0.025       0.975]\n",
      "-----------------------------------------------------------------------------------\n",
      "sleep           1.5456       0.7726      2.0006     0.0457       0.0294      3.0619\n",
      "restarea        2.3400       0.7788      3.0044     0.0027       0.8115      3.8685\n",
      "temple         -0.3623       0.6136     -0.5905     0.5550      -1.5665      0.8418\n",
      "icjc           -1.8709       0.3121     -5.9948     0.0000      -2.4834     -1.2584\n",
      "bridge          0.1038       0.1648      0.6299     0.5289      -0.2196      0.4273\n",
      "gas             0.1128       0.0770      1.4651     0.1432      -0.0383      0.2639\n",
      "traffic         0.0001       0.0000      2.7940     0.0053       0.0000      0.0001\n",
      "sangtae        -0.3747       1.0571     -0.3545     0.7231      -2.4494      1.6999\n",
      "nongji          0.0000       0.0000      3.1508     0.0017       0.0000      0.0000\n",
      "rail           -8.8365       1.9082     -4.6309     0.0000     -12.5813     -5.0916\n",
      "deunggo         0.0828       0.0279      2.9644     0.0031       0.0280      0.1376\n",
      "gorani          0.5492       0.1698      3.2341     0.0013       0.2159      0.8824\n",
      "jokjebi        -1.7439       1.3101     -1.3311     0.1835      -4.3149      0.8272\n",
      "cat            -2.4959       0.8937     -2.7928     0.0053      -4.2499     -0.7420\n",
      "noru           -1.9088       1.2938     -1.4753     0.1405      -4.4479      0.6303\n",
      "chungsolmo     -1.7774       0.8834     -2.0121     0.0445      -3.5111     -0.0438\n",
      "osori          -1.5485       0.7579     -2.0431     0.0413      -3.0359     -0.0611\n",
      "nuguri          1.5944       0.4232      3.7672     0.0002       0.7638      2.4249\n",
      "wildboar        3.2207       0.2588     12.4451     0.0000       2.7128      3.7286\n",
      "digda           0.6832       0.5695      1.1996     0.2306      -0.4345      1.8009\n",
      "sanji           0.0000       0.0000      5.0461     0.0000       0.0000      0.0000\n",
      "-------------------------------------------------------------------------------\n",
      "Omnibus:                 180.931           Durbin-Watson:              0.316   \n",
      "Prob(Omnibus):           0.000             Jarque-Bera (JB):           315.419 \n",
      "Skew:                    1.182             Prob(JB):                   0.000   \n",
      "Kurtosis:                4.561             Condition No.:              88241529\n",
      "===============================================================================\n",
      "* The condition number is large (9e+07). This might indicate             strong\n",
      "multicollinearity or other numerical problems.\n"
     ]
    }
   ],
   "source": [
    "model = sm.OLS(y, X).fit()\n",
    "predictions = model.predict(X) \n",
    "print(model.summary2())"
   ]
  },
  {
   "cell_type": "code",
   "execution_count": 21,
   "metadata": {
    "scrolled": true
   },
   "outputs": [
    {
     "data": {
      "text/plain": [
       "16.058324496288442"
      ]
     },
     "execution_count": 21,
     "metadata": {},
     "output_type": "execute_result"
    }
   ],
   "source": [
    "input1_roadkill_mean = df['roadkill'].mean()\n",
    "input1_roadkill_mean"
   ]
  },
  {
   "cell_type": "code",
   "execution_count": 22,
   "metadata": {},
   "outputs": [
    {
     "name": "stdout",
     "output_type": "stream",
     "text": [
      "RMSE : 15.967257605281619\n"
     ]
    }
   ],
   "source": [
    "from statsmodels.tools.eval_measures import rmse\n",
    "\n",
    "\n",
    " \n",
    "\n",
    "RMSE = rmse(y, predictions)\n",
    "print('RMSE :', RMSE)"
   ]
  },
  {
   "cell_type": "markdown",
   "metadata": {},
   "source": [
    "## 아웃라이어제거 cooks distance"
   ]
  },
  {
   "cell_type": "code",
   "execution_count": 23,
   "metadata": {},
   "outputs": [
    {
     "ename": "NameError",
     "evalue": "name 'df_n' is not defined",
     "output_type": "error",
     "traceback": [
      "\u001b[1;31m---------------------------------------------------------------------------\u001b[0m",
      "\u001b[1;31mNameError\u001b[0m                                 Traceback (most recent call last)",
      "\u001b[1;32m<ipython-input-23-f609db544808>\u001b[0m in \u001b[0;36m<module>\u001b[1;34m\u001b[0m\n\u001b[1;32m----> 1\u001b[1;33m \u001b[0mdf_n\u001b[0m\u001b[1;33m\u001b[0m\u001b[1;33m\u001b[0m\u001b[0m\n\u001b[0m",
      "\u001b[1;31mNameError\u001b[0m: name 'df_n' is not defined"
     ]
    }
   ],
   "source": [
    "df_n"
   ]
  },
  {
   "cell_type": "code",
   "execution_count": 24,
   "metadata": {},
   "outputs": [],
   "source": [
    "influence_roadkill = model.get_influence()\n",
    "cooks_d2, pvals = influence_roadkill.cooks_distance\n",
    "outlier_check = cooks_d2.mean()*3"
   ]
  },
  {
   "cell_type": "code",
   "execution_count": 25,
   "metadata": {},
   "outputs": [],
   "source": [
    "df['cooks_d'] = cooks_d2\n",
    "df_n = df[lambda x : x['cooks_d'] < outlier_check]"
   ]
  },
  {
   "cell_type": "code",
   "execution_count": 26,
   "metadata": {},
   "outputs": [],
   "source": [
    "X = df_n[['sleep', 'restarea', 'temple', 'icjc', 'bridge', 'gas', 'traffic',\n",
    "       'sangtae', 'nongji', 'rail', 'deunggo', 'gorani', 'jokjebi', 'cat',\n",
    "       'noru', 'chungsolmo', 'osori', 'nuguri', 'wildboar', 'digda', 'sanji']]\n",
    "\n",
    "y= df_n['roadkill']"
   ]
  },
  {
   "cell_type": "code",
   "execution_count": 27,
   "metadata": {
    "scrolled": false
   },
   "outputs": [
    {
     "name": "stdout",
     "output_type": "stream",
     "text": [
      "                        Results: Ordinary least squares\n",
      "===============================================================================\n",
      "Model:                  OLS              Adj. R-squared (uncentered): 0.677    \n",
      "Dependent Variable:     roadkill         AIC:                         6843.8263\n",
      "Date:                   2020-08-20 08:57 BIC:                         6943.9164\n",
      "No. Observations:       868              Log-Likelihood:              -3400.9  \n",
      "Df Model:               21               F-statistic:                 87.69    \n",
      "Df Residuals:           847              Prob (F-statistic):          9.02e-196\n",
      "R-squared (uncentered): 0.685            Scale:                       151.84   \n",
      "-----------------------------------------------------------------------------------\n",
      "                Coef.      Std.Err.        t        P>|t|       [0.025       0.975]\n",
      "-----------------------------------------------------------------------------------\n",
      "sleep           1.9668       0.6040      3.2563     0.0012       0.7813      3.1522\n",
      "restarea        1.9201       0.6310      3.0432     0.0024       0.6817      3.1586\n",
      "temple         -0.3366       0.4823     -0.6980     0.4854      -1.2832      0.6100\n",
      "icjc           -2.0785       0.2951     -7.0422     0.0000      -2.6578     -1.4992\n",
      "bridge          0.2451       0.1718      1.4270     0.1540      -0.0920      0.5822\n",
      "gas             0.0408       0.0613      0.6651     0.5062      -0.0796      0.1612\n",
      "traffic         0.0001       0.0000      6.4878     0.0000       0.0001      0.0002\n",
      "sangtae         1.2958       0.9480      1.3670     0.1720      -0.5648      3.1564\n",
      "nongji          0.0000       0.0000      4.5302     0.0000       0.0000      0.0000\n",
      "rail           -6.8728       1.6484     -4.1694     0.0000     -10.1083     -3.6374\n",
      "deunggo         0.0433       0.0244      1.7773     0.0759      -0.0045      0.0912\n",
      "gorani          0.1996       0.1890      1.0562     0.2912      -0.1713      0.5706\n",
      "jokjebi        -2.7112       1.2236     -2.2158     0.0270      -5.1129     -0.3096\n",
      "cat            -5.5656       0.8842     -6.2944     0.0000      -7.3011     -3.8301\n",
      "noru           -2.1041       1.0200     -2.0629     0.0394      -4.1061     -0.1021\n",
      "chungsolmo     -1.7010       0.8083     -2.1045     0.0356      -3.2874     -0.1146\n",
      "osori          -1.0268       0.7746     -1.3256     0.1853      -2.5472      0.4936\n",
      "nuguri          1.7440       0.3474      5.0204     0.0000       1.0622      2.4258\n",
      "wildboar        3.7073       0.2510     14.7673     0.0000       3.2146      4.2001\n",
      "digda          -0.4409       0.5414     -0.8143     0.4157      -1.5036      0.6218\n",
      "sanji           0.0000       0.0000      6.4022     0.0000       0.0000      0.0000\n",
      "-------------------------------------------------------------------------------\n",
      "Omnibus:                 218.113           Durbin-Watson:              0.349   \n",
      "Prob(Omnibus):           0.000             Jarque-Bera (JB):           486.230 \n",
      "Skew:                    1.367             Prob(JB):                   0.000   \n",
      "Kurtosis:                5.443             Condition No.:              93513113\n",
      "===============================================================================\n",
      "* The condition number is large (9e+07). This might indicate             strong\n",
      "multicollinearity or other numerical problems.\n"
     ]
    }
   ],
   "source": [
    "model = sm.OLS(y, X).fit()\n",
    "predictions = model.predict(X) \n",
    "\n",
    "print(model.summary2())\n"
   ]
  },
  {
   "cell_type": "code",
   "execution_count": 28,
   "metadata": {},
   "outputs": [
    {
     "name": "stdout",
     "output_type": "stream",
     "text": [
      "RMSE : 12.172316083900817\n"
     ]
    }
   ],
   "source": [
    "RMSE = rmse(y, predictions)\n",
    "print('RMSE :', RMSE)"
   ]
  },
  {
   "cell_type": "code",
   "execution_count": 29,
   "metadata": {},
   "outputs": [
    {
     "data": {
      "text/plain": [
       "13.361751152073733"
      ]
     },
     "execution_count": 29,
     "metadata": {},
     "output_type": "execute_result"
    }
   ],
   "source": [
    "df_n['roadkill'].mean()"
   ]
  },
  {
   "cell_type": "code",
   "execution_count": 30,
   "metadata": {},
   "outputs": [],
   "source": [
    "df_n = df_n.drop(columns = 'cooks_d')"
   ]
  },
  {
   "cell_type": "code",
   "execution_count": 31,
   "metadata": {
    "scrolled": true
   },
   "outputs": [
    {
     "ename": "NameError",
     "evalue": "name 'plt' is not defined",
     "output_type": "error",
     "traceback": [
      "\u001b[1;31m---------------------------------------------------------------------------\u001b[0m",
      "\u001b[1;31mNameError\u001b[0m                                 Traceback (most recent call last)",
      "\u001b[1;32m<ipython-input-31-f1d2c81332c3>\u001b[0m in \u001b[0;36m<module>\u001b[1;34m\u001b[0m\n\u001b[1;32m----> 1\u001b[1;33m \u001b[0mcolormap\u001b[0m \u001b[1;33m=\u001b[0m \u001b[0mplt\u001b[0m\u001b[1;33m.\u001b[0m\u001b[0mcm\u001b[0m\u001b[1;33m.\u001b[0m\u001b[0mPuBu\u001b[0m\u001b[1;33m\u001b[0m\u001b[1;33m\u001b[0m\u001b[0m\n\u001b[0m\u001b[0;32m      2\u001b[0m \u001b[0mplt\u001b[0m\u001b[1;33m.\u001b[0m\u001b[0mfigure\u001b[0m\u001b[1;33m(\u001b[0m\u001b[0mfigsize\u001b[0m \u001b[1;33m=\u001b[0m \u001b[1;33m(\u001b[0m\u001b[1;36m15\u001b[0m\u001b[1;33m,\u001b[0m\u001b[1;36m15\u001b[0m\u001b[1;33m)\u001b[0m\u001b[1;33m)\u001b[0m\u001b[1;33m\u001b[0m\u001b[1;33m\u001b[0m\u001b[0m\n\u001b[0;32m      3\u001b[0m \u001b[0mplt\u001b[0m\u001b[1;33m.\u001b[0m\u001b[0mtitle\u001b[0m\u001b[1;33m(\u001b[0m\u001b[1;34m'상관관계 히트맵'\u001b[0m\u001b[1;33m,\u001b[0m \u001b[0my\u001b[0m \u001b[1;33m=\u001b[0m \u001b[1;36m1.1\u001b[0m\u001b[1;33m,\u001b[0m \u001b[0msize\u001b[0m \u001b[1;33m=\u001b[0m \u001b[1;36m20\u001b[0m\u001b[1;33m)\u001b[0m\u001b[1;33m\u001b[0m\u001b[1;33m\u001b[0m\u001b[0m\n\u001b[0;32m      4\u001b[0m sns.heatmap(df_n.astype(float).corr(),\n\u001b[0;32m      5\u001b[0m             \u001b[0mlinewidths\u001b[0m \u001b[1;33m=\u001b[0m \u001b[1;36m0.1\u001b[0m\u001b[1;33m,\u001b[0m\u001b[1;33m\u001b[0m\u001b[1;33m\u001b[0m\u001b[0m\n",
      "\u001b[1;31mNameError\u001b[0m: name 'plt' is not defined"
     ]
    }
   ],
   "source": [
    "colormap = plt.cm.PuBu\n",
    "plt.figure(figsize = (15,15))\n",
    "plt.title('상관관계 히트맵', y = 1.1, size = 20)\n",
    "sns.heatmap(df_n.astype(float).corr(),\n",
    "            linewidths = 0.1,\n",
    "            vmax = 1.0, square = True,\n",
    "            fmt = '.2f',\n",
    "            cmap = colormap,\n",
    "            annot = True,\n",
    "            linecolor = \"white\",\n",
    "            annot_kws = {\"size\" : 14})"
   ]
  },
  {
   "cell_type": "markdown",
   "metadata": {},
   "source": [
    "# 다중공선성 확인"
   ]
  },
  {
   "cell_type": "code",
   "execution_count": 32,
   "metadata": {
    "scrolled": false
   },
   "outputs": [
    {
     "data": {
      "text/html": [
       "<div>\n",
       "<style scoped>\n",
       "    .dataframe tbody tr th:only-of-type {\n",
       "        vertical-align: middle;\n",
       "    }\n",
       "\n",
       "    .dataframe tbody tr th {\n",
       "        vertical-align: top;\n",
       "    }\n",
       "\n",
       "    .dataframe thead th {\n",
       "        text-align: right;\n",
       "    }\n",
       "</style>\n",
       "<table border=\"1\" class=\"dataframe\">\n",
       "  <thead>\n",
       "    <tr style=\"text-align: right;\">\n",
       "      <th></th>\n",
       "      <th>VIF Factor</th>\n",
       "      <th>칼럼명</th>\n",
       "    </tr>\n",
       "  </thead>\n",
       "  <tbody>\n",
       "    <tr>\n",
       "      <th>0</th>\n",
       "      <td>12.171706</td>\n",
       "      <td>gorani</td>\n",
       "    </tr>\n",
       "    <tr>\n",
       "      <th>1</th>\n",
       "      <td>11.699386</td>\n",
       "      <td>bridge</td>\n",
       "    </tr>\n",
       "    <tr>\n",
       "      <th>2</th>\n",
       "      <td>10.523809</td>\n",
       "      <td>digda</td>\n",
       "    </tr>\n",
       "    <tr>\n",
       "      <th>3</th>\n",
       "      <td>10.071100</td>\n",
       "      <td>deunggo</td>\n",
       "    </tr>\n",
       "    <tr>\n",
       "      <th>4</th>\n",
       "      <td>8.992944</td>\n",
       "      <td>icjc</td>\n",
       "    </tr>\n",
       "    <tr>\n",
       "      <th>5</th>\n",
       "      <td>8.515419</td>\n",
       "      <td>sanji</td>\n",
       "    </tr>\n",
       "    <tr>\n",
       "      <th>6</th>\n",
       "      <td>8.452171</td>\n",
       "      <td>traffic</td>\n",
       "    </tr>\n",
       "    <tr>\n",
       "      <th>7</th>\n",
       "      <td>6.216977</td>\n",
       "      <td>chungsolmo</td>\n",
       "    </tr>\n",
       "    <tr>\n",
       "      <th>8</th>\n",
       "      <td>5.915977</td>\n",
       "      <td>osori</td>\n",
       "    </tr>\n",
       "    <tr>\n",
       "      <th>9</th>\n",
       "      <td>5.782427</td>\n",
       "      <td>cat</td>\n",
       "    </tr>\n",
       "    <tr>\n",
       "      <th>10</th>\n",
       "      <td>5.354260</td>\n",
       "      <td>jokjebi</td>\n",
       "    </tr>\n",
       "    <tr>\n",
       "      <th>11</th>\n",
       "      <td>4.563414</td>\n",
       "      <td>wildboar</td>\n",
       "    </tr>\n",
       "    <tr>\n",
       "      <th>12</th>\n",
       "      <td>3.185378</td>\n",
       "      <td>nuguri</td>\n",
       "    </tr>\n",
       "    <tr>\n",
       "      <th>13</th>\n",
       "      <td>3.142560</td>\n",
       "      <td>sangtae</td>\n",
       "    </tr>\n",
       "    <tr>\n",
       "      <th>14</th>\n",
       "      <td>2.988588</td>\n",
       "      <td>rail</td>\n",
       "    </tr>\n",
       "    <tr>\n",
       "      <th>15</th>\n",
       "      <td>2.336423</td>\n",
       "      <td>noru</td>\n",
       "    </tr>\n",
       "    <tr>\n",
       "      <th>16</th>\n",
       "      <td>1.868571</td>\n",
       "      <td>gas</td>\n",
       "    </tr>\n",
       "    <tr>\n",
       "      <th>17</th>\n",
       "      <td>1.426092</td>\n",
       "      <td>temple</td>\n",
       "    </tr>\n",
       "    <tr>\n",
       "      <th>18</th>\n",
       "      <td>1.380758</td>\n",
       "      <td>nongji</td>\n",
       "    </tr>\n",
       "    <tr>\n",
       "      <th>19</th>\n",
       "      <td>1.237566</td>\n",
       "      <td>restarea</td>\n",
       "    </tr>\n",
       "    <tr>\n",
       "      <th>20</th>\n",
       "      <td>1.196435</td>\n",
       "      <td>sleep</td>\n",
       "    </tr>\n",
       "  </tbody>\n",
       "</table>\n",
       "</div>"
      ],
      "text/plain": [
       "    VIF Factor         칼럼명\n",
       "0    12.171706      gorani\n",
       "1    11.699386      bridge\n",
       "2    10.523809       digda\n",
       "3    10.071100     deunggo\n",
       "4     8.992944        icjc\n",
       "5     8.515419       sanji\n",
       "6     8.452171     traffic\n",
       "7     6.216977  chungsolmo\n",
       "8     5.915977       osori\n",
       "9     5.782427         cat\n",
       "10    5.354260     jokjebi\n",
       "11    4.563414    wildboar\n",
       "12    3.185378      nuguri\n",
       "13    3.142560     sangtae\n",
       "14    2.988588        rail\n",
       "15    2.336423        noru\n",
       "16    1.868571         gas\n",
       "17    1.426092      temple\n",
       "18    1.380758      nongji\n",
       "19    1.237566    restarea\n",
       "20    1.196435       sleep"
      ]
     },
     "execution_count": 32,
     "metadata": {},
     "output_type": "execute_result"
    }
   ],
   "source": [
    "from statsmodels.stats.outliers_influence import variance_inflation_factor\n",
    "\n",
    "vif = pd.DataFrame()\n",
    "vif[\"VIF Factor\"] = [variance_inflation_factor(X.values, i) for i in range(X.shape[1])]\n",
    "vif[\"칼럼명\"] = X.columns\n",
    "vif = vif.sort_values(by = ['VIF Factor'], ascending = False) #vif 클수록 다른 변수에 의존적\n",
    "vif = vif.reset_index(drop = True)\n",
    "vif"
   ]
  },
  {
   "cell_type": "code",
   "execution_count": 33,
   "metadata": {
    "scrolled": false
   },
   "outputs": [],
   "source": [
    "# 일반적으로 판단하는 기준인 VIF 10 이상 변수가 없으니 제거 X"
   ]
  },
  {
   "cell_type": "markdown",
   "metadata": {},
   "source": [
    "## rmse기준으로 회귀 모델의 예측 성능을 높이자"
   ]
  },
  {
   "cell_type": "markdown",
   "metadata": {},
   "source": [
    "# 예측 모델1 -  릿지회귀"
   ]
  },
  {
   "cell_type": "code",
   "execution_count": 34,
   "metadata": {},
   "outputs": [],
   "source": [
    "from sklearn.linear_model import Ridge\n",
    "from sklearn.model_selection import train_test_split\n",
    "from sklearn.metrics import mean_squared_error\n",
    "from math import sqrt"
   ]
  },
  {
   "cell_type": "code",
   "execution_count": 35,
   "metadata": {},
   "outputs": [],
   "source": [
    "xtrain, xtest, ytrain, ytest=train_test_split(X, y, test_size=0.3, random_state = 0)"
   ]
  },
  {
   "cell_type": "code",
   "execution_count": 36,
   "metadata": {
    "scrolled": true
   },
   "outputs": [
    {
     "name": "stdout",
     "output_type": "stream",
     "text": [
      "train 데이터 R^2 : 0.49\n",
      "test 데이터 R^2 : 0.53\n",
      "[ 1.73726110e+00  9.98840727e-01 -5.77040768e-01 -1.89653080e+00\n",
      " -4.05458451e-02 -1.25373540e-02  1.62128885e-04  1.34673279e+00\n",
      "  9.55669070e-08 -6.01677670e+00 -1.36850288e-01  2.36833755e-01\n",
      " -2.16889897e+00 -6.32815505e+00 -2.13290069e+00 -3.01983021e+00\n",
      "  1.44549748e-01  4.44064864e-01  3.81725033e+00 -3.10306063e-01\n",
      "  3.79613363e-07]\n",
      "RMSE :  12.606879109046417\n"
     ]
    }
   ],
   "source": [
    "ridge001 = Ridge(alpha = 0.01).fit(xtrain, ytrain)\n",
    "print('train 데이터 R^2 : {:.2f}'.format(ridge001.score(xtrain, ytrain)))\n",
    "print('test 데이터 R^2 : {:.2f}'.format(ridge001.score(xtest, ytest)))\n",
    "pred = ridge001.predict(xtest)\n",
    "rmse = np.sqrt(mean_squared_error(ytest,pred)) \n",
    "print(ridge001.coef_)\n",
    "print('RMSE : ',rmse)"
   ]
  },
  {
   "cell_type": "code",
   "execution_count": 37,
   "metadata": {},
   "outputs": [
    {
     "name": "stdout",
     "output_type": "stream",
     "text": [
      "train 데이터 R^2 : 0.49\n",
      "test 데이터 R^2 : 0.53\n",
      "[ 1.73669075e+00  9.98625904e-01 -5.77092729e-01 -1.89639953e+00\n",
      " -4.09665342e-02 -1.25290959e-02  1.62089958e-04  1.34558933e+00\n",
      "  9.56074536e-08 -6.00370756e+00 -1.36798002e-01  2.36928040e-01\n",
      " -2.17060625e+00 -6.32373359e+00 -2.13060035e+00 -3.01804376e+00\n",
      "  1.42682077e-01  4.43445244e-01  3.81689510e+00 -3.11283440e-01\n",
      "  3.79529119e-07]\n",
      "RMSE :  12.606581761024085\n"
     ]
    }
   ],
   "source": [
    "ridge01 = Ridge(alpha = 0.1).fit(xtrain, ytrain) # alpha클수록 계수 0에 가까워짐.(제약 심함) -> train세트 성능은 나빠지지만 일반화는 올라감\n",
    "print('train 데이터 R^2 : {:.2f}'.format(ridge01.score(xtrain, ytrain)))\n",
    "print('test 데이터 R^2 : {:.2f}'.format(ridge01.score(xtest, ytest)))\n",
    "pred = ridge01.predict(xtest)\n",
    "rmse = np.sqrt(mean_squared_error(ytest,pred)) \n",
    "print(ridge01.coef_)\n",
    "print('RMSE : ',rmse)"
   ]
  },
  {
   "cell_type": "code",
   "execution_count": 38,
   "metadata": {
    "scrolled": true
   },
   "outputs": [
    {
     "name": "stdout",
     "output_type": "stream",
     "text": [
      "train 데이터 R^2 : 0.49\n",
      "test 데이터 R^2 : 0.53\n",
      "[ 1.73415768e+00  9.97670506e-01 -5.77315488e-01 -1.89581727e+00\n",
      " -4.28203006e-02 -1.24928445e-02  1.61917136e-04  1.34049756e+00\n",
      "  9.57859061e-08 -5.94640265e+00 -1.36568043e-01  2.37349500e-01\n",
      " -2.17793823e+00 -6.30418158e+00 -2.12043950e+00 -3.01013612e+00\n",
      "  1.34421473e-01  4.40705812e-01  3.81531822e+00 -3.15606675e-01\n",
      "  3.79158419e-07]\n",
      "RMSE :  12.605277634059501\n"
     ]
    }
   ],
   "source": [
    "ridge05 = Ridge(alpha = 0.5).fit(xtrain, ytrain)\n",
    "print('train 데이터 R^2 : {:.2f}'.format(ridge05.score(xtrain, ytrain)))\n",
    "print('test 데이터 R^2 : {:.2f}'.format(ridge05.score(xtest, ytest)))\n",
    "pred = ridge05.predict(xtest)\n",
    "rmse = np.sqrt(mean_squared_error(ytest,pred)) \n",
    "print(ridge05.coef_)\n",
    "print('RMSE : ',rmse)"
   ]
  },
  {
   "cell_type": "code",
   "execution_count": 39,
   "metadata": {
    "scrolled": true
   },
   "outputs": [
    {
     "name": "stdout",
     "output_type": "stream",
     "text": [
      "train 데이터 R^2 : 0.49\n",
      "test 데이터 R^2 : 0.53\n",
      "[ 1.73099571e+00  9.96475020e-01 -5.77575666e-01 -1.89509214e+00\n",
      " -4.51017665e-02 -1.24485417e-02  1.61701560e-04  1.33411326e+00\n",
      "  9.60050408e-08 -5.87651243e+00 -1.36286024e-01  2.37881553e-01\n",
      " -2.18653646e+00 -6.27996530e+00 -2.10788090e+00 -3.00032490e+00\n",
      "  1.24187763e-01  4.37314303e-01  3.81335167e+00 -3.20963617e-01\n",
      "  3.78703365e-07]\n",
      "RMSE :  12.603686309105415\n"
     ]
    }
   ],
   "source": [
    "ridge1 = Ridge(alpha = 1).fit(xtrain, ytrain)\n",
    "print('train 데이터 R^2 : {:.2f}'.format(ridge1.score(xtrain, ytrain)))\n",
    "print('test 데이터 R^2 : {:.2f}'.format(ridge1.score(xtest, ytest)))\n",
    "pred = ridge1.predict(xtest)\n",
    "rmse = np.sqrt(mean_squared_error(ytest,pred)) \n",
    "print(ridge1.coef_)\n",
    "print('RMSE : ',rmse)"
   ]
  },
  {
   "cell_type": "code",
   "execution_count": 40,
   "metadata": {
    "scrolled": true
   },
   "outputs": [
    {
     "name": "stdout",
     "output_type": "stream",
     "text": [
      "----------------------------------------------------------------------------------------------------\n"
     ]
    },
    {
     "ename": "TypeError",
     "evalue": "Adj_r2() takes 2 positional arguments but 3 were given",
     "output_type": "error",
     "traceback": [
      "\u001b[1;31m---------------------------------------------------------------------------\u001b[0m",
      "\u001b[1;31mTypeError\u001b[0m                                 Traceback (most recent call last)",
      "\u001b[1;32m<ipython-input-40-da787c69046c>\u001b[0m in \u001b[0;36m<module>\u001b[1;34m\u001b[0m\n\u001b[0;32m      3\u001b[0m \u001b[0mprint\u001b[0m\u001b[1;33m(\u001b[0m\u001b[1;34m'-'\u001b[0m\u001b[1;33m*\u001b[0m\u001b[1;36m100\u001b[0m\u001b[1;33m)\u001b[0m\u001b[1;33m\u001b[0m\u001b[1;33m\u001b[0m\u001b[0m\n\u001b[0;32m      4\u001b[0m \u001b[0mr2\u001b[0m \u001b[1;33m=\u001b[0m \u001b[0mridge\u001b[0m\u001b[1;33m.\u001b[0m\u001b[0mscore\u001b[0m\u001b[1;33m(\u001b[0m\u001b[0mxtest\u001b[0m\u001b[1;33m,\u001b[0m \u001b[0mytest\u001b[0m\u001b[1;33m)\u001b[0m\u001b[1;33m\u001b[0m\u001b[1;33m\u001b[0m\u001b[0m\n\u001b[1;32m----> 5\u001b[1;33m \u001b[0mA_r2\u001b[0m \u001b[1;33m=\u001b[0m \u001b[0mAdj_r2\u001b[0m\u001b[1;33m(\u001b[0m\u001b[0mlen\u001b[0m\u001b[1;33m(\u001b[0m\u001b[0mxtest\u001b[0m\u001b[1;33m)\u001b[0m\u001b[1;33m,\u001b[0m\u001b[0mlen\u001b[0m\u001b[1;33m(\u001b[0m\u001b[0mxtest\u001b[0m\u001b[1;33m.\u001b[0m\u001b[0mcolumns\u001b[0m\u001b[1;33m)\u001b[0m\u001b[1;33m,\u001b[0m\u001b[0mr2\u001b[0m\u001b[1;33m)\u001b[0m\u001b[1;33m\u001b[0m\u001b[1;33m\u001b[0m\u001b[0m\n\u001b[0m\u001b[0;32m      6\u001b[0m \u001b[0mprint\u001b[0m\u001b[1;33m(\u001b[0m\u001b[1;34m'모델의 Adjusted R^2 : {:.2f}'\u001b[0m\u001b[1;33m.\u001b[0m\u001b[0mformat\u001b[0m\u001b[1;33m(\u001b[0m\u001b[0mA_r2\u001b[0m\u001b[1;33m)\u001b[0m\u001b[1;33m)\u001b[0m\u001b[1;33m\u001b[0m\u001b[1;33m\u001b[0m\u001b[0m\n\u001b[0;32m      7\u001b[0m \u001b[1;33m\u001b[0m\u001b[0m\n",
      "\u001b[1;31mTypeError\u001b[0m: Adj_r2() takes 2 positional arguments but 3 were given"
     ]
    }
   ],
   "source": [
    "ridge = Ridge(alpha = 20).fit(xtrain, ytrain)\n",
    "\n",
    "print('-'*100)\n",
    "r2 = ridge.score(xtest, ytest)\n",
    "A_r2 = Adj_r2(len(xtest),len(xtest.columns),r2)\n",
    "print('모델의 Adjusted R^2 : {:.2f}'.format(A_r2))\n",
    "\n",
    "print('-'*100)\n",
    "\n",
    "pred = ridge.predict(xtest)\n",
    "rmse = np.sqrt(mean_squared_error(ytest,pred)) \n",
    "\n",
    "\n",
    "print('변수별 회귀 계수 : ', ridge.coef_)\n",
    "print('-'*100)\n",
    "print('예측 RMSE : ',rmse)"
   ]
  },
  {
   "cell_type": "code",
   "execution_count": 41,
   "metadata": {},
   "outputs": [
    {
     "name": "stdout",
     "output_type": "stream",
     "text": [
      "----------------------------------------------------------------------------------------------------\n",
      "모델의 Adjusted R^2 : 0.49\n",
      "----------------------------------------------------------------------------------------------------\n",
      "변수별 회귀 계수 :  [ 1.62764631e+00  9.56412280e-01 -5.78373189e-01 -1.87240568e+00\n",
      " -1.06247077e-01 -1.14107995e-02  1.54775573e-04  1.12242282e+00\n",
      "  1.01638325e-07 -4.25923357e+00 -1.29208170e-01  2.57157412e-01\n",
      " -2.25987926e+00 -5.57482727e+00 -1.75719697e+00 -2.70920107e+00\n",
      " -1.67420557e-01  3.40019236e-01  3.75006249e+00 -4.75842032e-01\n",
      "  3.67080041e-07]\n",
      "----------------------------------------------------------------------------------------------------\n",
      "예측 RMSE :  12.567076342142965\n"
     ]
    }
   ],
   "source": [
    "ridge = Ridge(alpha = 18).fit(xtrain, ytrain)\n",
    "print('-'*100)\n",
    "r2 = ridge.score(xtest, ytest)\n",
    "A_r2 = Adj_r2(xtest, r2)\n",
    "print('모델의 Adjusted R^2 : {:.2f}'.format(A_r2))\n",
    "print('-'*100)\n",
    "pred = ridge.predict(xtest)\n",
    "rmse = np.sqrt(mean_squared_error(ytest,pred)) \n",
    "print('변수별 회귀 계수 : ', ridge.coef_)\n",
    "print('-'*100)\n",
    "print('예측 RMSE : ',rmse)"
   ]
  },
  {
   "cell_type": "code",
   "execution_count": null,
   "metadata": {},
   "outputs": [],
   "source": []
  },
  {
   "cell_type": "code",
   "execution_count": null,
   "metadata": {},
   "outputs": [],
   "source": []
  },
  {
   "cell_type": "code",
   "execution_count": 42,
   "metadata": {},
   "outputs": [
    {
     "data": {
      "text/plain": [
       "13.361751152073733"
      ]
     },
     "execution_count": 42,
     "metadata": {},
     "output_type": "execute_result"
    }
   ],
   "source": [
    "df_n['roadkill'].mean()"
   ]
  },
  {
   "cell_type": "markdown",
   "metadata": {},
   "source": [
    "# 예측 모델 - 2. 라쏘회귀"
   ]
  },
  {
   "cell_type": "code",
   "execution_count": 43,
   "metadata": {},
   "outputs": [
    {
     "name": "stdout",
     "output_type": "stream",
     "text": [
      "train 데이터 R^2 : 0.49\n",
      "test 데이터 R^2 : 0.53\n",
      "[ 1.73496642e+00  9.96548272e-01 -5.76147017e-01 -1.89635062e+00\n",
      " -4.08114834e-02 -1.25509838e-02  1.62085721e-04  1.34143354e+00\n",
      "  9.56166132e-08 -6.00712086e+00 -1.36833721e-01  2.37071239e-01\n",
      " -2.16300463e+00 -6.32391560e+00 -2.12533251e+00 -3.01572607e+00\n",
      "  1.37864975e-01  4.41927620e-01  3.81676908e+00 -3.10347960e-01\n",
      "  3.79422955e-07]\n"
     ]
    }
   ],
   "source": [
    "from sklearn.linear_model import Lasso\n",
    "lasso0001 = Lasso(alpha = 0.001,max_iter = 100000).fit(xtrain, ytrain)\n",
    "print('train 데이터 R^2 : {:.2f}'.format(lasso0001.score(xtrain, ytrain)))\n",
    "print('test 데이터 R^2 : {:.2f}'.format(lasso0001.score(xtest, ytest)))\n",
    "print(lasso0001.coef_)"
   ]
  },
  {
   "cell_type": "code",
   "execution_count": 44,
   "metadata": {},
   "outputs": [
    {
     "name": "stdout",
     "output_type": "stream",
     "text": [
      "train 데이터 R^2 : 0.49\n",
      "test 데이터 R^2 : 0.54\n",
      "[ 1.51176450e+00  7.87903274e-01 -5.04298794e-01 -1.91432994e+00\n",
      " -7.03987466e-02 -1.32229758e-02  1.57311093e-04  7.28276836e-01\n",
      "  1.00070622e-07 -4.87381307e+00 -1.38339009e-01  2.36602708e-01\n",
      " -1.65439446e+00 -6.02942006e+00 -1.37063821e+00 -2.72516165e+00\n",
      " -0.00000000e+00  1.96142131e-01  3.78444642e+00 -3.42511476e-01\n",
      "  3.66194808e-07]\n"
     ]
    }
   ],
   "source": [
    "lasso01 = Lasso(alpha = 0.1,max_iter = 100000).fit(xtrain, ytrain)\n",
    "print('train 데이터 R^2 : {:.2f}'.format(lasso01.score(xtrain, ytrain)))\n",
    "print('test 데이터 R^2 : {:.2f}'.format(lasso01.score(xtest, ytest)))\n",
    "print(lasso01.coef_)"
   ]
  },
  {
   "cell_type": "code",
   "execution_count": 45,
   "metadata": {},
   "outputs": [
    {
     "name": "stdout",
     "output_type": "stream",
     "text": [
      "train 데이터 R^2 : 0.46\n",
      "test 데이터 R^2 : 0.53\n",
      "[ 5.95887442e-01  0.00000000e+00 -1.22250816e-01 -2.01599717e+00\n",
      " -2.46025226e-01 -2.68259029e-02  1.31991929e-04  0.00000000e+00\n",
      "  1.22899526e-07 -1.65068778e-01 -1.16150432e-01  1.49124938e-01\n",
      " -4.53758322e-01 -5.05458635e+00 -0.00000000e+00 -2.04998623e+00\n",
      " -0.00000000e+00 -0.00000000e+00  3.71333984e+00 -3.70224932e-01\n",
      "  3.39490360e-07]\n"
     ]
    }
   ],
   "source": [
    "lasso05 = Lasso(alpha = 0.5,max_iter = 100000).fit(xtrain, ytrain)\n",
    "print('train 데이터 R^2 : {:.2f}'.format(lasso05.score(xtrain, ytrain)))\n",
    "print('test 데이터 R^2 : {:.2f}'.format(lasso05.score(xtest, ytest)))\n",
    "print(lasso05.coef_)"
   ]
  },
  {
   "cell_type": "code",
   "execution_count": 46,
   "metadata": {
    "scrolled": true
   },
   "outputs": [
    {
     "name": "stdout",
     "output_type": "stream",
     "text": [
      "train 데이터 R^2 : 0.44\n",
      "test 데이터 R^2 : 0.52\n",
      "[ 0.00000000e+00  0.00000000e+00 -0.00000000e+00 -2.01595743e+00\n",
      " -3.43932764e-01 -1.89202487e-02  9.35952991e-05 -0.00000000e+00\n",
      "  1.38392289e-07 -0.00000000e+00 -1.05122899e-01  5.19410206e-02\n",
      " -0.00000000e+00 -3.34894291e+00 -0.00000000e+00 -9.40935144e-01\n",
      " -0.00000000e+00 -0.00000000e+00  3.58780347e+00 -2.46400044e-01\n",
      "  3.26583862e-07]\n"
     ]
    }
   ],
   "source": [
    "lasso1 = Lasso(alpha = 1,max_iter = 100000).fit(xtrain, ytrain)\n",
    "print('train 데이터 R^2 : {:.2f}'.format(lasso1.score(xtrain, ytrain)))\n",
    "print('test 데이터 R^2 : {:.2f}'.format(lasso1.score(xtest, ytest)))\n",
    "print(lasso1.coef_)"
   ]
  },
  {
   "cell_type": "code",
   "execution_count": 47,
   "metadata": {
    "scrolled": true
   },
   "outputs": [
    {
     "name": "stdout",
     "output_type": "stream",
     "text": [
      "----------------------------------------------------------------------------------------------------\n",
      "모델의 Adjusted R^2 : 0.49\n",
      "----------------------------------------------------------------------------------------------------\n",
      "변수별 회귀 계수 :  [ 1.17126293e+00  4.80581225e-01 -3.86553901e-01 -1.95279578e+00\n",
      " -1.16678985e-01 -1.71797431e-02  1.48950652e-04  0.00000000e+00\n",
      "  1.08752164e-07 -3.14021421e+00 -1.33800482e-01  2.15032273e-01\n",
      " -1.03696175e+00 -5.65989512e+00 -4.97993625e-01 -2.39138166e+00\n",
      " -0.00000000e+00  0.00000000e+00  3.74864067e+00 -3.85354956e-01\n",
      "  3.52906874e-07]\n",
      "----------------------------------------------------------------------------------------------------\n",
      "예측 RMSE :  12.565480924059312\n"
     ]
    }
   ],
   "source": [
    "lasso = Lasso(alpha = 0.25,max_iter = 10000).fit(xtrain, ytrain)\n",
    "print('-'*100)\n",
    "r2 = lasso.score(xtest, ytest)\n",
    "A_r2 = Adj_r2(xtest, r2)\n",
    "print('모델의 Adjusted R^2 : {:.2f}'.format(A_r2))\n",
    "print('-'*100)\n",
    "pred = lasso.predict(xtest)\n",
    "rmse = np.sqrt(mean_squared_error(ytest,pred)) \n",
    "print('변수별 회귀 계수 : ', lasso.coef_)\n",
    "print('-'*100)\n",
    "print('예측 RMSE : ',rmse)"
   ]
  },
  {
   "cell_type": "code",
   "execution_count": null,
   "metadata": {},
   "outputs": [],
   "source": []
  },
  {
   "cell_type": "code",
   "execution_count": null,
   "metadata": {},
   "outputs": [],
   "source": []
  },
  {
   "cell_type": "markdown",
   "metadata": {},
   "source": [
    "# 예측 모델 - 3. Decision Tree"
   ]
  },
  {
   "cell_type": "code",
   "execution_count": 48,
   "metadata": {},
   "outputs": [],
   "source": [
    "# Adjusted R2 계산 함수\n",
    "def Adj_r2(r2):\n",
    "    Adj_r2 = 1-(1-r2)*(len(df_n)-1)/(len(df_n)-len(X.columns)-1)\n",
    "    return Adj_r2"
   ]
  },
  {
   "cell_type": "code",
   "execution_count": 49,
   "metadata": {},
   "outputs": [],
   "source": [
    "from sklearn.tree import DecisionTreeRegressor"
   ]
  },
  {
   "cell_type": "code",
   "execution_count": 50,
   "metadata": {},
   "outputs": [],
   "source": [
    "from sklearn.model_selection import GridSearchCV"
   ]
  },
  {
   "cell_type": "code",
   "execution_count": 51,
   "metadata": {},
   "outputs": [
    {
     "data": {
      "text/plain": [
       "GridSearchCV(cv=10, error_score=nan,\n",
       "             estimator=DecisionTreeRegressor(ccp_alpha=0.0, criterion='mse',\n",
       "                                             max_depth=None, max_features=None,\n",
       "                                             max_leaf_nodes=None,\n",
       "                                             min_impurity_decrease=0.0,\n",
       "                                             min_impurity_split=None,\n",
       "                                             min_samples_leaf=1,\n",
       "                                             min_samples_split=2,\n",
       "                                             min_weight_fraction_leaf=0.0,\n",
       "                                             presort='deprecated',\n",
       "                                             random_state=0, splitter='best'),\n",
       "             iid='deprecated', n_jobs=None,\n",
       "             param_grid={'max_depth': range(2, 20, 2), 'random_state': [0]},\n",
       "             pre_dispatch='2*n_jobs', refit=True, return_train_score=True,\n",
       "             scoring='neg_mean_squared_error', verbose=0)"
      ]
     },
     "execution_count": 51,
     "metadata": {},
     "output_type": "execute_result"
    }
   ],
   "source": [
    "# Before fitting regression model, find optimal parameters of model.\n",
    "\n",
    "from sklearn.model_selection import GridSearchCV\n",
    "\n",
    "param_grid = {'max_depth': range(2, 20, 2), 'random_state':[0]}\n",
    "dt_reg = DecisionTreeRegressor(random_state = 0)\n",
    "grid_search = GridSearchCV(dt_reg, param_grid, cv=10,\n",
    "                           scoring='neg_mean_squared_error',\n",
    "                           return_train_score=True)\n",
    "grid_search.fit(X,y)"
   ]
  },
  {
   "cell_type": "code",
   "execution_count": 52,
   "metadata": {},
   "outputs": [
    {
     "name": "stdout",
     "output_type": "stream",
     "text": [
      "{'max_depth': 4, 'random_state': 0}\n"
     ]
    }
   ],
   "source": [
    "print(grid_search.best_params_)"
   ]
  },
  {
   "cell_type": "code",
   "execution_count": 53,
   "metadata": {},
   "outputs": [
    {
     "name": "stdout",
     "output_type": "stream",
     "text": [
      "DecisionTreeRegressor(ccp_alpha=0.0, criterion='mse', max_depth=4,\n",
      "                      max_features=None, max_leaf_nodes=None,\n",
      "                      min_impurity_decrease=0.0, min_impurity_split=None,\n",
      "                      min_samples_leaf=1, min_samples_split=2,\n",
      "                      min_weight_fraction_leaf=0.0, presort='deprecated',\n",
      "                      random_state=0, splitter='best')\n"
     ]
    }
   ],
   "source": [
    "best_estim=grid_search.best_estimator_\n",
    "print(best_estim)"
   ]
  },
  {
   "cell_type": "code",
   "execution_count": 54,
   "metadata": {},
   "outputs": [],
   "source": [
    "# 따라서 최적의 모델은\n",
    "tree_reg = best_estim"
   ]
  },
  {
   "cell_type": "code",
   "execution_count": 55,
   "metadata": {},
   "outputs": [
    {
     "name": "stdout",
     "output_type": "stream",
     "text": [
      "K-fold CV average score (by RMSE): 13.09\n"
     ]
    }
   ],
   "source": [
    "tree_reg.fit(xtrain, ytrain)\n",
    "\n",
    "# K-fold - decision tree\n",
    "from sklearn.model_selection import cross_val_score\n",
    "from sklearn.model_selection import KFold\n",
    "kfold = KFold(n_splits=5, shuffle=True) # K-fold 5개로 분할\n",
    "\n",
    "scores = cross_val_score(tree_reg, xtrain, ytrain, cv=kfold, scoring = 'neg_mean_squared_error')\n",
    "kf_cv_scores = -scores\n",
    "kf_cv_scores = np.sqrt(kf_cv_scores)\n",
    "kf_cv_scores = kf_cv_scores.mean()\n",
    "print(\"K-fold CV average score (by RMSE): %.2f\" % kf_cv_scores)\n"
   ]
  },
  {
   "cell_type": "code",
   "execution_count": 56,
   "metadata": {},
   "outputs": [
    {
     "ename": "TypeError",
     "evalue": "Adj_r2() takes 1 positional argument but 3 were given",
     "output_type": "error",
     "traceback": [
      "\u001b[1;31m---------------------------------------------------------------------------\u001b[0m",
      "\u001b[1;31mTypeError\u001b[0m                                 Traceback (most recent call last)",
      "\u001b[1;32m<ipython-input-56-c80533a8505a>\u001b[0m in \u001b[0;36m<module>\u001b[1;34m\u001b[0m\n\u001b[0;32m      4\u001b[0m \u001b[0mmse\u001b[0m \u001b[1;33m=\u001b[0m \u001b[0mmean_squared_error\u001b[0m\u001b[1;33m(\u001b[0m\u001b[0mytest\u001b[0m\u001b[1;33m,\u001b[0m\u001b[0mypred\u001b[0m\u001b[1;33m)\u001b[0m\u001b[1;33m\u001b[0m\u001b[1;33m\u001b[0m\u001b[0m\n\u001b[0;32m      5\u001b[0m \u001b[0mr2\u001b[0m \u001b[1;33m=\u001b[0m \u001b[0mr2_score\u001b[0m\u001b[1;33m(\u001b[0m\u001b[0mytest\u001b[0m\u001b[1;33m,\u001b[0m \u001b[0mypred\u001b[0m\u001b[1;33m)\u001b[0m\u001b[1;33m\u001b[0m\u001b[1;33m\u001b[0m\u001b[0m\n\u001b[1;32m----> 6\u001b[1;33m \u001b[0mA_r2\u001b[0m \u001b[1;33m=\u001b[0m \u001b[0mAdj_r2\u001b[0m\u001b[1;33m(\u001b[0m\u001b[0mlen\u001b[0m\u001b[1;33m(\u001b[0m\u001b[0mX\u001b[0m\u001b[1;33m)\u001b[0m\u001b[1;33m,\u001b[0m\u001b[0mlen\u001b[0m\u001b[1;33m(\u001b[0m\u001b[0mX\u001b[0m\u001b[1;33m.\u001b[0m\u001b[0mcolumns\u001b[0m\u001b[1;33m)\u001b[0m\u001b[1;33m,\u001b[0m\u001b[0mr2\u001b[0m\u001b[1;33m)\u001b[0m\u001b[1;33m\u001b[0m\u001b[1;33m\u001b[0m\u001b[0m\n\u001b[0m\u001b[0;32m      7\u001b[0m \u001b[1;33m\u001b[0m\u001b[0m\n\u001b[0;32m      8\u001b[0m \u001b[1;33m\u001b[0m\u001b[0m\n",
      "\u001b[1;31mTypeError\u001b[0m: Adj_r2() takes 1 positional argument but 3 were given"
     ]
    }
   ],
   "source": [
    "# hold-out(test셋에) 대해 prediction\n",
    "from sklearn.metrics import r2_score\n",
    "ypred = tree_reg.predict(xtest)\n",
    "mse = mean_squared_error(ytest,ypred)\n",
    "r2 = r2_score(ytest, ypred)\n",
    "A_r2 = Adj_r2(len(X),len(X.columns),r2)\n",
    "\n",
    "\n",
    "\n",
    "print(\"Adjusted R^2: %.2f\" % A_r2)\n",
    "print(\"RMSE: %.2f\" % np.sqrt(mse))"
   ]
  },
  {
   "cell_type": "code",
   "execution_count": 57,
   "metadata": {},
   "outputs": [],
   "source": [
    "input5_dt_rmse = 0.28\n",
    "input5_dt_Ar2 = 15.17"
   ]
  },
  {
   "cell_type": "code",
   "execution_count": 58,
   "metadata": {
    "scrolled": true
   },
   "outputs": [
    {
     "ename": "NameError",
     "evalue": "name 'plt' is not defined",
     "output_type": "error",
     "traceback": [
      "\u001b[1;31m---------------------------------------------------------------------------\u001b[0m",
      "\u001b[1;31mNameError\u001b[0m                                 Traceback (most recent call last)",
      "\u001b[1;32m<ipython-input-58-558432685ee1>\u001b[0m in \u001b[0;36m<module>\u001b[1;34m\u001b[0m\n\u001b[0;32m      6\u001b[0m \u001b[0msorted_idx\u001b[0m \u001b[1;33m=\u001b[0m \u001b[0mnp\u001b[0m\u001b[1;33m.\u001b[0m\u001b[0margsort\u001b[0m\u001b[1;33m(\u001b[0m\u001b[0mfeatureImportance\u001b[0m\u001b[1;33m)\u001b[0m\u001b[1;33m\u001b[0m\u001b[1;33m\u001b[0m\u001b[0m\n\u001b[0;32m      7\u001b[0m \u001b[0mbarPos\u001b[0m \u001b[1;33m=\u001b[0m \u001b[0mnp\u001b[0m\u001b[1;33m.\u001b[0m\u001b[0marange\u001b[0m\u001b[1;33m(\u001b[0m\u001b[0msorted_idx\u001b[0m\u001b[1;33m.\u001b[0m\u001b[0mshape\u001b[0m\u001b[1;33m[\u001b[0m\u001b[1;36m0\u001b[0m\u001b[1;33m]\u001b[0m\u001b[1;33m)\u001b[0m\u001b[1;33m+\u001b[0m\u001b[1;36m.5\u001b[0m\u001b[1;33m\u001b[0m\u001b[1;33m\u001b[0m\u001b[0m\n\u001b[1;32m----> 8\u001b[1;33m \u001b[0mplt\u001b[0m\u001b[1;33m.\u001b[0m\u001b[0mbarh\u001b[0m\u001b[1;33m(\u001b[0m\u001b[0mbarPos\u001b[0m\u001b[1;33m,\u001b[0m \u001b[0mfeatureImportance\u001b[0m\u001b[1;33m[\u001b[0m\u001b[0msorted_idx\u001b[0m\u001b[1;33m]\u001b[0m\u001b[1;33m,\u001b[0m \u001b[0malign\u001b[0m\u001b[1;33m=\u001b[0m\u001b[1;34m'center'\u001b[0m\u001b[1;33m)\u001b[0m\u001b[1;33m\u001b[0m\u001b[1;33m\u001b[0m\u001b[0m\n\u001b[0m\u001b[0;32m      9\u001b[0m \u001b[0mplt\u001b[0m\u001b[1;33m.\u001b[0m\u001b[0myticks\u001b[0m\u001b[1;33m(\u001b[0m\u001b[0mbarPos\u001b[0m\u001b[1;33m,\u001b[0m \u001b[0mX\u001b[0m\u001b[1;33m.\u001b[0m\u001b[0mcolumns\u001b[0m\u001b[1;33m[\u001b[0m\u001b[0msorted_idx\u001b[0m\u001b[1;33m]\u001b[0m\u001b[1;33m)\u001b[0m\u001b[1;33m\u001b[0m\u001b[1;33m\u001b[0m\u001b[0m\n\u001b[0;32m     10\u001b[0m \u001b[0mplt\u001b[0m\u001b[1;33m.\u001b[0m\u001b[0mxlabel\u001b[0m\u001b[1;33m(\u001b[0m\u001b[1;34m'Variable Importance'\u001b[0m\u001b[1;33m)\u001b[0m\u001b[1;33m\u001b[0m\u001b[1;33m\u001b[0m\u001b[0m\n",
      "\u001b[1;31mNameError\u001b[0m: name 'plt' is not defined"
     ]
    }
   ],
   "source": [
    "#피처 중요도 도표 그리기\n",
    "featureImportance = tree_reg.feature_importances_\n",
    " \n",
    "#가장 높은 중요도 기준으로 스케일링\n",
    "featureImportance = featureImportance/featureImportance.max()\n",
    "sorted_idx = np.argsort(featureImportance)\n",
    "barPos = np.arange(sorted_idx.shape[0])+.5\n",
    "plt.barh(barPos, featureImportance[sorted_idx], align='center')\n",
    "plt.yticks(barPos, X.columns[sorted_idx])\n",
    "plt.xlabel('Variable Importance')\n",
    "plt.rcParams[\"figure.figsize\"] = (13,27)\n",
    "plt.rcParams['lines.linewidth'] = 4\n",
    "plt.rcParams['lines.color'] = 'b'\n",
    "plt.title('Feature importance of Decision Tree Regressor')\n",
    "plt.savefig('Feature importance of Decision Tree Regressor', bbox_inches ='tight', dpi = 300,facecolor='#eeeeee')"
   ]
  },
  {
   "cell_type": "code",
   "execution_count": null,
   "metadata": {},
   "outputs": [],
   "source": []
  },
  {
   "cell_type": "markdown",
   "metadata": {},
   "source": [
    "# 예측 모델 - 4. 랜덤포레스트"
   ]
  },
  {
   "cell_type": "code",
   "execution_count": 68,
   "metadata": {},
   "outputs": [],
   "source": [
    "from sklearn.ensemble import RandomForestRegressor\n",
    "from sklearn.model_selection import train_test_split\n",
    "from sklearn import ensemble\n",
    "from sklearn.metrics import mean_squared_error\n",
    "import pylab as plot"
   ]
  },
  {
   "cell_type": "code",
   "execution_count": 69,
   "metadata": {},
   "outputs": [],
   "source": [
    "mseOos = []\n",
    "nTreeList = range(10, 200, 5)\n",
    "for iTrees in nTreeList:\n",
    "    depth = None\n",
    "    rf_reg = ensemble.RandomForestRegressor(n_estimators=iTrees,\n",
    "                    max_depth=depth,\n",
    "                    oob_score=False, random_state=0)\n",
    "    rf_reg.fit(xtrain, ytrain)\n",
    "    #데이터 세트에 대한 MSE 누적\n",
    "    prediction = rf_reg.predict(xtest)\n",
    "    mseOos.append(mean_squared_error(ytest, prediction))"
   ]
  },
  {
   "cell_type": "code",
   "execution_count": 70,
   "metadata": {},
   "outputs": [
    {
     "data": {
      "text/plain": [
       "array([11.06286114, 10.8455365 , 10.70662594, 10.60930438, 10.62715603,\n",
       "       10.64827981, 10.6185094 , 10.60649206, 10.48333726, 10.49562363,\n",
       "       10.4859921 , 10.50402323, 10.53416798, 10.55529605, 10.53555619,\n",
       "       10.52188358, 10.52727737, 10.50548223, 10.46725908, 10.44708127,\n",
       "       10.43380322, 10.42029814, 10.43288383, 10.45431586, 10.48099242,\n",
       "       10.48864567, 10.49274261, 10.48413052, 10.482187  , 10.49230757,\n",
       "       10.51559715, 10.51406911, 10.52783714, 10.50721859, 10.51264168,\n",
       "       10.50732923, 10.48868569, 10.48267074])"
      ]
     },
     "execution_count": 70,
     "metadata": {},
     "output_type": "execute_result"
    }
   ],
   "source": [
    "rmseOos = np.sqrt(mseOos)\n",
    "rmseOos"
   ]
  },
  {
   "cell_type": "code",
   "execution_count": 71,
   "metadata": {},
   "outputs": [],
   "source": [
    "import matplotlib.pyplot as plt"
   ]
  },
  {
   "cell_type": "code",
   "execution_count": 72,
   "metadata": {},
   "outputs": [
    {
     "data": {
      "image/png": "[encoded data removed]",
      "text/plain": [
       "<Figure size 1080x504 with 1 Axes>"
      ]
     },
     "metadata": {
      "needs_background": "light"
     },
     "output_type": "display_data"
    }
   ],
   "source": [
    "#트레이닝 테스트 오차 대비  앙상블의 트리 개수 도표 그리기\n",
    "plt.rcParams[\"figure.figsize\"] = (15,7)\n",
    "plot.plot(nTreeList, rmseOos, color = 'peru')\n",
    "plt.rcParams['lines.linewidth'] = 4\n",
    "plt.xlabel('Number of Trees in Ensemble')\n",
    "plt.ylabel('RMSE')\n",
    "#plot.ylim([0.0, 1.1*max(mseOob)])\n",
    "plt.savefig('Number of Trees in Ensemble', bbox_inches ='tight', dpi = 300,facecolor='#eeeeee')"
   ]
  },
  {
   "cell_type": "code",
   "execution_count": 73,
   "metadata": {},
   "outputs": [],
   "source": [
    "Tree_number = list(nTreeList)\n",
    "dd = {'NumberOfTree' : Tree_number, 'RMSE' : rmseOos}\n",
    "N_of_Tree = pd.DataFrame(dd)"
   ]
  },
  {
   "cell_type": "code",
   "execution_count": 74,
   "metadata": {
    "scrolled": true
   },
   "outputs": [
    {
     "data": {
      "text/html": [
       "<div>\n",
       "<style scoped>\n",
       "    .dataframe tbody tr th:only-of-type {\n",
       "        vertical-align: middle;\n",
       "    }\n",
       "\n",
       "    .dataframe tbody tr th {\n",
       "        vertical-align: top;\n",
       "    }\n",
       "\n",
       "    .dataframe thead th {\n",
       "        text-align: right;\n",
       "    }\n",
       "</style>\n",
       "<table border=\"1\" class=\"dataframe\">\n",
       "  <thead>\n",
       "    <tr style=\"text-align: right;\">\n",
       "      <th></th>\n",
       "      <th>RMSE</th>\n",
       "    </tr>\n",
       "    <tr>\n",
       "      <th>NumberOfTree</th>\n",
       "      <th></th>\n",
       "    </tr>\n",
       "  </thead>\n",
       "  <tbody>\n",
       "    <tr>\n",
       "      <th>115</th>\n",
       "      <td>10.420298</td>\n",
       "    </tr>\n",
       "    <tr>\n",
       "      <th>120</th>\n",
       "      <td>10.432884</td>\n",
       "    </tr>\n",
       "    <tr>\n",
       "      <th>110</th>\n",
       "      <td>10.433803</td>\n",
       "    </tr>\n",
       "    <tr>\n",
       "      <th>105</th>\n",
       "      <td>10.447081</td>\n",
       "    </tr>\n",
       "    <tr>\n",
       "      <th>125</th>\n",
       "      <td>10.454316</td>\n",
       "    </tr>\n",
       "    <tr>\n",
       "      <th>100</th>\n",
       "      <td>10.467259</td>\n",
       "    </tr>\n",
       "    <tr>\n",
       "      <th>130</th>\n",
       "      <td>10.480992</td>\n",
       "    </tr>\n",
       "    <tr>\n",
       "      <th>150</th>\n",
       "      <td>10.482187</td>\n",
       "    </tr>\n",
       "    <tr>\n",
       "      <th>195</th>\n",
       "      <td>10.482671</td>\n",
       "    </tr>\n",
       "    <tr>\n",
       "      <th>50</th>\n",
       "      <td>10.483337</td>\n",
       "    </tr>\n",
       "    <tr>\n",
       "      <th>145</th>\n",
       "      <td>10.484131</td>\n",
       "    </tr>\n",
       "    <tr>\n",
       "      <th>60</th>\n",
       "      <td>10.485992</td>\n",
       "    </tr>\n",
       "    <tr>\n",
       "      <th>135</th>\n",
       "      <td>10.488646</td>\n",
       "    </tr>\n",
       "    <tr>\n",
       "      <th>190</th>\n",
       "      <td>10.488686</td>\n",
       "    </tr>\n",
       "    <tr>\n",
       "      <th>155</th>\n",
       "      <td>10.492308</td>\n",
       "    </tr>\n",
       "    <tr>\n",
       "      <th>140</th>\n",
       "      <td>10.492743</td>\n",
       "    </tr>\n",
       "    <tr>\n",
       "      <th>55</th>\n",
       "      <td>10.495624</td>\n",
       "    </tr>\n",
       "    <tr>\n",
       "      <th>65</th>\n",
       "      <td>10.504023</td>\n",
       "    </tr>\n",
       "    <tr>\n",
       "      <th>95</th>\n",
       "      <td>10.505482</td>\n",
       "    </tr>\n",
       "    <tr>\n",
       "      <th>175</th>\n",
       "      <td>10.507219</td>\n",
       "    </tr>\n",
       "    <tr>\n",
       "      <th>185</th>\n",
       "      <td>10.507329</td>\n",
       "    </tr>\n",
       "    <tr>\n",
       "      <th>180</th>\n",
       "      <td>10.512642</td>\n",
       "    </tr>\n",
       "    <tr>\n",
       "      <th>165</th>\n",
       "      <td>10.514069</td>\n",
       "    </tr>\n",
       "    <tr>\n",
       "      <th>160</th>\n",
       "      <td>10.515597</td>\n",
       "    </tr>\n",
       "    <tr>\n",
       "      <th>85</th>\n",
       "      <td>10.521884</td>\n",
       "    </tr>\n",
       "    <tr>\n",
       "      <th>90</th>\n",
       "      <td>10.527277</td>\n",
       "    </tr>\n",
       "    <tr>\n",
       "      <th>170</th>\n",
       "      <td>10.527837</td>\n",
       "    </tr>\n",
       "    <tr>\n",
       "      <th>70</th>\n",
       "      <td>10.534168</td>\n",
       "    </tr>\n",
       "    <tr>\n",
       "      <th>80</th>\n",
       "      <td>10.535556</td>\n",
       "    </tr>\n",
       "    <tr>\n",
       "      <th>75</th>\n",
       "      <td>10.555296</td>\n",
       "    </tr>\n",
       "    <tr>\n",
       "      <th>45</th>\n",
       "      <td>10.606492</td>\n",
       "    </tr>\n",
       "    <tr>\n",
       "      <th>25</th>\n",
       "      <td>10.609304</td>\n",
       "    </tr>\n",
       "    <tr>\n",
       "      <th>40</th>\n",
       "      <td>10.618509</td>\n",
       "    </tr>\n",
       "    <tr>\n",
       "      <th>30</th>\n",
       "      <td>10.627156</td>\n",
       "    </tr>\n",
       "    <tr>\n",
       "      <th>35</th>\n",
       "      <td>10.648280</td>\n",
       "    </tr>\n",
       "    <tr>\n",
       "      <th>20</th>\n",
       "      <td>10.706626</td>\n",
       "    </tr>\n",
       "    <tr>\n",
       "      <th>15</th>\n",
       "      <td>10.845537</td>\n",
       "    </tr>\n",
       "    <tr>\n",
       "      <th>10</th>\n",
       "      <td>11.062861</td>\n",
       "    </tr>\n",
       "  </tbody>\n",
       "</table>\n",
       "</div>"
      ],
      "text/plain": [
       "                   RMSE\n",
       "NumberOfTree           \n",
       "115           10.420298\n",
       "120           10.432884\n",
       "110           10.433803\n",
       "105           10.447081\n",
       "125           10.454316\n",
       "100           10.467259\n",
       "130           10.480992\n",
       "150           10.482187\n",
       "195           10.482671\n",
       "50            10.483337\n",
       "145           10.484131\n",
       "60            10.485992\n",
       "135           10.488646\n",
       "190           10.488686\n",
       "155           10.492308\n",
       "140           10.492743\n",
       "55            10.495624\n",
       "65            10.504023\n",
       "95            10.505482\n",
       "175           10.507219\n",
       "185           10.507329\n",
       "180           10.512642\n",
       "165           10.514069\n",
       "160           10.515597\n",
       "85            10.521884\n",
       "90            10.527277\n",
       "170           10.527837\n",
       "70            10.534168\n",
       "80            10.535556\n",
       "75            10.555296\n",
       "45            10.606492\n",
       "25            10.609304\n",
       "40            10.618509\n",
       "30            10.627156\n",
       "35            10.648280\n",
       "20            10.706626\n",
       "15            10.845537\n",
       "10            11.062861"
      ]
     },
     "execution_count": 74,
     "metadata": {},
     "output_type": "execute_result"
    }
   ],
   "source": [
    "N_of_Tree.set_index('NumberOfTree',inplace = True)\n",
    "N_of_Tree.sort_values(by = 'RMSE')"
   ]
  },
  {
   "cell_type": "code",
   "execution_count": 75,
   "metadata": {},
   "outputs": [
    {
     "data": {
      "image/png": "[encoded data removed]",
      "text/plain": [
       "<Figure size 1080x504 with 1 Axes>"
      ]
     },
     "metadata": {
      "needs_background": "light"
     },
     "output_type": "display_data"
    }
   ],
   "source": [
    "#피처 중요도 도표 그리기\n",
    "featureImportance = rf_reg.feature_importances_\n",
    " \n",
    "#가장 높은 중요도 기준으로 스케일링\n",
    "featureImportance = featureImportance/featureImportance.max()\n",
    "sorted_idx = np.argsort(featureImportance)\n",
    "barPos = np.arange(sorted_idx.shape[0])+.5\n",
    "plt.barh(barPos, featureImportance[sorted_idx], align='center')\n",
    "plt.yticks(barPos, X.columns[sorted_idx])\n",
    "plt.xlabel('Variable Importance')\n",
    "plt.rcParams[\"figure.figsize\"] = (13,27)\n",
    "plt.rcParams['lines.linewidth'] = 4\n",
    "plt.rcParams['lines.color'] = 'b'\n",
    "plt.title('Feature importance of Random Forest Regressor')\n",
    "plt.savefig('Feature importance of Random Forest Regressor', bbox_inches ='tight', dpi = 300,facecolor='#eeeeee')"
   ]
  },
  {
   "cell_type": "code",
   "execution_count": 642,
   "metadata": {
    "scrolled": false
   },
   "outputs": [
    {
     "data": {
      "image/png": "[encoded data removed]",
      "text/plain": [
       "<Figure size 936x936 with 1 Axes>"
      ]
     },
     "metadata": {
      "needs_background": "light"
     },
     "output_type": "display_data"
    }
   ],
   "source": [
    "x_ax = range(len(ytest))\n",
    "plt.rcParams[\"figure.figsize\"] = (13,13)\n",
    "plt.scatter(x_ax, ytest, s = 20, color=\"blue\", label=\"original\")\n",
    "plt.scatter(x_ax, prediction, s=20, color=\"red\", label=\"predicted\")\n",
    "plt.legend(prop={'size': 15})\n",
    "plt.savefig('Prediction in Random Forest Regressor', bbox_inches ='tight', dpi = 300,facecolor='#eeeeee')"
   ]
  },
  {
   "cell_type": "code",
   "execution_count": 77,
   "metadata": {},
   "outputs": [
    {
     "data": {
      "text/plain": [
       "RandomForestRegressor(bootstrap=True, ccp_alpha=0.0, criterion='mse',\n",
       "                      max_depth=None, max_features='auto', max_leaf_nodes=None,\n",
       "                      max_samples=None, min_impurity_decrease=0.0,\n",
       "                      min_impurity_split=None, min_samples_leaf=1,\n",
       "                      min_samples_split=2, min_weight_fraction_leaf=0.0,\n",
       "                      n_estimators=115, n_jobs=None, oob_score=False,\n",
       "                      random_state=0, verbose=0, warm_start=False)"
      ]
     },
     "execution_count": 77,
     "metadata": {},
     "output_type": "execute_result"
    }
   ],
   "source": [
    "# 따라서 최적의 모델은\n",
    "RandomForest_reg = RandomForestRegressor(n_estimators = 115, random_state = 0)\n",
    "RandomForest_reg.fit(xtrain, ytrain)"
   ]
  },
  {
   "cell_type": "code",
   "execution_count": 78,
   "metadata": {},
   "outputs": [
    {
     "name": "stdout",
     "output_type": "stream",
     "text": [
      "train 데이터의 RMSE :  3.784497411321656\n"
     ]
    }
   ],
   "source": [
    "preds = RandomForest_reg.predict(xtrain)\n",
    "\n",
    "RMSE = np.mean((preds - ytrain)**2)**(1/2) # Ensemble \n",
    "\n",
    "print('train 데이터의 RMSE : ', RMSE)"
   ]
  },
  {
   "cell_type": "code",
   "execution_count": 79,
   "metadata": {},
   "outputs": [
    {
     "name": "stdout",
     "output_type": "stream",
     "text": [
      "test 데이터의 RMSE :  10.420298140217282\n"
     ]
    }
   ],
   "source": [
    "preds = RandomForest_reg.predict(xtest)\n",
    "\n",
    "RMSE = np.mean((preds - ytest)**2)**(1/2) # Ensemble \n",
    "\n",
    "print('test 데이터의 RMSE : ', RMSE)"
   ]
  },
  {
   "cell_type": "code",
   "execution_count": 80,
   "metadata": {},
   "outputs": [],
   "source": [
    "def display_scores(scores):\n",
    "    print(\"Scores:\", scores)\n",
    "    print(\"Mean of RMSE:\", scores.mean())\n",
    "    print(\"Standard deviation:\", scores.std())"
   ]
  },
  {
   "cell_type": "code",
   "execution_count": 81,
   "metadata": {},
   "outputs": [
    {
     "name": "stdout",
     "output_type": "stream",
     "text": [
      "K-fold CV average score (by RMSE): 10.01\n"
     ]
    }
   ],
   "source": [
    "# CV fold - Random Forest\n",
    "from sklearn.model_selection import cross_val_score\n",
    "from sklearn.model_selection import KFold\n",
    "kfold = KFold(n_splits=5, shuffle=True) # K-fold 5개로 분할\n",
    "\n",
    "scores = cross_val_score(RandomForest_reg, xtrain, ytrain, cv=kfold, scoring = 'neg_mean_squared_error')\n",
    "kf_cv_scores = -scores\n",
    "kf_cv_scores = np.sqrt(kf_cv_scores)\n",
    "kf_cv_scores = kf_cv_scores.mean()\n",
    "print(\"K-fold CV average score (by RMSE): %.2f\" % kf_cv_scores)\n"
   ]
  },
  {
   "cell_type": "code",
   "execution_count": 82,
   "metadata": {},
   "outputs": [],
   "source": [
    "# Adjusted R2 계산 함수\n",
    "def Adj_r2(n,p,r2):\n",
    "    Adj_r2 = 1-(1-r2)*(len(df_n)-1)/(len(df_n)-len(X.columns)-1)\n",
    "    return Adj_r2"
   ]
  },
  {
   "cell_type": "code",
   "execution_count": 83,
   "metadata": {},
   "outputs": [],
   "source": [
    "# Adjusted R2 계산 함수\n",
    "def Adj_r2(n,r2):\n",
    "    Adj_r2 = 1-(1-r2)*(len(n)-1)/(len(n)-len(X.columns)-1)\n",
    "    return Adj_r2"
   ]
  },
  {
   "cell_type": "code",
   "execution_count": 84,
   "metadata": {},
   "outputs": [
    {
     "name": "stdout",
     "output_type": "stream",
     "text": [
      "모델의 Adjusted R^2: 0.33\n",
      "예측 RMSE: 10.42\n"
     ]
    }
   ],
   "source": [
    "# prediction 및 score\n",
    "from sklearn.metrics import r2_score\n",
    "\n",
    "r2 = r2_score(ytest, ypred)\n",
    "A_r2 = Adj_r2(xtest, r2)\n",
    "\n",
    "ypred = RandomForest_reg.predict(xtest)\n",
    "mse = mean_squared_error(ytest,ypred)\n",
    "\n",
    "print(\"모델의 Adjusted R^2: %.2f\" % A_r2)\n",
    "print(\"예측 RMSE: %.2f\" % np.sqrt(mse))"
   ]
  },
  {
   "cell_type": "markdown",
   "metadata": {},
   "source": [
    "# 예측 모델 - 5. LightGBM"
   ]
  },
  {
   "cell_type": "code",
   "execution_count": 38,
   "metadata": {},
   "outputs": [],
   "source": [
    "import lightgbm as lgb\n",
    "from lightgbm.sklearn import LGBMRegressor\n",
    "from tqdm import tqdm"
   ]
  },
  {
   "cell_type": "code",
   "execution_count": 693,
   "metadata": {},
   "outputs": [],
   "source": [
    "#그리드 서치"
   ]
  },
  {
   "cell_type": "code",
   "execution_count": 694,
   "metadata": {
    "scrolled": true
   },
   "outputs": [
    {
     "name": "stdout",
     "output_type": "stream",
     "text": [
      "Fitting 5 folds for each of 4032 candidates, totalling 20160 fits\n"
     ]
    },
    {
     "name": "stderr",
     "output_type": "stream",
     "text": [
      "[Parallel(n_jobs=-1)]: Using backend LokyBackend with 8 concurrent workers.\n",
      "[Parallel(n_jobs=-1)]: Done   2 tasks      | elapsed:    5.2s\n",
      "[Parallel(n_jobs=-1)]: Done   9 tasks      | elapsed:    5.9s\n",
      "[Parallel(n_jobs=-1)]: Done  16 tasks      | elapsed:    6.6s\n",
      "[Parallel(n_jobs=-1)]: Done  25 tasks      | elapsed:    7.1s\n",
      "[Parallel(n_jobs=-1)]: Done  34 tasks      | elapsed:    8.0s\n",
      "[Parallel(n_jobs=-1)]: Done  45 tasks      | elapsed:    9.1s\n",
      "[Parallel(n_jobs=-1)]: Done  56 tasks      | elapsed:   10.3s\n",
      "[Parallel(n_jobs=-1)]: Done  69 tasks      | elapsed:   11.1s\n",
      "[Parallel(n_jobs=-1)]: Done  82 tasks      | elapsed:   12.4s\n",
      "[Parallel(n_jobs=-1)]: Done  97 tasks      | elapsed:   13.9s\n",
      "[Parallel(n_jobs=-1)]: Done 112 tasks      | elapsed:   15.0s\n",
      "[Parallel(n_jobs=-1)]: Done 129 tasks      | elapsed:   16.4s\n",
      "[Parallel(n_jobs=-1)]: Done 146 tasks      | elapsed:   17.9s\n",
      "[Parallel(n_jobs=-1)]: Done 165 tasks      | elapsed:   19.4s\n",
      "[Parallel(n_jobs=-1)]: Done 184 tasks      | elapsed:   21.1s\n",
      "[Parallel(n_jobs=-1)]: Done 205 tasks      | elapsed:   22.8s\n",
      "[Parallel(n_jobs=-1)]: Done 226 tasks      | elapsed:   24.7s\n",
      "[Parallel(n_jobs=-1)]: Done 249 tasks      | elapsed:   26.6s\n",
      "[Parallel(n_jobs=-1)]: Done 272 tasks      | elapsed:   28.6s\n",
      "[Parallel(n_jobs=-1)]: Done 297 tasks      | elapsed:   31.5s\n",
      "[Parallel(n_jobs=-1)]: Done 322 tasks      | elapsed:   34.3s\n",
      "[Parallel(n_jobs=-1)]: Done 349 tasks      | elapsed:   37.1s\n",
      "[Parallel(n_jobs=-1)]: Done 376 tasks      | elapsed:   40.7s\n",
      "[Parallel(n_jobs=-1)]: Done 405 tasks      | elapsed:   44.1s\n",
      "[Parallel(n_jobs=-1)]: Done 434 tasks      | elapsed:   47.8s\n",
      "[Parallel(n_jobs=-1)]: Done 465 tasks      | elapsed:   51.3s\n",
      "[Parallel(n_jobs=-1)]: Done 496 tasks      | elapsed:   55.4s\n",
      "[Parallel(n_jobs=-1)]: Done 529 tasks      | elapsed:   59.0s\n",
      "[Parallel(n_jobs=-1)]: Done 562 tasks      | elapsed:  1.1min\n",
      "[Parallel(n_jobs=-1)]: Done 597 tasks      | elapsed:  1.1min\n",
      "[Parallel(n_jobs=-1)]: Done 632 tasks      | elapsed:  1.2min\n",
      "[Parallel(n_jobs=-1)]: Done 669 tasks      | elapsed:  1.3min\n",
      "[Parallel(n_jobs=-1)]: Done 706 tasks      | elapsed:  1.4min\n",
      "[Parallel(n_jobs=-1)]: Done 745 tasks      | elapsed:  1.5min\n",
      "[Parallel(n_jobs=-1)]: Done 784 tasks      | elapsed:  1.6min\n",
      "[Parallel(n_jobs=-1)]: Done 825 tasks      | elapsed:  1.7min\n",
      "[Parallel(n_jobs=-1)]: Done 866 tasks      | elapsed:  1.8min\n",
      "[Parallel(n_jobs=-1)]: Done 909 tasks      | elapsed:  2.0min\n",
      "[Parallel(n_jobs=-1)]: Done 952 tasks      | elapsed:  2.1min\n",
      "[Parallel(n_jobs=-1)]: Done 997 tasks      | elapsed:  2.2min\n",
      "[Parallel(n_jobs=-1)]: Done 1042 tasks      | elapsed:  2.3min\n",
      "[Parallel(n_jobs=-1)]: Done 1089 tasks      | elapsed:  2.5min\n",
      "[Parallel(n_jobs=-1)]: Done 1136 tasks      | elapsed:  2.6min\n",
      "[Parallel(n_jobs=-1)]: Done 1185 tasks      | elapsed:  2.8min\n",
      "[Parallel(n_jobs=-1)]: Done 1234 tasks      | elapsed:  2.9min\n",
      "[Parallel(n_jobs=-1)]: Done 1285 tasks      | elapsed:  3.1min\n",
      "[Parallel(n_jobs=-1)]: Done 1336 tasks      | elapsed:  3.3min\n",
      "[Parallel(n_jobs=-1)]: Done 1389 tasks      | elapsed:  3.4min\n",
      "[Parallel(n_jobs=-1)]: Done 1442 tasks      | elapsed:  3.6min\n",
      "[Parallel(n_jobs=-1)]: Done 1497 tasks      | elapsed:  3.8min\n",
      "[Parallel(n_jobs=-1)]: Done 1552 tasks      | elapsed:  4.0min\n",
      "[Parallel(n_jobs=-1)]: Done 1609 tasks      | elapsed:  4.2min\n",
      "[Parallel(n_jobs=-1)]: Done 1666 tasks      | elapsed:  4.4min\n",
      "[Parallel(n_jobs=-1)]: Done 1725 tasks      | elapsed:  4.7min\n",
      "[Parallel(n_jobs=-1)]: Done 1784 tasks      | elapsed:  4.9min\n",
      "[Parallel(n_jobs=-1)]: Done 1845 tasks      | elapsed:  5.1min\n",
      "[Parallel(n_jobs=-1)]: Done 1906 tasks      | elapsed:  5.4min\n",
      "[Parallel(n_jobs=-1)]: Done 1969 tasks      | elapsed:  5.6min\n",
      "[Parallel(n_jobs=-1)]: Done 2032 tasks      | elapsed:  5.8min\n",
      "[Parallel(n_jobs=-1)]: Done 2097 tasks      | elapsed:  6.1min\n",
      "[Parallel(n_jobs=-1)]: Done 2162 tasks      | elapsed:  6.3min\n",
      "[Parallel(n_jobs=-1)]: Done 2229 tasks      | elapsed:  6.6min\n",
      "[Parallel(n_jobs=-1)]: Done 2296 tasks      | elapsed:  6.9min\n",
      "[Parallel(n_jobs=-1)]: Done 2365 tasks      | elapsed:  7.1min\n",
      "[Parallel(n_jobs=-1)]: Done 2434 tasks      | elapsed:  7.4min\n",
      "[Parallel(n_jobs=-1)]: Done 2505 tasks      | elapsed:  7.7min\n",
      "[Parallel(n_jobs=-1)]: Done 2576 tasks      | elapsed:  7.8min\n",
      "[Parallel(n_jobs=-1)]: Done 2649 tasks      | elapsed:  7.9min\n",
      "[Parallel(n_jobs=-1)]: Done 2722 tasks      | elapsed:  8.0min\n",
      "[Parallel(n_jobs=-1)]: Done 2797 tasks      | elapsed:  8.1min\n",
      "[Parallel(n_jobs=-1)]: Done 2872 tasks      | elapsed:  8.3min\n",
      "[Parallel(n_jobs=-1)]: Done 2949 tasks      | elapsed:  8.4min\n",
      "[Parallel(n_jobs=-1)]: Done 3026 tasks      | elapsed:  8.5min\n",
      "[Parallel(n_jobs=-1)]: Done 3105 tasks      | elapsed:  8.7min\n",
      "[Parallel(n_jobs=-1)]: Done 3184 tasks      | elapsed:  8.9min\n",
      "[Parallel(n_jobs=-1)]: Done 3265 tasks      | elapsed:  9.1min\n",
      "[Parallel(n_jobs=-1)]: Done 3346 tasks      | elapsed:  9.2min\n",
      "[Parallel(n_jobs=-1)]: Done 3429 tasks      | elapsed:  9.5min\n",
      "[Parallel(n_jobs=-1)]: Done 3512 tasks      | elapsed:  9.7min\n",
      "[Parallel(n_jobs=-1)]: Done 3597 tasks      | elapsed:  9.9min\n",
      "[Parallel(n_jobs=-1)]: Done 3682 tasks      | elapsed: 10.2min\n",
      "[Parallel(n_jobs=-1)]: Done 3769 tasks      | elapsed: 10.4min\n",
      "[Parallel(n_jobs=-1)]: Done 3856 tasks      | elapsed: 10.7min\n",
      "[Parallel(n_jobs=-1)]: Done 3945 tasks      | elapsed: 11.0min\n",
      "[Parallel(n_jobs=-1)]: Done 4034 tasks      | elapsed: 11.3min\n",
      "[Parallel(n_jobs=-1)]: Done 4125 tasks      | elapsed: 11.6min\n",
      "[Parallel(n_jobs=-1)]: Done 4216 tasks      | elapsed: 11.9min\n",
      "[Parallel(n_jobs=-1)]: Done 4309 tasks      | elapsed: 12.2min\n",
      "[Parallel(n_jobs=-1)]: Done 4402 tasks      | elapsed: 12.6min\n",
      "[Parallel(n_jobs=-1)]: Done 4497 tasks      | elapsed: 13.0min\n",
      "[Parallel(n_jobs=-1)]: Done 4592 tasks      | elapsed: 13.3min\n",
      "[Parallel(n_jobs=-1)]: Done 4689 tasks      | elapsed: 13.7min\n",
      "[Parallel(n_jobs=-1)]: Done 4786 tasks      | elapsed: 14.1min\n",
      "[Parallel(n_jobs=-1)]: Done 4885 tasks      | elapsed: 14.4min\n",
      "[Parallel(n_jobs=-1)]: Done 4984 tasks      | elapsed: 14.8min\n",
      "[Parallel(n_jobs=-1)]: Done 5085 tasks      | elapsed: 15.1min\n",
      "[Parallel(n_jobs=-1)]: Done 5186 tasks      | elapsed: 15.2min\n",
      "[Parallel(n_jobs=-1)]: Done 5289 tasks      | elapsed: 15.4min\n",
      "[Parallel(n_jobs=-1)]: Done 5392 tasks      | elapsed: 15.6min\n",
      "[Parallel(n_jobs=-1)]: Done 5497 tasks      | elapsed: 15.7min\n",
      "[Parallel(n_jobs=-1)]: Done 5602 tasks      | elapsed: 15.9min\n",
      "[Parallel(n_jobs=-1)]: Done 5709 tasks      | elapsed: 16.2min\n",
      "[Parallel(n_jobs=-1)]: Done 5816 tasks      | elapsed: 16.4min\n",
      "[Parallel(n_jobs=-1)]: Done 5925 tasks      | elapsed: 16.7min\n",
      "[Parallel(n_jobs=-1)]: Done 6034 tasks      | elapsed: 16.9min\n",
      "[Parallel(n_jobs=-1)]: Done 6145 tasks      | elapsed: 17.2min\n",
      "[Parallel(n_jobs=-1)]: Done 6256 tasks      | elapsed: 17.5min\n",
      "[Parallel(n_jobs=-1)]: Done 6369 tasks      | elapsed: 17.9min\n",
      "[Parallel(n_jobs=-1)]: Done 6482 tasks      | elapsed: 18.2min\n",
      "[Parallel(n_jobs=-1)]: Done 6597 tasks      | elapsed: 18.6min\n",
      "[Parallel(n_jobs=-1)]: Done 6712 tasks      | elapsed: 18.9min\n",
      "[Parallel(n_jobs=-1)]: Done 6829 tasks      | elapsed: 19.3min\n",
      "[Parallel(n_jobs=-1)]: Done 6946 tasks      | elapsed: 19.7min\n",
      "[Parallel(n_jobs=-1)]: Done 7065 tasks      | elapsed: 20.1min\n",
      "[Parallel(n_jobs=-1)]: Done 7184 tasks      | elapsed: 20.6min\n",
      "[Parallel(n_jobs=-1)]: Done 7305 tasks      | elapsed: 21.0min\n",
      "[Parallel(n_jobs=-1)]: Done 7426 tasks      | elapsed: 21.5min\n",
      "[Parallel(n_jobs=-1)]: Done 7549 tasks      | elapsed: 21.9min\n",
      "[Parallel(n_jobs=-1)]: Done 7672 tasks      | elapsed: 22.1min\n",
      "[Parallel(n_jobs=-1)]: Done 7797 tasks      | elapsed: 22.3min\n",
      "[Parallel(n_jobs=-1)]: Done 7922 tasks      | elapsed: 22.5min\n",
      "[Parallel(n_jobs=-1)]: Done 8049 tasks      | elapsed: 22.7min\n",
      "[Parallel(n_jobs=-1)]: Done 8176 tasks      | elapsed: 23.0min\n",
      "[Parallel(n_jobs=-1)]: Done 8305 tasks      | elapsed: 23.3min\n",
      "[Parallel(n_jobs=-1)]: Done 8434 tasks      | elapsed: 23.6min\n",
      "[Parallel(n_jobs=-1)]: Done 8565 tasks      | elapsed: 23.9min\n",
      "[Parallel(n_jobs=-1)]: Done 8696 tasks      | elapsed: 24.2min\n",
      "[Parallel(n_jobs=-1)]: Done 8829 tasks      | elapsed: 24.6min\n",
      "[Parallel(n_jobs=-1)]: Done 8962 tasks      | elapsed: 25.0min\n",
      "[Parallel(n_jobs=-1)]: Done 9097 tasks      | elapsed: 25.4min\n"
     ]
    },
    {
     "name": "stderr",
     "output_type": "stream",
     "text": [
      "[Parallel(n_jobs=-1)]: Done 9232 tasks      | elapsed: 25.8min\n",
      "[Parallel(n_jobs=-1)]: Done 9369 tasks      | elapsed: 26.3min\n",
      "[Parallel(n_jobs=-1)]: Done 9506 tasks      | elapsed: 26.8min\n",
      "[Parallel(n_jobs=-1)]: Done 9645 tasks      | elapsed: 27.3min\n",
      "[Parallel(n_jobs=-1)]: Done 9784 tasks      | elapsed: 27.8min\n",
      "[Parallel(n_jobs=-1)]: Done 9925 tasks      | elapsed: 28.3min\n",
      "[Parallel(n_jobs=-1)]: Done 10066 tasks      | elapsed: 28.8min\n",
      "[Parallel(n_jobs=-1)]: Done 10209 tasks      | elapsed: 29.0min\n",
      "[Parallel(n_jobs=-1)]: Done 10352 tasks      | elapsed: 29.2min\n",
      "[Parallel(n_jobs=-1)]: Done 10497 tasks      | elapsed: 29.5min\n",
      "[Parallel(n_jobs=-1)]: Done 10642 tasks      | elapsed: 29.8min\n",
      "[Parallel(n_jobs=-1)]: Done 10789 tasks      | elapsed: 30.1min\n",
      "[Parallel(n_jobs=-1)]: Done 10936 tasks      | elapsed: 30.4min\n",
      "[Parallel(n_jobs=-1)]: Done 11085 tasks      | elapsed: 30.8min\n",
      "[Parallel(n_jobs=-1)]: Done 11234 tasks      | elapsed: 31.2min\n",
      "[Parallel(n_jobs=-1)]: Done 11385 tasks      | elapsed: 31.6min\n",
      "[Parallel(n_jobs=-1)]: Done 11536 tasks      | elapsed: 32.1min\n",
      "[Parallel(n_jobs=-1)]: Done 11689 tasks      | elapsed: 32.5min\n",
      "[Parallel(n_jobs=-1)]: Done 11842 tasks      | elapsed: 33.0min\n",
      "[Parallel(n_jobs=-1)]: Done 11997 tasks      | elapsed: 33.6min\n",
      "[Parallel(n_jobs=-1)]: Done 12152 tasks      | elapsed: 34.1min\n",
      "[Parallel(n_jobs=-1)]: Done 12309 tasks      | elapsed: 34.7min\n",
      "[Parallel(n_jobs=-1)]: Done 12466 tasks      | elapsed: 35.3min\n",
      "[Parallel(n_jobs=-1)]: Done 12625 tasks      | elapsed: 35.8min\n",
      "[Parallel(n_jobs=-1)]: Done 12784 tasks      | elapsed: 36.0min\n",
      "[Parallel(n_jobs=-1)]: Done 12945 tasks      | elapsed: 36.3min\n",
      "[Parallel(n_jobs=-1)]: Done 13106 tasks      | elapsed: 36.6min\n",
      "[Parallel(n_jobs=-1)]: Done 13269 tasks      | elapsed: 36.9min\n",
      "[Parallel(n_jobs=-1)]: Done 13432 tasks      | elapsed: 37.3min\n",
      "[Parallel(n_jobs=-1)]: Done 13597 tasks      | elapsed: 37.7min\n",
      "[Parallel(n_jobs=-1)]: Done 13762 tasks      | elapsed: 38.1min\n",
      "[Parallel(n_jobs=-1)]: Done 13929 tasks      | elapsed: 38.6min\n",
      "[Parallel(n_jobs=-1)]: Done 14096 tasks      | elapsed: 39.1min\n",
      "[Parallel(n_jobs=-1)]: Done 14265 tasks      | elapsed: 39.6min\n",
      "[Parallel(n_jobs=-1)]: Done 14434 tasks      | elapsed: 40.2min\n",
      "[Parallel(n_jobs=-1)]: Done 14605 tasks      | elapsed: 40.8min\n",
      "[Parallel(n_jobs=-1)]: Done 14776 tasks      | elapsed: 41.4min\n",
      "[Parallel(n_jobs=-1)]: Done 14949 tasks      | elapsed: 42.1min\n",
      "[Parallel(n_jobs=-1)]: Done 15122 tasks      | elapsed: 42.8min\n",
      "[Parallel(n_jobs=-1)]: Done 15297 tasks      | elapsed: 43.0min\n",
      "[Parallel(n_jobs=-1)]: Done 15472 tasks      | elapsed: 43.3min\n",
      "[Parallel(n_jobs=-1)]: Done 15649 tasks      | elapsed: 43.6min\n",
      "[Parallel(n_jobs=-1)]: Done 15826 tasks      | elapsed: 44.0min\n",
      "[Parallel(n_jobs=-1)]: Done 16005 tasks      | elapsed: 44.4min\n",
      "[Parallel(n_jobs=-1)]: Done 16184 tasks      | elapsed: 44.9min\n",
      "[Parallel(n_jobs=-1)]: Done 16365 tasks      | elapsed: 45.4min\n",
      "[Parallel(n_jobs=-1)]: Done 16546 tasks      | elapsed: 45.9min\n",
      "[Parallel(n_jobs=-1)]: Done 16729 tasks      | elapsed: 46.5min\n",
      "[Parallel(n_jobs=-1)]: Done 16912 tasks      | elapsed: 47.1min\n",
      "[Parallel(n_jobs=-1)]: Done 17097 tasks      | elapsed: 47.8min\n",
      "[Parallel(n_jobs=-1)]: Done 17282 tasks      | elapsed: 48.5min\n",
      "[Parallel(n_jobs=-1)]: Done 17469 tasks      | elapsed: 49.2min\n",
      "[Parallel(n_jobs=-1)]: Done 17656 tasks      | elapsed: 50.0min\n",
      "[Parallel(n_jobs=-1)]: Done 17845 tasks      | elapsed: 50.2min\n",
      "[Parallel(n_jobs=-1)]: Done 18034 tasks      | elapsed: 50.6min\n",
      "[Parallel(n_jobs=-1)]: Done 18225 tasks      | elapsed: 50.9min\n",
      "[Parallel(n_jobs=-1)]: Done 18416 tasks      | elapsed: 51.4min\n",
      "[Parallel(n_jobs=-1)]: Done 18609 tasks      | elapsed: 51.8min\n",
      "[Parallel(n_jobs=-1)]: Done 18802 tasks      | elapsed: 52.4min\n",
      "[Parallel(n_jobs=-1)]: Done 18997 tasks      | elapsed: 52.9min\n",
      "[Parallel(n_jobs=-1)]: Done 19192 tasks      | elapsed: 53.5min\n",
      "[Parallel(n_jobs=-1)]: Done 19389 tasks      | elapsed: 54.2min\n",
      "[Parallel(n_jobs=-1)]: Done 19586 tasks      | elapsed: 54.9min\n",
      "[Parallel(n_jobs=-1)]: Done 19785 tasks      | elapsed: 55.6min\n",
      "[Parallel(n_jobs=-1)]: Done 19984 tasks      | elapsed: 56.4min\n",
      "[Parallel(n_jobs=-1)]: Done 20160 out of 20160 | elapsed: 57.1min finished\n",
      "C:\\ProgramData\\Anaconda3\\lib\\site-packages\\lightgbm\\engine.py:148: UserWarning: Found `num_iterations` in params. Will use it instead of argument\n",
      "  warnings.warn(\"Found `{}` in params. Will use it instead of argument\".format(alias))\n"
     ]
    },
    {
     "data": {
      "text/plain": [
       "GridSearchCV(cv=5, error_score=nan,\n",
       "             estimator=LGBMRegressor(boosting_type='gbdt', class_weight=None,\n",
       "                                     colsample_bytree=1.0,\n",
       "                                     importance_type='split', learning_rate=0.1,\n",
       "                                     max_depth=-1, min_child_samples=20,\n",
       "                                     min_child_weight=0.001, min_split_gain=0.0,\n",
       "                                     n_estimators=100, n_jobs=-1, num_leaves=31,\n",
       "                                     objective=None, random_state=0,\n",
       "                                     reg_alpha=0.0, reg_lambda=0.0, silent=True,\n",
       "                                     su...\n",
       "             param_grid={'boosting': ['gbdt'],\n",
       "                         'learning_rate': [0.005, 0.01, 0.025, 0.05, 0.1, 0.25,\n",
       "                                           0.35, 0.5],\n",
       "                         'max_depth': array([ 3,  4,  5,  6,  7,  8,  9, 10, 11]),\n",
       "                         'n_estimators': array([ 20,  40,  60,  80, 100, 120, 140, 160, 180, 200, 220, 240, 260,\n",
       "       280]),\n",
       "                         'num_iterations': array([1000, 1300, 1600, 1900]),\n",
       "                         'random_state': [0]},\n",
       "             pre_dispatch='2*n_jobs', refit=True, return_train_score=True,\n",
       "             scoring='neg_mean_squared_error', verbose=10)"
      ]
     },
     "execution_count": 694,
     "metadata": {},
     "output_type": "execute_result"
    }
   ],
   "source": [
    "lgbm_reg = LGBMRegressor(random_state = 0)\n",
    "param_grid = {'learning_rate' :[0.005,0.01,0.025,0.05,0.1,0.25,0.35,0.5], 'n_estimators' : np.arange(20,300,20)\n",
    "             , 'num_iterations' : np.arange(1000, 2000, 300), 'max_depth' : np.arange(3,12,1),\n",
    "              'boosting' : ['gbdt'], 'random_state' : [0]}\n",
    "\n",
    "grid_search = GridSearchCV(lgbm_reg, param_grid, cv=5,\n",
    "                           return_train_score=True, scoring = 'neg_mean_squared_error',verbose=10, n_jobs = -1)\n",
    "\n",
    "grid_search.fit(xtrain, ytrain)"
   ]
  },
  {
   "cell_type": "code",
   "execution_count": 742,
   "metadata": {},
   "outputs": [
    {
     "name": "stdout",
     "output_type": "stream",
     "text": [
      "{'boosting': 'gbdt', 'learning_rate': 0.25, 'max_depth': 4, 'n_estimators': 20, 'num_iterations': 1600, 'random_state': 0}\n"
     ]
    }
   ],
   "source": [
    "print(grid_search.best_params_) # 최적의 파라미터 값 출력"
   ]
  },
  {
   "cell_type": "code",
   "execution_count": 743,
   "metadata": {},
   "outputs": [],
   "source": [
    "best_estim=grid_search.best_estimator_"
   ]
  },
  {
   "cell_type": "code",
   "execution_count": 744,
   "metadata": {},
   "outputs": [
    {
     "data": {
      "text/plain": [
       "LGBMRegressor(boosting='gbdt', boosting_type='gbdt', class_weight=None,\n",
       "              colsample_bytree=1.0, importance_type='split', learning_rate=0.25,\n",
       "              max_depth=4, min_child_samples=20, min_child_weight=0.001,\n",
       "              min_split_gain=0.0, n_estimators=20, n_jobs=-1,\n",
       "              num_iterations=1600, num_leaves=31, objective=None,\n",
       "              random_state=0, reg_alpha=0.0, reg_lambda=0.0, silent=True,\n",
       "              subsample=1.0, subsample_for_bin=200000, subsample_freq=0)"
      ]
     },
     "execution_count": 744,
     "metadata": {},
     "output_type": "execute_result"
    }
   ],
   "source": [
    "# 따라서 최적의 모형은\n",
    "lgbm_reg = best_estim\n",
    "lgbm_reg"
   ]
  },
  {
   "cell_type": "code",
   "execution_count": 37,
   "metadata": {},
   "outputs": [],
   "source": [
    "from sklearn.model_selection import cross_val_score\n",
    "from sklearn.model_selection import KFold"
   ]
  },
  {
   "cell_type": "code",
   "execution_count": 698,
   "metadata": {
    "scrolled": true
   },
   "outputs": [
    {
     "name": "stderr",
     "output_type": "stream",
     "text": [
      "C:\\ProgramData\\Anaconda3\\lib\\site-packages\\lightgbm\\engine.py:148: UserWarning: Found `num_iterations` in params. Will use it instead of argument\n",
      "  warnings.warn(\"Found `{}` in params. Will use it instead of argument\".format(alias))\n",
      "C:\\ProgramData\\Anaconda3\\lib\\site-packages\\lightgbm\\engine.py:148: UserWarning: Found `num_iterations` in params. Will use it instead of argument\n",
      "  warnings.warn(\"Found `{}` in params. Will use it instead of argument\".format(alias))\n",
      "C:\\ProgramData\\Anaconda3\\lib\\site-packages\\lightgbm\\engine.py:148: UserWarning: Found `num_iterations` in params. Will use it instead of argument\n",
      "  warnings.warn(\"Found `{}` in params. Will use it instead of argument\".format(alias))\n",
      "C:\\ProgramData\\Anaconda3\\lib\\site-packages\\lightgbm\\engine.py:148: UserWarning: Found `num_iterations` in params. Will use it instead of argument\n",
      "  warnings.warn(\"Found `{}` in params. Will use it instead of argument\".format(alias))\n",
      "C:\\ProgramData\\Anaconda3\\lib\\site-packages\\lightgbm\\engine.py:148: UserWarning: Found `num_iterations` in params. Will use it instead of argument\n",
      "  warnings.warn(\"Found `{}` in params. Will use it instead of argument\".format(alias))\n",
      "C:\\ProgramData\\Anaconda3\\lib\\site-packages\\lightgbm\\engine.py:148: UserWarning: Found `num_iterations` in params. Will use it instead of argument\n",
      "  warnings.warn(\"Found `{}` in params. Will use it instead of argument\".format(alias))\n",
      "C:\\ProgramData\\Anaconda3\\lib\\site-packages\\lightgbm\\engine.py:148: UserWarning: Found `num_iterations` in params. Will use it instead of argument\n",
      "  warnings.warn(\"Found `{}` in params. Will use it instead of argument\".format(alias))\n",
      "C:\\ProgramData\\Anaconda3\\lib\\site-packages\\lightgbm\\engine.py:148: UserWarning: Found `num_iterations` in params. Will use it instead of argument\n",
      "  warnings.warn(\"Found `{}` in params. Will use it instead of argument\".format(alias))\n",
      "C:\\ProgramData\\Anaconda3\\lib\\site-packages\\lightgbm\\engine.py:148: UserWarning: Found `num_iterations` in params. Will use it instead of argument\n",
      "  warnings.warn(\"Found `{}` in params. Will use it instead of argument\".format(alias))\n"
     ]
    }
   ],
   "source": [
    "lgbm_reg.fit(xtrain, ytrain)\n",
    "\n",
    "# K-fold - decision tree\n",
    "from sklearn.model_selection import cross_val_score\n",
    "from sklearn.model_selection import KFold\n",
    "\n",
    "KFold = KFold(n_splits=10, shuffle=True)\n",
    "\n",
    "\n",
    "kf_cv_scores = cross_val_score(lgbm_reg, xtrain, ytrain, cv=KFold, scoring = 'neg_mean_squared_error')\n",
    "kf_cv_scores = np.sqrt(-kf_cv_scores).mean()"
   ]
  },
  {
   "cell_type": "code",
   "execution_count": 727,
   "metadata": {
    "scrolled": true
   },
   "outputs": [
    {
     "name": "stdout",
     "output_type": "stream",
     "text": [
      "K-fold CV average score: 10.20\n"
     ]
    }
   ],
   "source": [
    "print(\"K-fold CV average score: %.2f\" % kf_cv_scores)"
   ]
  },
  {
   "cell_type": "code",
   "execution_count": null,
   "metadata": {},
   "outputs": [],
   "source": []
  },
  {
   "cell_type": "code",
   "execution_count": 745,
   "metadata": {},
   "outputs": [
    {
     "name": "stdout",
     "output_type": "stream",
     "text": [
      "모델의 Adjusted R^2: 0.68\n",
      "예측 RMSE: 9.81\n"
     ]
    }
   ],
   "source": [
    "# prediction 및 score\n",
    "from sklearn.metrics import r2_score\n",
    "ypred = lgbm_reg.predict(xtest)\n",
    "mse = mean_squared_error(ytest,ypred)\n",
    "r2 = r2_score(ytest, ypred)\n",
    "A_r2 = Adj_r2(xtest,r2)\n",
    "\n",
    "print(\"모델의 Adjusted R^2: %.2f\" % A_r2)\n",
    "print(\"예측 RMSE: %.2f\" % np.sqrt(mse))"
   ]
  },
  {
   "cell_type": "code",
   "execution_count": 746,
   "metadata": {
    "scrolled": true
   },
   "outputs": [
    {
     "data": {
      "image/png": "[encoded data removed]",
      "text/plain": [
       "<Figure size 936x936 with 1 Axes>"
      ]
     },
     "metadata": {
      "needs_background": "light"
     },
     "output_type": "display_data"
    }
   ],
   "source": [
    "x_ax = range(len(ytest))\n",
    "plt.rcParams[\"figure.figsize\"] = (13,13)\n",
    "plt.scatter(x_ax, ytest, s=20, color=\"blue\", label=\"original\")\n",
    "plt.scatter(x_ax, ypred, s=20, color=\"red\", label=\"predicted\")\n",
    "plt.legend(prop={'size': 15})\n",
    "plt.suptitle('LGBM prediction result', fontsize=25)\n",
    "plt.savefig('LGBM prediction result', bbox_inches ='tight', dpi = 300,facecolor='#eeeeee')"
   ]
  },
  {
   "cell_type": "code",
   "execution_count": 752,
   "metadata": {
    "scrolled": false
   },
   "outputs": [
    {
     "data": {
      "image/png": "[encoded data removed]",
      "text/plain": [
       "<Figure size 576x720 with 1 Axes>"
      ]
     },
     "metadata": {
      "needs_background": "light"
     },
     "output_type": "display_data"
    }
   ],
   "source": [
    "#피처 중요도 도표 그리기\n",
    "featureImportance = lgbm_reg.feature_importances_\n",
    " \n",
    "#가장 높은 중요도 기준으로 스케일링\n",
    "featureImportance = featureImportance/featureImportance.max()\n",
    "sorted_idx = np.argsort(featureImportance)\n",
    "barPos = np.arange(sorted_idx.shape[0])+.5\n",
    "plot.barh(barPos, featureImportance[sorted_idx], align='center')\n",
    "plot.yticks(barPos, X.columns[sorted_idx])\n",
    "plot.xlabel('Variable Importance')\n",
    "plt.rcParams[\"figure.figsize\"] = (8,10)\n",
    "plt.rcParams['lines.linewidth'] = 4\n",
    "plt.rcParams['lines.color'] = 'b'\n",
    "plt.title('Feature importance of LGBM Regressor')\n",
    "plt.savefig('Feature importance of LGBM Regressor', bbox_inches ='tight', dpi = 300,facecolor='#eeeeee')"
   ]
  },
  {
   "cell_type": "code",
   "execution_count": null,
   "metadata": {},
   "outputs": [],
   "source": []
  },
  {
   "cell_type": "code",
   "execution_count": 733,
   "metadata": {},
   "outputs": [],
   "source": [
    "# 베이지안 옵티마이제이션"
   ]
  },
  {
   "cell_type": "code",
   "execution_count": 36,
   "metadata": {},
   "outputs": [],
   "source": [
    "from lightgbm import Dataset\n",
    "from bayes_opt import BayesianOptimization\n",
    "from sklearn.metrics import roc_auc_score, mean_squared_error"
   ]
  },
  {
   "cell_type": "code",
   "execution_count": 735,
   "metadata": {},
   "outputs": [],
   "source": [
    "dtrain = lgb.Dataset(xtrain, label= ytrain)\n",
    "dtest = lgb.Dataset(xtest, label= ytest)"
   ]
  },
  {
   "cell_type": "code",
   "execution_count": 736,
   "metadata": {
    "scrolled": true
   },
   "outputs": [],
   "source": [
    "def lgb_eval(max_depth,  learning_rate, num_iterations,feature_fraction,scale_pos_weight):\n",
    "    params = {\"objective\" : \"regression\",\n",
    "              \"max_depth\": int(round(max_depth)),\n",
    "              'learning_rate' :  learning_rate,\n",
    "              'num_iterations' : int(round(num_iterations)),\n",
    "              'feature_fraction' : feature_fraction,\n",
    "              'scale_pos_weight' : scale_pos_weight,\n",
    "              \"metric\" : 'rmse'\n",
    "            }\n",
    "    \n",
    "    cv_result = lgb.cv(params, dtrain, nfold=5, num_boost_round=100)\n",
    "    return (-1.0 * np.array(cv_result['rmse-mean'])).max()"
   ]
  },
  {
   "cell_type": "code",
   "execution_count": 737,
   "metadata": {},
   "outputs": [],
   "source": [
    "import sys"
   ]
  },
  {
   "cell_type": "code",
   "execution_count": 738,
   "metadata": {},
   "outputs": [],
   "source": [
    "lgbBO = BayesianOptimization(lgb_eval, {'max_depth': (3,12),\n",
    "                                        'learning_rate' : (0.001,0.5),\n",
    "                                        'num_iterations': (1000, 3000),\n",
    "                                        'feature_fraction': (0.6, 1.0),\n",
    "                                        'scale_pos_weight' : (1.0, 1.5)}, random_state=0)"
   ]
  },
  {
   "cell_type": "code",
   "execution_count": 739,
   "metadata": {
    "scrolled": true
   },
   "outputs": [
    {
     "name": "stdout",
     "output_type": "stream",
     "text": [
      "|   iter    |  target   | featur... | learni... | max_depth | num_it... | scale_... |\n",
      "-------------------------------------------------------------------------------------\n"
     ]
    },
    {
     "name": "stderr",
     "output_type": "stream",
     "text": [
      "C:\\ProgramData\\Anaconda3\\lib\\site-packages\\lightgbm\\engine.py:503: UserWarning: Found `num_iterations` in params. Will use it instead of argument\n",
      "  warnings.warn(\"Found `{}` in params. Will use it instead of argument\".format(alias))\n",
      "C:\\ProgramData\\Anaconda3\\lib\\site-packages\\sklearn\\model_selection\\_split.py:667: UserWarning: The least populated class in y has only 1 members, which is less than n_splits=5.\n",
      "  % (min_groups, self.n_splits)), UserWarning)\n"
     ]
    },
    {
     "name": "stdout",
     "output_type": "stream",
     "text": [
      "| \u001b[0m 1       \u001b[0m | \u001b[0m-11.45   \u001b[0m | \u001b[0m 0.8195  \u001b[0m | \u001b[0m 0.3579  \u001b[0m | \u001b[0m 8.425   \u001b[0m | \u001b[0m 2.09e+03\u001b[0m | \u001b[0m 1.212   \u001b[0m |\n"
     ]
    },
    {
     "name": "stderr",
     "output_type": "stream",
     "text": [
      "C:\\ProgramData\\Anaconda3\\lib\\site-packages\\lightgbm\\engine.py:503: UserWarning: Found `num_iterations` in params. Will use it instead of argument\n",
      "  warnings.warn(\"Found `{}` in params. Will use it instead of argument\".format(alias))\n",
      "C:\\ProgramData\\Anaconda3\\lib\\site-packages\\sklearn\\model_selection\\_split.py:667: UserWarning: The least populated class in y has only 1 members, which is less than n_splits=5.\n",
      "  % (min_groups, self.n_splits)), UserWarning)\n"
     ]
    },
    {
     "name": "stdout",
     "output_type": "stream",
     "text": [
      "| \u001b[95m 2       \u001b[0m | \u001b[95m-11.33   \u001b[0m | \u001b[95m 0.8584  \u001b[0m | \u001b[95m 0.2194  \u001b[0m | \u001b[95m 11.03   \u001b[0m | \u001b[95m 2.927e+0\u001b[0m | \u001b[95m 1.192   \u001b[0m |\n"
     ]
    },
    {
     "name": "stderr",
     "output_type": "stream",
     "text": [
      "C:\\ProgramData\\Anaconda3\\lib\\site-packages\\lightgbm\\engine.py:503: UserWarning: Found `num_iterations` in params. Will use it instead of argument\n",
      "  warnings.warn(\"Found `{}` in params. Will use it instead of argument\".format(alias))\n",
      "C:\\ProgramData\\Anaconda3\\lib\\site-packages\\sklearn\\model_selection\\_split.py:667: UserWarning: The least populated class in y has only 1 members, which is less than n_splits=5.\n",
      "  % (min_groups, self.n_splits)), UserWarning)\n"
     ]
    },
    {
     "name": "stdout",
     "output_type": "stream",
     "text": [
      "| \u001b[95m 3       \u001b[0m | \u001b[95m-11.07   \u001b[0m | \u001b[95m 0.9167  \u001b[0m | \u001b[95m 0.2649  \u001b[0m | \u001b[95m 8.112   \u001b[0m | \u001b[95m 2.851e+0\u001b[0m | \u001b[95m 1.036   \u001b[0m |\n"
     ]
    },
    {
     "name": "stderr",
     "output_type": "stream",
     "text": [
      "C:\\ProgramData\\Anaconda3\\lib\\site-packages\\lightgbm\\engine.py:503: UserWarning: Found `num_iterations` in params. Will use it instead of argument\n",
      "  warnings.warn(\"Found `{}` in params. Will use it instead of argument\".format(alias))\n",
      "C:\\ProgramData\\Anaconda3\\lib\\site-packages\\sklearn\\model_selection\\_split.py:667: UserWarning: The least populated class in y has only 1 members, which is less than n_splits=5.\n",
      "  % (min_groups, self.n_splits)), UserWarning)\n"
     ]
    },
    {
     "name": "stdout",
     "output_type": "stream",
     "text": [
      "| \u001b[0m 4       \u001b[0m | \u001b[0m-11.48   \u001b[0m | \u001b[0m 1.0     \u001b[0m | \u001b[0m 0.5     \u001b[0m | \u001b[0m 3.0     \u001b[0m | \u001b[0m 2.587e+0\u001b[0m | \u001b[0m 1.0     \u001b[0m |\n"
     ]
    },
    {
     "name": "stderr",
     "output_type": "stream",
     "text": [
      "C:\\ProgramData\\Anaconda3\\lib\\site-packages\\lightgbm\\engine.py:503: UserWarning: Found `num_iterations` in params. Will use it instead of argument\n",
      "  warnings.warn(\"Found `{}` in params. Will use it instead of argument\".format(alias))\n",
      "C:\\ProgramData\\Anaconda3\\lib\\site-packages\\sklearn\\model_selection\\_split.py:667: UserWarning: The least populated class in y has only 1 members, which is less than n_splits=5.\n",
      "  % (min_groups, self.n_splits)), UserWarning)\n"
     ]
    },
    {
     "name": "stdout",
     "output_type": "stream",
     "text": [
      "| \u001b[0m 5       \u001b[0m | \u001b[0m-11.48   \u001b[0m | \u001b[0m 1.0     \u001b[0m | \u001b[0m 0.5     \u001b[0m | \u001b[0m 3.0     \u001b[0m | \u001b[0m 1e+03   \u001b[0m | \u001b[0m 1.5     \u001b[0m |\n"
     ]
    },
    {
     "name": "stderr",
     "output_type": "stream",
     "text": [
      "C:\\ProgramData\\Anaconda3\\lib\\site-packages\\lightgbm\\engine.py:503: UserWarning: Found `num_iterations` in params. Will use it instead of argument\n",
      "  warnings.warn(\"Found `{}` in params. Will use it instead of argument\".format(alias))\n",
      "C:\\ProgramData\\Anaconda3\\lib\\site-packages\\sklearn\\model_selection\\_split.py:667: UserWarning: The least populated class in y has only 1 members, which is less than n_splits=5.\n",
      "  % (min_groups, self.n_splits)), UserWarning)\n"
     ]
    },
    {
     "name": "stdout",
     "output_type": "stream",
     "text": [
      "| \u001b[0m 6       \u001b[0m | \u001b[0m-13.66   \u001b[0m | \u001b[0m 0.7936  \u001b[0m | \u001b[0m 0.001   \u001b[0m | \u001b[0m 12.0    \u001b[0m | \u001b[0m 1.573e+0\u001b[0m | \u001b[0m 1.0     \u001b[0m |\n"
     ]
    },
    {
     "name": "stderr",
     "output_type": "stream",
     "text": [
      "C:\\ProgramData\\Anaconda3\\lib\\site-packages\\lightgbm\\engine.py:503: UserWarning: Found `num_iterations` in params. Will use it instead of argument\n",
      "  warnings.warn(\"Found `{}` in params. Will use it instead of argument\".format(alias))\n",
      "C:\\ProgramData\\Anaconda3\\lib\\site-packages\\sklearn\\model_selection\\_split.py:667: UserWarning: The least populated class in y has only 1 members, which is less than n_splits=5.\n",
      "  % (min_groups, self.n_splits)), UserWarning)\n"
     ]
    },
    {
     "name": "stdout",
     "output_type": "stream",
     "text": [
      "| \u001b[0m 7       \u001b[0m | \u001b[0m-12.97   \u001b[0m | \u001b[0m 0.6     \u001b[0m | \u001b[0m 0.001   \u001b[0m | \u001b[0m 12.0    \u001b[0m | \u001b[0m 2.299e+0\u001b[0m | \u001b[0m 1.334   \u001b[0m |\n"
     ]
    },
    {
     "name": "stderr",
     "output_type": "stream",
     "text": [
      "C:\\ProgramData\\Anaconda3\\lib\\site-packages\\lightgbm\\engine.py:503: UserWarning: Found `num_iterations` in params. Will use it instead of argument\n",
      "  warnings.warn(\"Found `{}` in params. Will use it instead of argument\".format(alias))\n",
      "C:\\ProgramData\\Anaconda3\\lib\\site-packages\\sklearn\\model_selection\\_split.py:667: UserWarning: The least populated class in y has only 1 members, which is less than n_splits=5.\n",
      "  % (min_groups, self.n_splits)), UserWarning)\n"
     ]
    },
    {
     "name": "stdout",
     "output_type": "stream",
     "text": [
      "| \u001b[95m 8       \u001b[0m | \u001b[95m-11.06   \u001b[0m | \u001b[95m 0.7979  \u001b[0m | \u001b[95m 0.006497\u001b[0m | \u001b[95m 4.422   \u001b[0m | \u001b[95m 2.853e+0\u001b[0m | \u001b[95m 1.467   \u001b[0m |\n"
     ]
    },
    {
     "name": "stderr",
     "output_type": "stream",
     "text": [
      "C:\\ProgramData\\Anaconda3\\lib\\site-packages\\lightgbm\\engine.py:503: UserWarning: Found `num_iterations` in params. Will use it instead of argument\n",
      "  warnings.warn(\"Found `{}` in params. Will use it instead of argument\".format(alias))\n",
      "C:\\ProgramData\\Anaconda3\\lib\\site-packages\\sklearn\\model_selection\\_split.py:667: UserWarning: The least populated class in y has only 1 members, which is less than n_splits=5.\n",
      "  % (min_groups, self.n_splits)), UserWarning)\n"
     ]
    },
    {
     "name": "stdout",
     "output_type": "stream",
     "text": [
      "| \u001b[0m 9       \u001b[0m | \u001b[0m-13.36   \u001b[0m | \u001b[0m 0.6     \u001b[0m | \u001b[0m 0.001   \u001b[0m | \u001b[0m 3.0     \u001b[0m | \u001b[0m 2.738e+0\u001b[0m | \u001b[0m 1.5     \u001b[0m |\n"
     ]
    },
    {
     "name": "stderr",
     "output_type": "stream",
     "text": [
      "C:\\ProgramData\\Anaconda3\\lib\\site-packages\\lightgbm\\engine.py:503: UserWarning: Found `num_iterations` in params. Will use it instead of argument\n",
      "  warnings.warn(\"Found `{}` in params. Will use it instead of argument\".format(alias))\n",
      "C:\\ProgramData\\Anaconda3\\lib\\site-packages\\sklearn\\model_selection\\_split.py:667: UserWarning: The least populated class in y has only 1 members, which is less than n_splits=5.\n",
      "  % (min_groups, self.n_splits)), UserWarning)\n"
     ]
    },
    {
     "name": "stdout",
     "output_type": "stream",
     "text": [
      "| \u001b[95m 10      \u001b[0m | \u001b[95m-10.97   \u001b[0m | \u001b[95m 0.6925  \u001b[0m | \u001b[95m 0.04252 \u001b[0m | \u001b[95m 11.97   \u001b[0m | \u001b[95m 2.879e+0\u001b[0m | \u001b[95m 1.114   \u001b[0m |\n"
     ]
    },
    {
     "name": "stderr",
     "output_type": "stream",
     "text": [
      "C:\\ProgramData\\Anaconda3\\lib\\site-packages\\lightgbm\\engine.py:503: UserWarning: Found `num_iterations` in params. Will use it instead of argument\n",
      "  warnings.warn(\"Found `{}` in params. Will use it instead of argument\".format(alias))\n",
      "C:\\ProgramData\\Anaconda3\\lib\\site-packages\\sklearn\\model_selection\\_split.py:667: UserWarning: The least populated class in y has only 1 members, which is less than n_splits=5.\n",
      "  % (min_groups, self.n_splits)), UserWarning)\n"
     ]
    },
    {
     "name": "stdout",
     "output_type": "stream",
     "text": [
      "| \u001b[95m 11      \u001b[0m | \u001b[95m-10.59   \u001b[0m | \u001b[95m 0.7586  \u001b[0m | \u001b[95m 0.1066  \u001b[0m | \u001b[95m 3.643   \u001b[0m | \u001b[95m 1.971e+0\u001b[0m | \u001b[95m 1.041   \u001b[0m |\n"
     ]
    },
    {
     "name": "stderr",
     "output_type": "stream",
     "text": [
      "C:\\ProgramData\\Anaconda3\\lib\\site-packages\\lightgbm\\engine.py:503: UserWarning: Found `num_iterations` in params. Will use it instead of argument\n",
      "  warnings.warn(\"Found `{}` in params. Will use it instead of argument\".format(alias))\n",
      "C:\\ProgramData\\Anaconda3\\lib\\site-packages\\sklearn\\model_selection\\_split.py:667: UserWarning: The least populated class in y has only 1 members, which is less than n_splits=5.\n",
      "  % (min_groups, self.n_splits)), UserWarning)\n"
     ]
    },
    {
     "name": "stdout",
     "output_type": "stream",
     "text": [
      "| \u001b[0m 12      \u001b[0m | \u001b[0m-11.13   \u001b[0m | \u001b[0m 0.6379  \u001b[0m | \u001b[0m 0.2275  \u001b[0m | \u001b[0m 11.72   \u001b[0m | \u001b[0m 1.91e+03\u001b[0m | \u001b[0m 1.226   \u001b[0m |\n"
     ]
    },
    {
     "name": "stderr",
     "output_type": "stream",
     "text": [
      "C:\\ProgramData\\Anaconda3\\lib\\site-packages\\lightgbm\\engine.py:503: UserWarning: Found `num_iterations` in params. Will use it instead of argument\n",
      "  warnings.warn(\"Found `{}` in params. Will use it instead of argument\".format(alias))\n",
      "C:\\ProgramData\\Anaconda3\\lib\\site-packages\\sklearn\\model_selection\\_split.py:667: UserWarning: The least populated class in y has only 1 members, which is less than n_splits=5.\n",
      "  % (min_groups, self.n_splits)), UserWarning)\n"
     ]
    },
    {
     "name": "stdout",
     "output_type": "stream",
     "text": [
      "| \u001b[0m 13      \u001b[0m | \u001b[0m-11.86   \u001b[0m | \u001b[0m 1.0     \u001b[0m | \u001b[0m 0.5     \u001b[0m | \u001b[0m 12.0    \u001b[0m | \u001b[0m 2.005e+0\u001b[0m | \u001b[0m 1.5     \u001b[0m |\n",
      "=====================================================================================\n"
     ]
    }
   ],
   "source": [
    "lgbBO.maximize(init_points=3, n_iter=10, acq='ei')"
   ]
  },
  {
   "cell_type": "code",
   "execution_count": 740,
   "metadata": {
    "scrolled": true
   },
   "outputs": [
    {
     "data": {
      "text/plain": [
       "{'feature_fraction': 0.7585669039285498,\n",
       " 'learning_rate': 0.10658808443042225,\n",
       " 'max_depth': 3,\n",
       " 'num_iterations': 1971,\n",
       " 'scale_pos_weight': 1.041278172221918}"
      ]
     },
     "execution_count": 740,
     "metadata": {},
     "output_type": "execute_result"
    }
   ],
   "source": [
    "best_params = lgbBO.max['params'] # 최적의 파라미터\n",
    "best_params['max_depth'] = int(best_params['max_depth'])\n",
    "best_params['num_iterations'] = int(best_params['num_iterations'])\n",
    "best_params"
   ]
  },
  {
   "cell_type": "code",
   "execution_count": 741,
   "metadata": {
    "scrolled": true
   },
   "outputs": [
    {
     "name": "stderr",
     "output_type": "stream",
     "text": [
      "C:\\ProgramData\\Anaconda3\\lib\\site-packages\\lightgbm\\engine.py:148: UserWarning: Found `num_iterations` in params. Will use it instead of argument\n",
      "  warnings.warn(\"Found `{}` in params. Will use it instead of argument\".format(alias))\n"
     ]
    },
    {
     "name": "stdout",
     "output_type": "stream",
     "text": [
      "train 데이터 예측 rmse : 1.2161844563000086\n",
      "hold-out(test 데이터) 예측 rmse : 10.019061956715134\n"
     ]
    }
   ],
   "source": [
    "model2 = lgb.train(best_params, dtrain, num_boost_round=250)\n",
    "\n",
    "# Predict on testing and training set\n",
    "y_pred = model2.predict(xtest)\n",
    "y_train_pred = model2.predict(xtrain)\n",
    "\n",
    "# Report testing and training RMSE\n",
    "\n",
    "# print('train 데이터 예측 rmse :', np.sqrt(mean_squared_error(ytrain, y_train_pred)))\n",
    "print('hold-out(test 데이터) 예측 rmse :', np.sqrt(mean_squared_error(ytest, y_pred))) #오버피팅이 심함"
   ]
  },
  {
   "cell_type": "code",
   "execution_count": null,
   "metadata": {},
   "outputs": [],
   "source": [
    "y"
   ]
  },
  {
   "cell_type": "code",
   "execution_count": null,
   "metadata": {},
   "outputs": [],
   "source": []
  },
  {
   "cell_type": "markdown",
   "metadata": {},
   "source": [
    "# 예측 모델 - 6. XGB"
   ]
  },
  {
   "cell_type": "code",
   "execution_count": 31,
   "metadata": {},
   "outputs": [],
   "source": [
    "# 관리자 모드로 cmd 열어서 =>      conda install -c conda-forge/label/cf202003 bayesian-optimization"
   ]
  },
  {
   "cell_type": "code",
   "execution_count": 32,
   "metadata": {},
   "outputs": [],
   "source": [
    "### 베이지안 최적화"
   ]
  },
  {
   "cell_type": "code",
   "execution_count": 41,
   "metadata": {},
   "outputs": [],
   "source": [
    "from xgboost import XGBRegressor\n",
    "import xgboost as xgb\n",
    "from bayes_opt import BayesianOptimization\n",
    "import warnings\n",
    "warnings.filterwarnings('ignore')"
   ]
  },
  {
   "cell_type": "code",
   "execution_count": 42,
   "metadata": {},
   "outputs": [],
   "source": [
    "# 그리드 서치"
   ]
  },
  {
   "cell_type": "code",
   "execution_count": 43,
   "metadata": {
    "scrolled": true
   },
   "outputs": [
    {
     "name": "stdout",
     "output_type": "stream",
     "text": [
      "Fitting 5 folds for each of 6804 candidates, totalling 34020 fits\n"
     ]
    },
    {
     "name": "stderr",
     "output_type": "stream",
     "text": [
      "[Parallel(n_jobs=-1)]: Using backend LokyBackend with 8 concurrent workers.\n",
      "[Parallel(n_jobs=-1)]: Done   2 tasks      | elapsed:    4.7s\n",
      "[Parallel(n_jobs=-1)]: Done   9 tasks      | elapsed:    4.8s\n",
      "[Parallel(n_jobs=-1)]: Done  16 tasks      | elapsed:    4.9s\n",
      "[Parallel(n_jobs=-1)]: Done  25 tasks      | elapsed:    5.0s\n",
      "[Parallel(n_jobs=-1)]: Done  34 tasks      | elapsed:    5.1s\n",
      "[Parallel(n_jobs=-1)]: Batch computation too fast (0.1944s.) Setting batch_size=2.\n",
      "[Parallel(n_jobs=-1)]: Done  45 tasks      | elapsed:    5.2s\n",
      "[Parallel(n_jobs=-1)]: Done  56 tasks      | elapsed:    5.3s\n",
      "[Parallel(n_jobs=-1)]: Done  82 tasks      | elapsed:    5.7s\n",
      "[Parallel(n_jobs=-1)]: Done 108 tasks      | elapsed:    6.2s\n",
      "[Parallel(n_jobs=-1)]: Done 138 tasks      | elapsed:    6.8s\n",
      "[Parallel(n_jobs=-1)]: Done 168 tasks      | elapsed:    7.5s\n",
      "[Parallel(n_jobs=-1)]: Done 202 tasks      | elapsed:    7.8s\n",
      "[Parallel(n_jobs=-1)]: Done 236 tasks      | elapsed:    8.4s\n",
      "[Parallel(n_jobs=-1)]: Done 274 tasks      | elapsed:    9.6s\n",
      "[Parallel(n_jobs=-1)]: Done 312 tasks      | elapsed:   10.8s\n",
      "[Parallel(n_jobs=-1)]: Done 354 tasks      | elapsed:   12.6s\n",
      "[Parallel(n_jobs=-1)]: Done 396 tasks      | elapsed:   13.3s\n",
      "[Parallel(n_jobs=-1)]: Done 442 tasks      | elapsed:   14.5s\n",
      "[Parallel(n_jobs=-1)]: Done 488 tasks      | elapsed:   16.0s\n",
      "[Parallel(n_jobs=-1)]: Done 538 tasks      | elapsed:   18.2s\n",
      "[Parallel(n_jobs=-1)]: Done 588 tasks      | elapsed:   19.5s\n",
      "[Parallel(n_jobs=-1)]: Done 642 tasks      | elapsed:   21.8s\n",
      "[Parallel(n_jobs=-1)]: Done 696 tasks      | elapsed:   25.0s\n",
      "[Parallel(n_jobs=-1)]: Done 754 tasks      | elapsed:   26.8s\n",
      "[Parallel(n_jobs=-1)]: Done 812 tasks      | elapsed:   29.1s\n",
      "[Parallel(n_jobs=-1)]: Batch computation too slow (2.0344s.) Setting batch_size=1.\n",
      "[Parallel(n_jobs=-1)]: Done 872 tasks      | elapsed:   33.9s\n",
      "[Parallel(n_jobs=-1)]: Done 904 tasks      | elapsed:   36.3s\n",
      "[Parallel(n_jobs=-1)]: Done 937 tasks      | elapsed:   37.3s\n",
      "[Parallel(n_jobs=-1)]: Done 970 tasks      | elapsed:   38.8s\n",
      "[Parallel(n_jobs=-1)]: Done 1005 tasks      | elapsed:   41.1s\n",
      "[Parallel(n_jobs=-1)]: Done 1040 tasks      | elapsed:   44.2s\n",
      "[Parallel(n_jobs=-1)]: Done 1077 tasks      | elapsed:   47.9s\n",
      "[Parallel(n_jobs=-1)]: Done 1114 tasks      | elapsed:   49.0s\n",
      "[Parallel(n_jobs=-1)]: Done 1153 tasks      | elapsed:   51.0s\n",
      "[Parallel(n_jobs=-1)]: Done 1192 tasks      | elapsed:   54.1s\n",
      "[Parallel(n_jobs=-1)]: Done 1233 tasks      | elapsed:   58.4s\n",
      "[Parallel(n_jobs=-1)]: Done 1274 tasks      | elapsed:  1.0min\n",
      "[Parallel(n_jobs=-1)]: Done 1317 tasks      | elapsed:  1.1min\n",
      "[Parallel(n_jobs=-1)]: Done 1360 tasks      | elapsed:  1.1min\n",
      "[Parallel(n_jobs=-1)]: Done 1405 tasks      | elapsed:  1.2min\n",
      "[Parallel(n_jobs=-1)]: Done 1450 tasks      | elapsed:  1.3min\n",
      "[Parallel(n_jobs=-1)]: Done 1497 tasks      | elapsed:  1.3min\n",
      "[Parallel(n_jobs=-1)]: Done 1544 tasks      | elapsed:  1.4min\n",
      "[Parallel(n_jobs=-1)]: Done 1593 tasks      | elapsed:  1.5min\n",
      "[Parallel(n_jobs=-1)]: Done 1642 tasks      | elapsed:  1.6min\n",
      "[Parallel(n_jobs=-1)]: Done 1693 tasks      | elapsed:  1.6min\n",
      "[Parallel(n_jobs=-1)]: Done 1744 tasks      | elapsed:  1.6min\n",
      "[Parallel(n_jobs=-1)]: Done 1797 tasks      | elapsed:  1.6min\n",
      "[Parallel(n_jobs=-1)]: Done 1850 tasks      | elapsed:  1.6min\n",
      "[Parallel(n_jobs=-1)]: Done 1905 tasks      | elapsed:  1.7min\n",
      "[Parallel(n_jobs=-1)]: Done 1960 tasks      | elapsed:  1.7min\n",
      "[Parallel(n_jobs=-1)]: Done 2017 tasks      | elapsed:  1.7min\n",
      "[Parallel(n_jobs=-1)]: Done 2074 tasks      | elapsed:  1.8min\n",
      "[Parallel(n_jobs=-1)]: Done 2133 tasks      | elapsed:  1.8min\n",
      "[Parallel(n_jobs=-1)]: Done 2192 tasks      | elapsed:  1.9min\n",
      "[Parallel(n_jobs=-1)]: Done 2253 tasks      | elapsed:  1.9min\n",
      "[Parallel(n_jobs=-1)]: Done 2314 tasks      | elapsed:  2.0min\n",
      "[Parallel(n_jobs=-1)]: Done 2377 tasks      | elapsed:  2.0min\n",
      "[Parallel(n_jobs=-1)]: Done 2440 tasks      | elapsed:  2.1min\n",
      "[Parallel(n_jobs=-1)]: Done 2505 tasks      | elapsed:  2.2min\n",
      "[Parallel(n_jobs=-1)]: Done 2570 tasks      | elapsed:  2.2min\n",
      "[Parallel(n_jobs=-1)]: Done 2637 tasks      | elapsed:  2.3min\n",
      "[Parallel(n_jobs=-1)]: Done 2704 tasks      | elapsed:  2.4min\n",
      "[Parallel(n_jobs=-1)]: Done 2773 tasks      | elapsed:  2.4min\n",
      "[Parallel(n_jobs=-1)]: Done 2842 tasks      | elapsed:  2.5min\n",
      "[Parallel(n_jobs=-1)]: Done 2913 tasks      | elapsed:  2.6min\n",
      "[Parallel(n_jobs=-1)]: Done 2984 tasks      | elapsed:  2.7min\n",
      "[Parallel(n_jobs=-1)]: Done 3057 tasks      | elapsed:  2.8min\n",
      "[Parallel(n_jobs=-1)]: Done 3130 tasks      | elapsed:  2.9min\n",
      "[Parallel(n_jobs=-1)]: Done 3205 tasks      | elapsed:  3.0min\n",
      "[Parallel(n_jobs=-1)]: Done 3280 tasks      | elapsed:  3.1min\n",
      "[Parallel(n_jobs=-1)]: Done 3357 tasks      | elapsed:  3.2min\n",
      "[Parallel(n_jobs=-1)]: Done 3434 tasks      | elapsed:  3.2min\n",
      "[Parallel(n_jobs=-1)]: Done 3513 tasks      | elapsed:  3.2min\n",
      "[Parallel(n_jobs=-1)]: Done 3592 tasks      | elapsed:  3.3min\n",
      "[Parallel(n_jobs=-1)]: Done 3673 tasks      | elapsed:  3.3min\n",
      "[Parallel(n_jobs=-1)]: Done 3754 tasks      | elapsed:  3.4min\n",
      "[Parallel(n_jobs=-1)]: Done 3837 tasks      | elapsed:  3.4min\n",
      "[Parallel(n_jobs=-1)]: Done 3920 tasks      | elapsed:  3.5min\n",
      "[Parallel(n_jobs=-1)]: Done 4005 tasks      | elapsed:  3.6min\n",
      "[Parallel(n_jobs=-1)]: Done 4090 tasks      | elapsed:  3.7min\n",
      "[Parallel(n_jobs=-1)]: Done 4177 tasks      | elapsed:  3.8min\n",
      "[Parallel(n_jobs=-1)]: Done 4264 tasks      | elapsed:  3.8min\n",
      "[Parallel(n_jobs=-1)]: Done 4353 tasks      | elapsed:  4.0min\n",
      "[Parallel(n_jobs=-1)]: Done 4442 tasks      | elapsed:  4.1min\n",
      "[Parallel(n_jobs=-1)]: Done 4533 tasks      | elapsed:  4.2min\n",
      "[Parallel(n_jobs=-1)]: Done 4624 tasks      | elapsed:  4.3min\n",
      "[Parallel(n_jobs=-1)]: Done 4717 tasks      | elapsed:  4.4min\n",
      "[Parallel(n_jobs=-1)]: Done 4810 tasks      | elapsed:  4.6min\n",
      "[Parallel(n_jobs=-1)]: Done 4905 tasks      | elapsed:  4.7min\n",
      "[Parallel(n_jobs=-1)]: Done 5000 tasks      | elapsed:  4.7min\n",
      "[Parallel(n_jobs=-1)]: Done 5097 tasks      | elapsed:  4.8min\n",
      "[Parallel(n_jobs=-1)]: Done 5194 tasks      | elapsed:  4.8min\n",
      "[Parallel(n_jobs=-1)]: Done 5293 tasks      | elapsed:  4.9min\n",
      "[Parallel(n_jobs=-1)]: Done 5392 tasks      | elapsed:  5.0min\n",
      "[Parallel(n_jobs=-1)]: Done 5493 tasks      | elapsed:  5.0min\n",
      "[Parallel(n_jobs=-1)]: Done 5594 tasks      | elapsed:  5.1min\n",
      "[Parallel(n_jobs=-1)]: Done 5697 tasks      | elapsed:  5.2min\n",
      "[Parallel(n_jobs=-1)]: Done 5800 tasks      | elapsed:  5.3min\n",
      "[Parallel(n_jobs=-1)]: Done 5905 tasks      | elapsed:  5.5min\n",
      "[Parallel(n_jobs=-1)]: Done 6010 tasks      | elapsed:  5.6min\n",
      "[Parallel(n_jobs=-1)]: Done 6117 tasks      | elapsed:  5.7min\n",
      "[Parallel(n_jobs=-1)]: Done 6224 tasks      | elapsed:  5.8min\n",
      "[Parallel(n_jobs=-1)]: Done 6333 tasks      | elapsed:  6.0min\n",
      "[Parallel(n_jobs=-1)]: Done 6442 tasks      | elapsed:  6.2min\n",
      "[Parallel(n_jobs=-1)]: Done 6553 tasks      | elapsed:  6.3min\n",
      "[Parallel(n_jobs=-1)]: Done 6664 tasks      | elapsed:  6.3min\n",
      "[Parallel(n_jobs=-1)]: Done 6777 tasks      | elapsed:  6.4min\n",
      "[Parallel(n_jobs=-1)]: Done 6890 tasks      | elapsed:  6.5min\n",
      "[Parallel(n_jobs=-1)]: Done 7005 tasks      | elapsed:  6.6min\n",
      "[Parallel(n_jobs=-1)]: Done 7120 tasks      | elapsed:  6.6min\n",
      "[Parallel(n_jobs=-1)]: Done 7237 tasks      | elapsed:  6.7min\n",
      "[Parallel(n_jobs=-1)]: Done 7354 tasks      | elapsed:  6.9min\n",
      "[Parallel(n_jobs=-1)]: Done 7473 tasks      | elapsed:  7.0min\n",
      "[Parallel(n_jobs=-1)]: Done 7592 tasks      | elapsed:  7.1min\n",
      "[Parallel(n_jobs=-1)]: Done 7713 tasks      | elapsed:  7.3min\n",
      "[Parallel(n_jobs=-1)]: Done 7834 tasks      | elapsed:  7.4min\n",
      "[Parallel(n_jobs=-1)]: Done 7957 tasks      | elapsed:  7.6min\n",
      "[Parallel(n_jobs=-1)]: Done 8080 tasks      | elapsed:  7.8min\n",
      "[Parallel(n_jobs=-1)]: Done 8205 tasks      | elapsed:  7.9min\n",
      "[Parallel(n_jobs=-1)]: Done 8330 tasks      | elapsed:  7.9min\n",
      "[Parallel(n_jobs=-1)]: Done 8457 tasks      | elapsed:  8.0min\n",
      "[Parallel(n_jobs=-1)]: Done 8584 tasks      | elapsed:  8.1min\n",
      "[Parallel(n_jobs=-1)]: Done 8713 tasks      | elapsed:  8.2min\n",
      "[Parallel(n_jobs=-1)]: Done 8842 tasks      | elapsed:  8.3min\n",
      "[Parallel(n_jobs=-1)]: Done 8973 tasks      | elapsed:  8.4min\n",
      "[Parallel(n_jobs=-1)]: Done 9104 tasks      | elapsed:  8.5min\n"
     ]
    },
    {
     "name": "stderr",
     "output_type": "stream",
     "text": [
      "[Parallel(n_jobs=-1)]: Done 9237 tasks      | elapsed:  8.7min\n",
      "[Parallel(n_jobs=-1)]: Done 9370 tasks      | elapsed:  8.9min\n",
      "[Parallel(n_jobs=-1)]: Done 9505 tasks      | elapsed:  9.1min\n",
      "[Parallel(n_jobs=-1)]: Done 9640 tasks      | elapsed:  9.2min\n",
      "[Parallel(n_jobs=-1)]: Done 9777 tasks      | elapsed:  9.4min\n",
      "[Parallel(n_jobs=-1)]: Done 9914 tasks      | elapsed:  9.5min\n",
      "[Parallel(n_jobs=-1)]: Done 10053 tasks      | elapsed:  9.6min\n",
      "[Parallel(n_jobs=-1)]: Done 10192 tasks      | elapsed:  9.7min\n",
      "[Parallel(n_jobs=-1)]: Done 10333 tasks      | elapsed:  9.8min\n",
      "[Parallel(n_jobs=-1)]: Done 10474 tasks      | elapsed:  9.9min\n",
      "[Parallel(n_jobs=-1)]: Done 10617 tasks      | elapsed: 10.0min\n",
      "[Parallel(n_jobs=-1)]: Done 10760 tasks      | elapsed: 10.2min\n",
      "[Parallel(n_jobs=-1)]: Done 10905 tasks      | elapsed: 10.3min\n",
      "[Parallel(n_jobs=-1)]: Done 11050 tasks      | elapsed: 10.5min\n",
      "[Parallel(n_jobs=-1)]: Done 11197 tasks      | elapsed: 10.8min\n",
      "[Parallel(n_jobs=-1)]: Done 11344 tasks      | elapsed: 11.0min\n",
      "[Parallel(n_jobs=-1)]: Done 11493 tasks      | elapsed: 11.1min\n",
      "[Parallel(n_jobs=-1)]: Done 11642 tasks      | elapsed: 11.1min\n",
      "[Parallel(n_jobs=-1)]: Done 11793 tasks      | elapsed: 11.2min\n",
      "[Parallel(n_jobs=-1)]: Done 11944 tasks      | elapsed: 11.3min\n",
      "[Parallel(n_jobs=-1)]: Done 12097 tasks      | elapsed: 11.5min\n",
      "[Parallel(n_jobs=-1)]: Done 12250 tasks      | elapsed: 11.6min\n",
      "[Parallel(n_jobs=-1)]: Done 12405 tasks      | elapsed: 11.8min\n",
      "[Parallel(n_jobs=-1)]: Done 12560 tasks      | elapsed: 12.0min\n",
      "[Parallel(n_jobs=-1)]: Done 12717 tasks      | elapsed: 12.2min\n",
      "[Parallel(n_jobs=-1)]: Done 12874 tasks      | elapsed: 12.4min\n",
      "[Parallel(n_jobs=-1)]: Done 13033 tasks      | elapsed: 12.6min\n",
      "[Parallel(n_jobs=-1)]: Done 13192 tasks      | elapsed: 12.7min\n",
      "[Parallel(n_jobs=-1)]: Done 13353 tasks      | elapsed: 12.8min\n",
      "[Parallel(n_jobs=-1)]: Done 13514 tasks      | elapsed: 12.9min\n",
      "[Parallel(n_jobs=-1)]: Done 13677 tasks      | elapsed: 13.1min\n",
      "[Parallel(n_jobs=-1)]: Done 13840 tasks      | elapsed: 13.2min\n",
      "[Parallel(n_jobs=-1)]: Done 14005 tasks      | elapsed: 13.4min\n",
      "[Parallel(n_jobs=-1)]: Done 14170 tasks      | elapsed: 13.6min\n",
      "[Parallel(n_jobs=-1)]: Done 14337 tasks      | elapsed: 13.8min\n",
      "[Parallel(n_jobs=-1)]: Done 14504 tasks      | elapsed: 14.0min\n",
      "[Parallel(n_jobs=-1)]: Done 14673 tasks      | elapsed: 14.2min\n",
      "[Parallel(n_jobs=-1)]: Done 14842 tasks      | elapsed: 14.3min\n",
      "[Parallel(n_jobs=-1)]: Done 15013 tasks      | elapsed: 14.4min\n",
      "[Parallel(n_jobs=-1)]: Done 15184 tasks      | elapsed: 14.5min\n",
      "[Parallel(n_jobs=-1)]: Done 15357 tasks      | elapsed: 14.7min\n",
      "[Parallel(n_jobs=-1)]: Done 15530 tasks      | elapsed: 14.8min\n",
      "[Parallel(n_jobs=-1)]: Done 15705 tasks      | elapsed: 15.0min\n",
      "[Parallel(n_jobs=-1)]: Done 15880 tasks      | elapsed: 15.2min\n",
      "[Parallel(n_jobs=-1)]: Done 16057 tasks      | elapsed: 15.5min\n",
      "[Parallel(n_jobs=-1)]: Done 16234 tasks      | elapsed: 15.8min\n",
      "[Parallel(n_jobs=-1)]: Done 16413 tasks      | elapsed: 15.9min\n",
      "[Parallel(n_jobs=-1)]: Done 16592 tasks      | elapsed: 16.0min\n",
      "[Parallel(n_jobs=-1)]: Done 16773 tasks      | elapsed: 16.1min\n",
      "[Parallel(n_jobs=-1)]: Done 16954 tasks      | elapsed: 16.2min\n",
      "[Parallel(n_jobs=-1)]: Done 17137 tasks      | elapsed: 16.3min\n",
      "[Parallel(n_jobs=-1)]: Done 17320 tasks      | elapsed: 16.5min\n",
      "[Parallel(n_jobs=-1)]: Done 17505 tasks      | elapsed: 16.8min\n",
      "[Parallel(n_jobs=-1)]: Done 17690 tasks      | elapsed: 17.0min\n",
      "[Parallel(n_jobs=-1)]: Done 17877 tasks      | elapsed: 17.2min\n",
      "[Parallel(n_jobs=-1)]: Batch computation too fast (0.1965s.) Setting batch_size=2.\n",
      "[Parallel(n_jobs=-1)]: Done 18088 tasks      | elapsed: 17.3min\n",
      "[Parallel(n_jobs=-1)]: Batch computation too slow (2.0086s.) Setting batch_size=1.\n",
      "[Parallel(n_jobs=-1)]: Done 18421 tasks      | elapsed: 17.5min\n",
      "[Parallel(n_jobs=-1)]: Done 18610 tasks      | elapsed: 17.6min\n",
      "[Parallel(n_jobs=-1)]: Done 18801 tasks      | elapsed: 17.8min\n",
      "[Parallel(n_jobs=-1)]: Done 18992 tasks      | elapsed: 18.0min\n",
      "[Parallel(n_jobs=-1)]: Done 19185 tasks      | elapsed: 18.2min\n",
      "[Parallel(n_jobs=-1)]: Done 19378 tasks      | elapsed: 18.5min\n",
      "[Parallel(n_jobs=-1)]: Done 19573 tasks      | elapsed: 18.7min\n",
      "[Parallel(n_jobs=-1)]: Batch computation too fast (0.1946s.) Setting batch_size=2.\n",
      "[Parallel(n_jobs=-1)]: Done 19880 tasks      | elapsed: 18.8min\n",
      "[Parallel(n_jobs=-1)]: Batch computation too slow (2.0551s.) Setting batch_size=1.\n",
      "[Parallel(n_jobs=-1)]: Done 20141 tasks      | elapsed: 19.0min\n",
      "[Parallel(n_jobs=-1)]: Done 20338 tasks      | elapsed: 19.2min\n",
      "[Parallel(n_jobs=-1)]: Done 20537 tasks      | elapsed: 19.4min\n",
      "[Parallel(n_jobs=-1)]: Done 20736 tasks      | elapsed: 19.7min\n",
      "[Parallel(n_jobs=-1)]: Done 20937 tasks      | elapsed: 19.9min\n",
      "[Parallel(n_jobs=-1)]: Done 21138 tasks      | elapsed: 20.0min\n",
      "[Parallel(n_jobs=-1)]: Done 21341 tasks      | elapsed: 20.1min\n",
      "[Parallel(n_jobs=-1)]: Done 21544 tasks      | elapsed: 20.2min\n",
      "[Parallel(n_jobs=-1)]: Done 21749 tasks      | elapsed: 20.4min\n",
      "[Parallel(n_jobs=-1)]: Done 21954 tasks      | elapsed: 20.6min\n",
      "[Parallel(n_jobs=-1)]: Done 22161 tasks      | elapsed: 20.7min\n",
      "[Parallel(n_jobs=-1)]: Done 22368 tasks      | elapsed: 21.0min\n",
      "[Parallel(n_jobs=-1)]: Done 22577 tasks      | elapsed: 21.2min\n",
      "[Parallel(n_jobs=-1)]: Done 22786 tasks      | elapsed: 21.4min\n",
      "[Parallel(n_jobs=-1)]: Done 22997 tasks      | elapsed: 21.5min\n",
      "[Parallel(n_jobs=-1)]: Done 23208 tasks      | elapsed: 21.7min\n",
      "[Parallel(n_jobs=-1)]: Done 23421 tasks      | elapsed: 21.8min\n",
      "[Parallel(n_jobs=-1)]: Done 23634 tasks      | elapsed: 22.0min\n",
      "[Parallel(n_jobs=-1)]: Done 23849 tasks      | elapsed: 22.2min\n",
      "[Parallel(n_jobs=-1)]: Done 24064 tasks      | elapsed: 22.5min\n",
      "[Parallel(n_jobs=-1)]: Done 24281 tasks      | elapsed: 22.8min\n",
      "[Parallel(n_jobs=-1)]: Done 24498 tasks      | elapsed: 22.9min\n",
      "[Parallel(n_jobs=-1)]: Batch computation too fast (0.1951s.) Setting batch_size=2.\n",
      "[Parallel(n_jobs=-1)]: Batch computation too slow (2.0209s.) Setting batch_size=1.\n",
      "[Parallel(n_jobs=-1)]: Done 24885 tasks      | elapsed: 23.1min\n",
      "[Parallel(n_jobs=-1)]: Done 25104 tasks      | elapsed: 23.3min\n",
      "[Parallel(n_jobs=-1)]: Done 25325 tasks      | elapsed: 23.5min\n",
      "[Parallel(n_jobs=-1)]: Done 25546 tasks      | elapsed: 23.8min\n",
      "[Parallel(n_jobs=-1)]: Done 25769 tasks      | elapsed: 24.0min\n",
      "[Parallel(n_jobs=-1)]: Done 25992 tasks      | elapsed: 24.2min\n",
      "[Parallel(n_jobs=-1)]: Done 26217 tasks      | elapsed: 24.3min\n",
      "[Parallel(n_jobs=-1)]: Done 26442 tasks      | elapsed: 24.5min\n",
      "[Parallel(n_jobs=-1)]: Done 26669 tasks      | elapsed: 24.6min\n",
      "[Parallel(n_jobs=-1)]: Done 26896 tasks      | elapsed: 24.8min\n",
      "[Parallel(n_jobs=-1)]: Done 27125 tasks      | elapsed: 25.1min\n",
      "[Parallel(n_jobs=-1)]: Done 27354 tasks      | elapsed: 25.4min\n",
      "[Parallel(n_jobs=-1)]: Done 27585 tasks      | elapsed: 25.6min\n",
      "[Parallel(n_jobs=-1)]: Batch computation too fast (0.1997s.) Setting batch_size=2.\n",
      "[Parallel(n_jobs=-1)]: Done 27872 tasks      | elapsed: 25.8min\n",
      "[Parallel(n_jobs=-1)]: Batch computation too slow (2.0210s.) Setting batch_size=1.\n",
      "[Parallel(n_jobs=-1)]: Done 28305 tasks      | elapsed: 26.0min\n",
      "[Parallel(n_jobs=-1)]: Done 28538 tasks      | elapsed: 26.3min\n",
      "[Parallel(n_jobs=-1)]: Done 28773 tasks      | elapsed: 26.5min\n",
      "[Parallel(n_jobs=-1)]: Done 29008 tasks      | elapsed: 26.7min\n",
      "[Parallel(n_jobs=-1)]: Done 29245 tasks      | elapsed: 27.0min\n",
      "[Parallel(n_jobs=-1)]: Batch computation too fast (0.1990s.) Setting batch_size=2.\n",
      "[Parallel(n_jobs=-1)]: Done 29580 tasks      | elapsed: 27.1min\n",
      "[Parallel(n_jobs=-1)]: Batch computation too slow (2.0273s.) Setting batch_size=1.\n",
      "[Parallel(n_jobs=-1)]: Done 29889 tasks      | elapsed: 27.4min\n",
      "[Parallel(n_jobs=-1)]: Done 30128 tasks      | elapsed: 27.6min\n",
      "[Parallel(n_jobs=-1)]: Done 30369 tasks      | elapsed: 27.8min\n",
      "[Parallel(n_jobs=-1)]: Done 30610 tasks      | elapsed: 28.2min\n",
      "[Parallel(n_jobs=-1)]: Done 30853 tasks      | elapsed: 28.4min\n",
      "[Parallel(n_jobs=-1)]: Done 31096 tasks      | elapsed: 28.5min\n",
      "[Parallel(n_jobs=-1)]: Done 31341 tasks      | elapsed: 28.7min\n",
      "[Parallel(n_jobs=-1)]: Done 31586 tasks      | elapsed: 28.9min\n",
      "[Parallel(n_jobs=-1)]: Done 31833 tasks      | elapsed: 29.1min\n",
      "[Parallel(n_jobs=-1)]: Done 32080 tasks      | elapsed: 29.4min\n"
     ]
    },
    {
     "name": "stderr",
     "output_type": "stream",
     "text": [
      "[Parallel(n_jobs=-1)]: Done 32329 tasks      | elapsed: 29.7min\n",
      "[Parallel(n_jobs=-1)]: Done 32578 tasks      | elapsed: 29.9min\n",
      "[Parallel(n_jobs=-1)]: Done 32829 tasks      | elapsed: 30.0min\n",
      "[Parallel(n_jobs=-1)]: Done 33080 tasks      | elapsed: 30.2min\n",
      "[Parallel(n_jobs=-1)]: Done 33333 tasks      | elapsed: 30.4min\n",
      "[Parallel(n_jobs=-1)]: Done 33586 tasks      | elapsed: 30.6min\n",
      "[Parallel(n_jobs=-1)]: Done 33841 tasks      | elapsed: 31.0min\n",
      "[Parallel(n_jobs=-1)]: Done 34020 out of 34020 | elapsed: 31.3min finished\n"
     ]
    },
    {
     "data": {
      "text/plain": [
       "GridSearchCV(cv=5, error_score=nan,\n",
       "             estimator=XGBRegressor(base_score=None, booster=None,\n",
       "                                    colsample_bylevel=None,\n",
       "                                    colsample_bynode=None,\n",
       "                                    colsample_bytree=None, gamma=None,\n",
       "                                    gpu_id=None, importance_type='gain',\n",
       "                                    interaction_constraints=None,\n",
       "                                    learning_rate=None, max_delta_step=None,\n",
       "                                    max_depth=None, min_child_weight=None,\n",
       "                                    missing=nan, monotone_constraints=None,\n",
       "                                    n_estima...\n",
       "             param_grid={'eta': [0.001, 0.005, 0.01, 0.02, 0.25, 0.3, 0.035],\n",
       "                         'gamma': [0, 1, 2],\n",
       "                         'max_depth': array([ 3,  4,  5,  6,  7,  8,  9, 10, 11]),\n",
       "                         'n_estimators': array([ 20,  25,  30,  35,  40,  45,  50,  55,  60,  65,  70,  75,  80,\n",
       "        85,  90,  95, 100, 105, 110, 115, 120, 125, 130, 135, 140, 145,\n",
       "       150, 155, 160, 165, 170, 175, 180, 185, 190, 195])},\n",
       "             pre_dispatch='2*n_jobs', refit=True, return_train_score=True,\n",
       "             scoring='neg_mean_squared_error', verbose=10)"
      ]
     },
     "execution_count": 43,
     "metadata": {},
     "output_type": "execute_result"
    }
   ],
   "source": [
    "xgb_reg = xgb.XGBRegressor(random_state = 0) # eta : learning rate, lambda : L2 regularization, alpha : L1 regularization\n",
    "param_grid = {'eta' : [0.001,0.005,0.01,0.02, 0.25,0.3,0.035], 'n_estimators' : np.arange(20,200,5),\n",
    "              'max_depth' : np.arange(3,12,1), 'gamma':[0,1,2]}\n",
    "\n",
    "grid_search = GridSearchCV(xgb_reg, param_grid, cv=5,\n",
    "    return_train_score=True, scoring = 'neg_mean_squared_error',verbose=10,n_jobs = -1)\n",
    "\n",
    "grid_search.fit(xtrain, ytrain)"
   ]
  },
  {
   "cell_type": "code",
   "execution_count": 801,
   "metadata": {},
   "outputs": [
    {
     "name": "stdout",
     "output_type": "stream",
     "text": [
      "{'eta': 0.25, 'gamma': 1, 'max_depth': 3, 'n_estimators': 195}\n"
     ]
    }
   ],
   "source": [
    "print(grid_search.best_params_)\n"
   ]
  },
  {
   "cell_type": "code",
   "execution_count": 802,
   "metadata": {},
   "outputs": [],
   "source": [
    "best_estim=grid_search.best_estimator_"
   ]
  },
  {
   "cell_type": "code",
   "execution_count": 803,
   "metadata": {},
   "outputs": [
    {
     "data": {
      "text/plain": [
       "XGBRegressor(base_score=0.5, booster='gbtree', colsample_bylevel=1,\n",
       "             colsample_bynode=1, colsample_bytree=1, eta=0.25, gamma=1,\n",
       "             gpu_id=-1, importance_type='gain', interaction_constraints='',\n",
       "             learning_rate=0.25, max_delta_step=0, max_depth=3,\n",
       "             min_child_weight=1, missing=nan, monotone_constraints='()',\n",
       "             n_estimators=195, n_jobs=0, num_parallel_tree=1,\n",
       "             objective='reg:squarederror', random_state=0, reg_alpha=0,\n",
       "             reg_lambda=1, scale_pos_weight=1, subsample=1, tree_method='exact',\n",
       "             validate_parameters=1, verbosity=None)"
      ]
     },
     "execution_count": 803,
     "metadata": {},
     "output_type": "execute_result"
    }
   ],
   "source": [
    "# 따라서 최적의 모형은\n",
    "xgb_reg = best_estim\n",
    "xgb_reg"
   ]
  },
  {
   "cell_type": "code",
   "execution_count": 817,
   "metadata": {
    "scrolled": true
   },
   "outputs": [],
   "source": [
    "xgb_reg.fit(xtrain, ytrain)\n",
    "\n",
    "# K-fold - decision tree\n",
    "# kfold = KFold(n_splits=10, shuffle=True)\n",
    "\n",
    "kf_cv_scores = cross_val_score(xgb_reg, xtrain, ytrain, cv=10, scoring = 'neg_mean_squared_error')\n",
    "kf_cv_scores = np.sqrt(-kf_cv_scores).mean()"
   ]
  },
  {
   "cell_type": "code",
   "execution_count": 818,
   "metadata": {},
   "outputs": [
    {
     "name": "stdout",
     "output_type": "stream",
     "text": [
      "K-fold CV average score: 10.16\n"
     ]
    }
   ],
   "source": [
    "print(\"K-fold CV average score: %.2f\" % kf_cv_scores)"
   ]
  },
  {
   "cell_type": "code",
   "execution_count": 819,
   "metadata": {},
   "outputs": [
    {
     "name": "stdout",
     "output_type": "stream",
     "text": [
      "모델 Adjusted R^2: 0.65\n",
      "예측 RMSE: 10.17\n"
     ]
    }
   ],
   "source": [
    "# prediction 및 score\n",
    "from sklearn.metrics import r2_score\n",
    "ypred = xgb_reg.predict(xtest)\n",
    "mse = mean_squared_error(ytest,ypred)\n",
    "r2 = r2_score(ytest, ypred)\n",
    "A_r2 = Adj_r2(xtest,r2)\n",
    "\n",
    "print(\"모델 Adjusted R^2: %.2f\" % A_r2)\n",
    "print(\"예측 RMSE: %.2f\" % np.sqrt(mse))"
   ]
  },
  {
   "cell_type": "code",
   "execution_count": 326,
   "metadata": {
    "scrolled": true
   },
   "outputs": [
    {
     "data": {
      "image/png": "[encoded data removed]",
      "text/plain": [
       "<Figure size 936x936 with 1 Axes>"
      ]
     },
     "metadata": {
      "needs_background": "light"
     },
     "output_type": "display_data"
    }
   ],
   "source": [
    "x_ax = range(len(ytest))\n",
    "plt.rcParams[\"figure.figsize\"] = (13,13)\n",
    "plt.scatter(x_ax, ytest, s=20, color=\"blue\", label=\"original\")\n",
    "plt.scatter(x_ax, ypred, s=20, color=\"red\", label=\"predicted\")\n",
    "plt.legend(prop={'size': 15})\n",
    "plt.suptitle('XGB prediction result', fontsize=25)\n",
    "plt.show()"
   ]
  },
  {
   "cell_type": "code",
   "execution_count": 778,
   "metadata": {
    "scrolled": false
   },
   "outputs": [
    {
     "data": {
      "image/png": "[encoded data removed]",
      "text/plain": [
       "<Figure size 648x504 with 1 Axes>"
      ]
     },
     "metadata": {
      "needs_background": "light"
     },
     "output_type": "display_data"
    }
   ],
   "source": [
    "#피처 중요도 도표 그리기\n",
    "featureImportance = xgb_reg.feature_importances_\n",
    " \n",
    "#가장 높은 중요도 기준으로 스케일링\n",
    "featureImportance = featureImportance/featureImportance.max()\n",
    "sorted_idx = np.argsort(featureImportance)\n",
    "barPos = np.arange(sorted_idx.shape[0])+.5\n",
    "plot.barh(barPos, featureImportance[sorted_idx], align='center')\n",
    "plot.yticks(barPos, X.columns[sorted_idx])\n",
    "plot.xlabel('Variable Importance')\n",
    "plt.rcParams[\"figure.figsize\"] = (9,7)\n",
    "plt.rcParams['lines.linewidth'] = 4\n",
    "plt.rcParams['lines.color'] = 'b'\n",
    "plt.title('Feature importance of XGB Regressor')\n",
    "plot.show()"
   ]
  },
  {
   "cell_type": "code",
   "execution_count": null,
   "metadata": {},
   "outputs": [],
   "source": []
  },
  {
   "cell_type": "code",
   "execution_count": null,
   "metadata": {},
   "outputs": [],
   "source": [
    "# 베이지안 옵티마이제이션"
   ]
  },
  {
   "cell_type": "code",
   "execution_count": 780,
   "metadata": {},
   "outputs": [],
   "source": [
    "dtrain = xgb.DMatrix(xtrain, label=ytrain)\n",
    "dtest = xgb.DMatrix(xtest)"
   ]
  },
  {
   "cell_type": "code",
   "execution_count": 781,
   "metadata": {},
   "outputs": [],
   "source": [
    "def xgb_evaluate(max_depth, gamma, subsample, colsample_bytree, eta, min_child_weight, n_estimators, nrounds):\n",
    "    params = {'eval_metric': 'rmse',\n",
    "              'max_depth': int(round(max_depth)),\n",
    "              'subsample': subsample,\n",
    "              'eta': eta,\n",
    "              'gamma': gamma,\n",
    "              'colsample_bytree': colsample_bytree,\n",
    "             'random_state' : 0,\n",
    "             'min_child_weight' : min_child_weight,\n",
    "              'n_estimators' : n_estimators,\n",
    "             'nrounds': int(round(nrounds))}\n",
    "    # Used around 1000 boosting rounds in the full model\n",
    "    cv_result = xgb.cv(params, dtrain, num_boost_round=100, nfold=5)    \n",
    "    \n",
    "    # Bayesian optimization only knows how to maximize, not minimize, so return the negative RMSE\n",
    "    return -1.0 * cv_result['test-rmse-mean'].iloc[-1]"
   ]
  },
  {
   "cell_type": "code",
   "execution_count": 782,
   "metadata": {
    "scrolled": true
   },
   "outputs": [
    {
     "name": "stdout",
     "output_type": "stream",
     "text": [
      "|   iter    |  target   | colsam... |    eta    |   gamma   | max_depth | min_ch... | n_esti... |  nrounds  | subsample |\n",
      "-------------------------------------------------------------------------------------------------------------------------\n",
      "[13:03:32] WARNING: C:\\Users\\Administrator\\workspace\\xgboost-win64_release_1.1.0\\src\\learner.cc:480: \n",
      "Parameters: { n_estimators, nrounds } might not be used.\n",
      "\n",
      "  This may not be accurate due to some parameters are only used in language bindings but\n",
      "  passed down to XGBoost core.  Or some parameters are not used but slip through this\n",
      "  verification. Please open an issue if you find above cases.\n",
      "\n",
      "\n",
      "[13:03:32] WARNING: C:\\Users\\Administrator\\workspace\\xgboost-win64_release_1.1.0\\src\\learner.cc:480: \n",
      "Parameters: { n_estimators, nrounds } might not be used.\n",
      "\n",
      "  This may not be accurate due to some parameters are only used in language bindings but\n",
      "  passed down to XGBoost core.  Or some parameters are not used but slip through this\n",
      "  verification. Please open an issue if you find above cases.\n",
      "\n",
      "\n",
      "[13:03:32] WARNING: C:\\Users\\Administrator\\workspace\\xgboost-win64_release_1.1.0\\src\\learner.cc:480: \n",
      "Parameters: { n_estimators, nrounds } might not be used.\n",
      "\n",
      "  This may not be accurate due to some parameters are only used in language bindings but\n",
      "  passed down to XGBoost core.  Or some parameters are not used but slip through this\n",
      "  verification. Please open an issue if you find above cases.\n",
      "\n",
      "\n",
      "[13:03:32] WARNING: C:\\Users\\Administrator\\workspace\\xgboost-win64_release_1.1.0\\src\\learner.cc:480: \n",
      "Parameters: { n_estimators, nrounds } might not be used.\n",
      "\n",
      "  This may not be accurate due to some parameters are only used in language bindings but\n",
      "  passed down to XGBoost core.  Or some parameters are not used but slip through this\n",
      "  verification. Please open an issue if you find above cases.\n",
      "\n",
      "\n",
      "[13:03:32] WARNING: C:\\Users\\Administrator\\workspace\\xgboost-win64_release_1.1.0\\src\\learner.cc:480: \n",
      "Parameters: { n_estimators, nrounds } might not be used.\n",
      "\n",
      "  This may not be accurate due to some parameters are only used in language bindings but\n",
      "  passed down to XGBoost core.  Or some parameters are not used but slip through this\n",
      "  verification. Please open an issue if you find above cases.\n",
      "\n",
      "\n",
      "| \u001b[0m 1       \u001b[0m | \u001b[0m-10.28   \u001b[0m | \u001b[0m 0.7762  \u001b[0m | \u001b[0m 0.1018  \u001b[0m | \u001b[0m 1.673   \u001b[0m | \u001b[0m 8.693   \u001b[0m | \u001b[0m 1.133   \u001b[0m | \u001b[0m 231.3   \u001b[0m | \u001b[0m 1.283e+0\u001b[0m | \u001b[0m 0.7521  \u001b[0m |\n",
      "[13:03:33] WARNING: C:\\Users\\Administrator\\workspace\\xgboost-win64_release_1.1.0\\src\\learner.cc:480: \n",
      "Parameters: { n_estimators, nrounds } might not be used.\n",
      "\n",
      "  This may not be accurate due to some parameters are only used in language bindings but\n",
      "  passed down to XGBoost core.  Or some parameters are not used but slip through this\n",
      "  verification. Please open an issue if you find above cases.\n",
      "\n",
      "\n",
      "[13:03:33] WARNING: C:\\Users\\Administrator\\workspace\\xgboost-win64_release_1.1.0\\src\\learner.cc:480: \n",
      "Parameters: { n_estimators, nrounds } might not be used.\n",
      "\n",
      "  This may not be accurate due to some parameters are only used in language bindings but\n",
      "  passed down to XGBoost core.  Or some parameters are not used but slip through this\n",
      "  verification. Please open an issue if you find above cases.\n",
      "\n",
      "\n",
      "[13:03:33] WARNING: C:\\Users\\Administrator\\workspace\\xgboost-win64_release_1.1.0\\src\\learner.cc:480: \n",
      "Parameters: { n_estimators, nrounds } might not be used.\n",
      "\n",
      "  This may not be accurate due to some parameters are only used in language bindings but\n",
      "  passed down to XGBoost core.  Or some parameters are not used but slip through this\n",
      "  verification. Please open an issue if you find above cases.\n",
      "\n",
      "\n",
      "[13:03:33] WARNING: C:\\Users\\Administrator\\workspace\\xgboost-win64_release_1.1.0\\src\\learner.cc:480: \n",
      "Parameters: { n_estimators, nrounds } might not be used.\n",
      "\n",
      "  This may not be accurate due to some parameters are only used in language bindings but\n",
      "  passed down to XGBoost core.  Or some parameters are not used but slip through this\n",
      "  verification. Please open an issue if you find above cases.\n",
      "\n",
      "\n",
      "[13:03:33] WARNING: C:\\Users\\Administrator\\workspace\\xgboost-win64_release_1.1.0\\src\\learner.cc:480: \n",
      "Parameters: { n_estimators, nrounds } might not be used.\n",
      "\n",
      "  This may not be accurate due to some parameters are only used in language bindings but\n",
      "  passed down to XGBoost core.  Or some parameters are not used but slip through this\n",
      "  verification. Please open an issue if you find above cases.\n",
      "\n",
      "\n",
      "| \u001b[0m 2       \u001b[0m | \u001b[0m-10.63   \u001b[0m | \u001b[0m 0.9027  \u001b[0m | \u001b[0m 0.1675  \u001b[0m | \u001b[0m 0.1341  \u001b[0m | \u001b[0m 8.459   \u001b[0m | \u001b[0m 1.15    \u001b[0m | \u001b[0m 29.67   \u001b[0m | \u001b[0m 1.798e+0\u001b[0m | \u001b[0m 0.8501  \u001b[0m |\n",
      "[13:03:33] WARNING: C:\\Users\\Administrator\\workspace\\xgboost-win64_release_1.1.0\\src\\learner.cc:480: \n",
      "Parameters: { n_estimators, nrounds } might not be used.\n",
      "\n",
      "  This may not be accurate due to some parameters are only used in language bindings but\n",
      "  passed down to XGBoost core.  Or some parameters are not used but slip through this\n",
      "  verification. Please open an issue if you find above cases.\n",
      "\n",
      "\n",
      "[13:03:33] WARNING: C:\\Users\\Administrator\\workspace\\xgboost-win64_release_1.1.0\\src\\learner.cc:480: \n",
      "Parameters: { n_estimators, nrounds } might not be used.\n",
      "\n",
      "  This may not be accurate due to some parameters are only used in language bindings but\n",
      "  passed down to XGBoost core.  Or some parameters are not used but slip through this\n",
      "  verification. Please open an issue if you find above cases.\n",
      "\n",
      "\n",
      "[13:03:33] WARNING: C:\\Users\\Administrator\\workspace\\xgboost-win64_release_1.1.0\\src\\learner.cc:480: \n",
      "Parameters: { n_estimators, nrounds } might not be used.\n",
      "\n",
      "  This may not be accurate due to some parameters are only used in language bindings but\n",
      "  passed down to XGBoost core.  Or some parameters are not used but slip through this\n",
      "  verification. Please open an issue if you find above cases.\n",
      "\n",
      "\n",
      "[13:03:33] WARNING: C:\\Users\\Administrator\\workspace\\xgboost-win64_release_1.1.0\\src\\learner.cc:480: \n",
      "Parameters: { n_estimators, nrounds } might not be used.\n",
      "\n",
      "  This may not be accurate due to some parameters are only used in language bindings but\n",
      "  passed down to XGBoost core.  Or some parameters are not used but slip through this\n",
      "  verification. Please open an issue if you find above cases.\n",
      "\n",
      "\n",
      "[13:03:33] WARNING: C:\\Users\\Administrator\\workspace\\xgboost-win64_release_1.1.0\\src\\learner.cc:480: \n",
      "Parameters: { n_estimators, nrounds } might not be used.\n",
      "\n",
      "  This may not be accurate due to some parameters are only used in language bindings but\n",
      "  passed down to XGBoost core.  Or some parameters are not used but slip through this\n",
      "  verification. Please open an issue if you find above cases.\n",
      "\n",
      "\n",
      "| \u001b[0m 3       \u001b[0m | \u001b[0m-13.46   \u001b[0m | \u001b[0m 0.5238  \u001b[0m | \u001b[0m 0.01314 \u001b[0m | \u001b[0m 0.01525 \u001b[0m | \u001b[0m 3.797   \u001b[0m | \u001b[0m 1.187   \u001b[0m | \u001b[0m 83.43   \u001b[0m | \u001b[0m 1.99e+03\u001b[0m | \u001b[0m 0.7028  \u001b[0m |\n",
      "[13:03:34] WARNING: C:\\Users\\Administrator\\workspace\\xgboost-win64_release_1.1.0\\src\\learner.cc:480: \n",
      "Parameters: { n_estimators, nrounds } might not be used.\n",
      "\n",
      "  This may not be accurate due to some parameters are only used in language bindings but\n",
      "  passed down to XGBoost core.  Or some parameters are not used but slip through this\n",
      "  verification. Please open an issue if you find above cases.\n",
      "\n",
      "\n",
      "[13:03:34] WARNING: C:\\Users\\Administrator\\workspace\\xgboost-win64_release_1.1.0\\src\\learner.cc:480: \n",
      "Parameters: { n_estimators, nrounds } might not be used.\n",
      "\n",
      "  This may not be accurate due to some parameters are only used in language bindings but\n",
      "  passed down to XGBoost core.  Or some parameters are not used but slip through this\n",
      "  verification. Please open an issue if you find above cases.\n",
      "\n",
      "\n",
      "[13:03:34] WARNING: C:\\Users\\Administrator\\workspace\\xgboost-win64_release_1.1.0\\src\\learner.cc:480: \n",
      "Parameters: { n_estimators, nrounds } might not be used.\n",
      "\n",
      "  This may not be accurate due to some parameters are only used in language bindings but\n",
      "  passed down to XGBoost core.  Or some parameters are not used but slip through this\n",
      "  verification. Please open an issue if you find above cases.\n",
      "\n",
      "\n",
      "[13:03:34] WARNING: C:\\Users\\Administrator\\workspace\\xgboost-win64_release_1.1.0\\src\\learner.cc:480: \n",
      "Parameters: { n_estimators, nrounds } might not be used.\n",
      "\n",
      "  This may not be accurate due to some parameters are only used in language bindings but\n",
      "  passed down to XGBoost core.  Or some parameters are not used but slip through this\n",
      "  verification. Please open an issue if you find above cases.\n",
      "\n",
      "\n",
      "[13:03:34] WARNING: C:\\Users\\Administrator\\workspace\\xgboost-win64_release_1.1.0\\src\\learner.cc:480: \n",
      "Parameters: { n_estimators, nrounds } might not be used.\n",
      "\n",
      "  This may not be accurate due to some parameters are only used in language bindings but\n",
      "  passed down to XGBoost core.  Or some parameters are not used but slip through this\n",
      "  verification. Please open an issue if you find above cases.\n",
      "\n",
      "\n"
     ]
    },
    {
     "name": "stdout",
     "output_type": "stream",
     "text": [
      "| \u001b[0m 4       \u001b[0m | \u001b[0m-11.31   \u001b[0m | \u001b[0m 0.5858  \u001b[0m | \u001b[0m 0.3143  \u001b[0m | \u001b[0m 1.311   \u001b[0m | \u001b[0m 9.437   \u001b[0m | \u001b[0m 1.186   \u001b[0m | \u001b[0m 232.5   \u001b[0m | \u001b[0m 1.282e+0\u001b[0m | \u001b[0m 0.6576  \u001b[0m |\n",
      "[13:03:34] WARNING: C:\\Users\\Administrator\\workspace\\xgboost-win64_release_1.1.0\\src\\learner.cc:480: \n",
      "Parameters: { n_estimators, nrounds } might not be used.\n",
      "\n",
      "  This may not be accurate due to some parameters are only used in language bindings but\n",
      "  passed down to XGBoost core.  Or some parameters are not used but slip through this\n",
      "  verification. Please open an issue if you find above cases.\n",
      "\n",
      "\n",
      "[13:03:34] WARNING: C:\\Users\\Administrator\\workspace\\xgboost-win64_release_1.1.0\\src\\learner.cc:480: \n",
      "Parameters: { n_estimators, nrounds } might not be used.\n",
      "\n",
      "  This may not be accurate due to some parameters are only used in language bindings but\n",
      "  passed down to XGBoost core.  Or some parameters are not used but slip through this\n",
      "  verification. Please open an issue if you find above cases.\n",
      "\n",
      "\n",
      "[13:03:34] WARNING: C:\\Users\\Administrator\\workspace\\xgboost-win64_release_1.1.0\\src\\learner.cc:480: \n",
      "Parameters: { n_estimators, nrounds } might not be used.\n",
      "\n",
      "  This may not be accurate due to some parameters are only used in language bindings but\n",
      "  passed down to XGBoost core.  Or some parameters are not used but slip through this\n",
      "  verification. Please open an issue if you find above cases.\n",
      "\n",
      "\n",
      "[13:03:34] WARNING: C:\\Users\\Administrator\\workspace\\xgboost-win64_release_1.1.0\\src\\learner.cc:480: \n",
      "Parameters: { n_estimators, nrounds } might not be used.\n",
      "\n",
      "  This may not be accurate due to some parameters are only used in language bindings but\n",
      "  passed down to XGBoost core.  Or some parameters are not used but slip through this\n",
      "  verification. Please open an issue if you find above cases.\n",
      "\n",
      "\n",
      "[13:03:34] WARNING: C:\\Users\\Administrator\\workspace\\xgboost-win64_release_1.1.0\\src\\learner.cc:480: \n",
      "Parameters: { n_estimators, nrounds } might not be used.\n",
      "\n",
      "  This may not be accurate due to some parameters are only used in language bindings but\n",
      "  passed down to XGBoost core.  Or some parameters are not used but slip through this\n",
      "  verification. Please open an issue if you find above cases.\n",
      "\n",
      "\n",
      "| \u001b[95m 5       \u001b[0m | \u001b[95m-10.19   \u001b[0m | \u001b[95m 0.6706  \u001b[0m | \u001b[95m 0.1298  \u001b[0m | \u001b[95m 0.3043  \u001b[0m | \u001b[95m 7.412   \u001b[0m | \u001b[95m 1.121   \u001b[0m | \u001b[95m 233.5   \u001b[0m | \u001b[95m 1.285e+0\u001b[0m | \u001b[95m 0.7448  \u001b[0m |\n",
      "[13:03:35] WARNING: C:\\Users\\Administrator\\workspace\\xgboost-win64_release_1.1.0\\src\\learner.cc:480: \n",
      "Parameters: { n_estimators, nrounds } might not be used.\n",
      "\n",
      "  This may not be accurate due to some parameters are only used in language bindings but\n",
      "  passed down to XGBoost core.  Or some parameters are not used but slip through this\n",
      "  verification. Please open an issue if you find above cases.\n",
      "\n",
      "\n",
      "[13:03:35] WARNING: C:\\Users\\Administrator\\workspace\\xgboost-win64_release_1.1.0\\src\\learner.cc:480: \n",
      "Parameters: { n_estimators, nrounds } might not be used.\n",
      "\n",
      "  This may not be accurate due to some parameters are only used in language bindings but\n",
      "  passed down to XGBoost core.  Or some parameters are not used but slip through this\n",
      "  verification. Please open an issue if you find above cases.\n",
      "\n",
      "\n",
      "[13:03:35] WARNING: C:\\Users\\Administrator\\workspace\\xgboost-win64_release_1.1.0\\src\\learner.cc:480: \n",
      "Parameters: { n_estimators, nrounds } might not be used.\n",
      "\n",
      "  This may not be accurate due to some parameters are only used in language bindings but\n",
      "  passed down to XGBoost core.  Or some parameters are not used but slip through this\n",
      "  verification. Please open an issue if you find above cases.\n",
      "\n",
      "\n",
      "[13:03:35] WARNING: C:\\Users\\Administrator\\workspace\\xgboost-win64_release_1.1.0\\src\\learner.cc:480: \n",
      "Parameters: { n_estimators, nrounds } might not be used.\n",
      "\n",
      "  This may not be accurate due to some parameters are only used in language bindings but\n",
      "  passed down to XGBoost core.  Or some parameters are not used but slip through this\n",
      "  verification. Please open an issue if you find above cases.\n",
      "\n",
      "\n",
      "[13:03:35] WARNING: C:\\Users\\Administrator\\workspace\\xgboost-win64_release_1.1.0\\src\\learner.cc:480: \n",
      "Parameters: { n_estimators, nrounds } might not be used.\n",
      "\n",
      "  This may not be accurate due to some parameters are only used in language bindings but\n",
      "  passed down to XGBoost core.  Or some parameters are not used but slip through this\n",
      "  verification. Please open an issue if you find above cases.\n",
      "\n",
      "\n",
      "| \u001b[0m 6       \u001b[0m | \u001b[0m-11.01   \u001b[0m | \u001b[0m 0.9323  \u001b[0m | \u001b[0m 0.2508  \u001b[0m | \u001b[0m 0.4769  \u001b[0m | \u001b[0m 7.734   \u001b[0m | \u001b[0m 1.136   \u001b[0m | \u001b[0m 231.4   \u001b[0m | \u001b[0m 1.285e+0\u001b[0m | \u001b[0m 0.5753  \u001b[0m |\n",
      "[13:03:35] WARNING: C:\\Users\\Administrator\\workspace\\xgboost-win64_release_1.1.0\\src\\learner.cc:480: \n",
      "Parameters: { n_estimators, nrounds } might not be used.\n",
      "\n",
      "  This may not be accurate due to some parameters are only used in language bindings but\n",
      "  passed down to XGBoost core.  Or some parameters are not used but slip through this\n",
      "  verification. Please open an issue if you find above cases.\n",
      "\n",
      "\n",
      "[13:03:35] WARNING: C:\\Users\\Administrator\\workspace\\xgboost-win64_release_1.1.0\\src\\learner.cc:480: \n",
      "Parameters: { n_estimators, nrounds } might not be used.\n",
      "\n",
      "  This may not be accurate due to some parameters are only used in language bindings but\n",
      "  passed down to XGBoost core.  Or some parameters are not used but slip through this\n",
      "  verification. Please open an issue if you find above cases.\n",
      "\n",
      "\n",
      "[13:03:35] WARNING: C:\\Users\\Administrator\\workspace\\xgboost-win64_release_1.1.0\\src\\learner.cc:480: \n",
      "Parameters: { n_estimators, nrounds } might not be used.\n",
      "\n",
      "  This may not be accurate due to some parameters are only used in language bindings but\n",
      "  passed down to XGBoost core.  Or some parameters are not used but slip through this\n",
      "  verification. Please open an issue if you find above cases.\n",
      "\n",
      "\n",
      "[13:03:35] WARNING: C:\\Users\\Administrator\\workspace\\xgboost-win64_release_1.1.0\\src\\learner.cc:480: \n",
      "Parameters: { n_estimators, nrounds } might not be used.\n",
      "\n",
      "  This may not be accurate due to some parameters are only used in language bindings but\n",
      "  passed down to XGBoost core.  Or some parameters are not used but slip through this\n",
      "  verification. Please open an issue if you find above cases.\n",
      "\n",
      "\n",
      "[13:03:35] WARNING: C:\\Users\\Administrator\\workspace\\xgboost-win64_release_1.1.0\\src\\learner.cc:480: \n",
      "Parameters: { n_estimators, nrounds } might not be used.\n",
      "\n",
      "  This may not be accurate due to some parameters are only used in language bindings but\n",
      "  passed down to XGBoost core.  Or some parameters are not used but slip through this\n",
      "  verification. Please open an issue if you find above cases.\n",
      "\n",
      "\n",
      "| \u001b[0m 7       \u001b[0m | \u001b[0m-11.23   \u001b[0m | \u001b[0m 0.8004  \u001b[0m | \u001b[0m 0.3181  \u001b[0m | \u001b[0m 0.8727  \u001b[0m | \u001b[0m 3.591   \u001b[0m | \u001b[0m 1.282   \u001b[0m | \u001b[0m 236.4   \u001b[0m | \u001b[0m 1.286e+0\u001b[0m | \u001b[0m 0.5007  \u001b[0m |\n",
      "[13:03:36] WARNING: C:\\Users\\Administrator\\workspace\\xgboost-win64_release_1.1.0\\src\\learner.cc:480: \n",
      "Parameters: { n_estimators, nrounds } might not be used.\n",
      "\n",
      "  This may not be accurate due to some parameters are only used in language bindings but\n",
      "  passed down to XGBoost core.  Or some parameters are not used but slip through this\n",
      "  verification. Please open an issue if you find above cases.\n",
      "\n",
      "\n",
      "[13:03:36] WARNING: C:\\Users\\Administrator\\workspace\\xgboost-win64_release_1.1.0\\src\\learner.cc:480: \n",
      "Parameters: { n_estimators, nrounds } might not be used.\n",
      "\n",
      "  This may not be accurate due to some parameters are only used in language bindings but\n",
      "  passed down to XGBoost core.  Or some parameters are not used but slip through this\n",
      "  verification. Please open an issue if you find above cases.\n",
      "\n",
      "\n",
      "[13:03:36] WARNING: C:\\Users\\Administrator\\workspace\\xgboost-win64_release_1.1.0\\src\\learner.cc:480: \n",
      "Parameters: { n_estimators, nrounds } might not be used.\n",
      "\n",
      "  This may not be accurate due to some parameters are only used in language bindings but\n",
      "  passed down to XGBoost core.  Or some parameters are not used but slip through this\n",
      "  verification. Please open an issue if you find above cases.\n",
      "\n",
      "\n",
      "[13:03:36] WARNING: C:\\Users\\Administrator\\workspace\\xgboost-win64_release_1.1.0\\src\\learner.cc:480: \n",
      "Parameters: { n_estimators, nrounds } might not be used.\n",
      "\n",
      "  This may not be accurate due to some parameters are only used in language bindings but\n",
      "  passed down to XGBoost core.  Or some parameters are not used but slip through this\n",
      "  verification. Please open an issue if you find above cases.\n",
      "\n",
      "\n",
      "[13:03:36] WARNING: C:\\Users\\Administrator\\workspace\\xgboost-win64_release_1.1.0\\src\\learner.cc:480: \n",
      "Parameters: { n_estimators, nrounds } might not be used.\n",
      "\n",
      "  This may not be accurate due to some parameters are only used in language bindings but\n",
      "  passed down to XGBoost core.  Or some parameters are not used but slip through this\n",
      "  verification. Please open an issue if you find above cases.\n",
      "\n",
      "\n"
     ]
    },
    {
     "name": "stdout",
     "output_type": "stream",
     "text": [
      "| \u001b[0m 8       \u001b[0m | \u001b[0m-10.54   \u001b[0m | \u001b[0m 0.3604  \u001b[0m | \u001b[0m 0.2065  \u001b[0m | \u001b[0m 0.6213  \u001b[0m | \u001b[0m 5.386   \u001b[0m | \u001b[0m 1.209   \u001b[0m | \u001b[0m 234.2   \u001b[0m | \u001b[0m 1.282e+0\u001b[0m | \u001b[0m 0.526   \u001b[0m |\n",
      "[13:03:36] WARNING: C:\\Users\\Administrator\\workspace\\xgboost-win64_release_1.1.0\\src\\learner.cc:480: \n",
      "Parameters: { n_estimators, nrounds } might not be used.\n",
      "\n",
      "  This may not be accurate due to some parameters are only used in language bindings but\n",
      "  passed down to XGBoost core.  Or some parameters are not used but slip through this\n",
      "  verification. Please open an issue if you find above cases.\n",
      "\n",
      "\n",
      "[13:03:36] WARNING: C:\\Users\\Administrator\\workspace\\xgboost-win64_release_1.1.0\\src\\learner.cc:480: \n",
      "Parameters: { n_estimators, nrounds } might not be used.\n",
      "\n",
      "  This may not be accurate due to some parameters are only used in language bindings but\n",
      "  passed down to XGBoost core.  Or some parameters are not used but slip through this\n",
      "  verification. Please open an issue if you find above cases.\n",
      "\n",
      "\n",
      "[13:03:36] WARNING: C:\\Users\\Administrator\\workspace\\xgboost-win64_release_1.1.0\\src\\learner.cc:480: \n",
      "Parameters: { n_estimators, nrounds } might not be used.\n",
      "\n",
      "  This may not be accurate due to some parameters are only used in language bindings but\n",
      "  passed down to XGBoost core.  Or some parameters are not used but slip through this\n",
      "  verification. Please open an issue if you find above cases.\n",
      "\n",
      "\n",
      "[13:03:36] WARNING: C:\\Users\\Administrator\\workspace\\xgboost-win64_release_1.1.0\\src\\learner.cc:480: \n",
      "Parameters: { n_estimators, nrounds } might not be used.\n",
      "\n",
      "  This may not be accurate due to some parameters are only used in language bindings but\n",
      "  passed down to XGBoost core.  Or some parameters are not used but slip through this\n",
      "  verification. Please open an issue if you find above cases.\n",
      "\n",
      "\n",
      "[13:03:36] WARNING: C:\\Users\\Administrator\\workspace\\xgboost-win64_release_1.1.0\\src\\learner.cc:480: \n",
      "Parameters: { n_estimators, nrounds } might not be used.\n",
      "\n",
      "  This may not be accurate due to some parameters are only used in language bindings but\n",
      "  passed down to XGBoost core.  Or some parameters are not used but slip through this\n",
      "  verification. Please open an issue if you find above cases.\n",
      "\n",
      "\n",
      "| \u001b[0m 9       \u001b[0m | \u001b[0m-10.34   \u001b[0m | \u001b[0m 0.6766  \u001b[0m | \u001b[0m 0.3029  \u001b[0m | \u001b[0m 0.9419  \u001b[0m | \u001b[0m 4.439   \u001b[0m | \u001b[0m 1.063   \u001b[0m | \u001b[0m 232.5   \u001b[0m | \u001b[0m 1.282e+0\u001b[0m | \u001b[0m 0.8628  \u001b[0m |\n",
      "[13:03:37] WARNING: C:\\Users\\Administrator\\workspace\\xgboost-win64_release_1.1.0\\src\\learner.cc:480: \n",
      "Parameters: { n_estimators, nrounds } might not be used.\n",
      "\n",
      "  This may not be accurate due to some parameters are only used in language bindings but\n",
      "  passed down to XGBoost core.  Or some parameters are not used but slip through this\n",
      "  verification. Please open an issue if you find above cases.\n",
      "\n",
      "\n",
      "[13:03:37] WARNING: C:\\Users\\Administrator\\workspace\\xgboost-win64_release_1.1.0\\src\\learner.cc:480: \n",
      "Parameters: { n_estimators, nrounds } might not be used.\n",
      "\n",
      "  This may not be accurate due to some parameters are only used in language bindings but\n",
      "  passed down to XGBoost core.  Or some parameters are not used but slip through this\n",
      "  verification. Please open an issue if you find above cases.\n",
      "\n",
      "\n",
      "[13:03:37] WARNING: C:\\Users\\Administrator\\workspace\\xgboost-win64_release_1.1.0\\src\\learner.cc:480: \n",
      "Parameters: { n_estimators, nrounds } might not be used.\n",
      "\n",
      "  This may not be accurate due to some parameters are only used in language bindings but\n",
      "  passed down to XGBoost core.  Or some parameters are not used but slip through this\n",
      "  verification. Please open an issue if you find above cases.\n",
      "\n",
      "\n",
      "[13:03:37] WARNING: C:\\Users\\Administrator\\workspace\\xgboost-win64_release_1.1.0\\src\\learner.cc:480: \n",
      "Parameters: { n_estimators, nrounds } might not be used.\n",
      "\n",
      "  This may not be accurate due to some parameters are only used in language bindings but\n",
      "  passed down to XGBoost core.  Or some parameters are not used but slip through this\n",
      "  verification. Please open an issue if you find above cases.\n",
      "\n",
      "\n",
      "[13:03:37] WARNING: C:\\Users\\Administrator\\workspace\\xgboost-win64_release_1.1.0\\src\\learner.cc:480: \n",
      "Parameters: { n_estimators, nrounds } might not be used.\n",
      "\n",
      "  This may not be accurate due to some parameters are only used in language bindings but\n",
      "  passed down to XGBoost core.  Or some parameters are not used but slip through this\n",
      "  verification. Please open an issue if you find above cases.\n",
      "\n",
      "\n",
      "| \u001b[0m 10      \u001b[0m | \u001b[0m-10.29   \u001b[0m | \u001b[0m 0.7569  \u001b[0m | \u001b[0m 0.2244  \u001b[0m | \u001b[0m 0.9313  \u001b[0m | \u001b[0m 9.275   \u001b[0m | \u001b[0m 1.022   \u001b[0m | \u001b[0m 232.9   \u001b[0m | \u001b[0m 1.285e+0\u001b[0m | \u001b[0m 0.8451  \u001b[0m |\n",
      "[13:03:37] WARNING: C:\\Users\\Administrator\\workspace\\xgboost-win64_release_1.1.0\\src\\learner.cc:480: \n",
      "Parameters: { n_estimators, nrounds } might not be used.\n",
      "\n",
      "  This may not be accurate due to some parameters are only used in language bindings but\n",
      "  passed down to XGBoost core.  Or some parameters are not used but slip through this\n",
      "  verification. Please open an issue if you find above cases.\n",
      "\n",
      "\n",
      "[13:03:37] WARNING: C:\\Users\\Administrator\\workspace\\xgboost-win64_release_1.1.0\\src\\learner.cc:480: \n",
      "Parameters: { n_estimators, nrounds } might not be used.\n",
      "\n",
      "  This may not be accurate due to some parameters are only used in language bindings but\n",
      "  passed down to XGBoost core.  Or some parameters are not used but slip through this\n",
      "  verification. Please open an issue if you find above cases.\n",
      "\n",
      "\n",
      "[13:03:37] WARNING: C:\\Users\\Administrator\\workspace\\xgboost-win64_release_1.1.0\\src\\learner.cc:480: \n",
      "Parameters: { n_estimators, nrounds } might not be used.\n",
      "\n",
      "  This may not be accurate due to some parameters are only used in language bindings but\n",
      "  passed down to XGBoost core.  Or some parameters are not used but slip through this\n",
      "  verification. Please open an issue if you find above cases.\n",
      "\n",
      "\n",
      "[13:03:37] WARNING: C:\\Users\\Administrator\\workspace\\xgboost-win64_release_1.1.0\\src\\learner.cc:480: \n",
      "Parameters: { n_estimators, nrounds } might not be used.\n",
      "\n",
      "  This may not be accurate due to some parameters are only used in language bindings but\n",
      "  passed down to XGBoost core.  Or some parameters are not used but slip through this\n",
      "  verification. Please open an issue if you find above cases.\n",
      "\n",
      "\n",
      "[13:03:37] WARNING: C:\\Users\\Administrator\\workspace\\xgboost-win64_release_1.1.0\\src\\learner.cc:480: \n",
      "Parameters: { n_estimators, nrounds } might not be used.\n",
      "\n",
      "  This may not be accurate due to some parameters are only used in language bindings but\n",
      "  passed down to XGBoost core.  Or some parameters are not used but slip through this\n",
      "  verification. Please open an issue if you find above cases.\n",
      "\n",
      "\n",
      "| \u001b[0m 11      \u001b[0m | \u001b[0m-10.56   \u001b[0m | \u001b[0m 0.3546  \u001b[0m | \u001b[0m 0.1213  \u001b[0m | \u001b[0m 1.028   \u001b[0m | \u001b[0m 3.725   \u001b[0m | \u001b[0m 1.216   \u001b[0m | \u001b[0m 229.0   \u001b[0m | \u001b[0m 1.28e+03\u001b[0m | \u001b[0m 0.9812  \u001b[0m |\n",
      "[13:03:38] WARNING: C:\\Users\\Administrator\\workspace\\xgboost-win64_release_1.1.0\\src\\learner.cc:480: \n",
      "Parameters: { n_estimators, nrounds } might not be used.\n",
      "\n",
      "  This may not be accurate due to some parameters are only used in language bindings but\n",
      "  passed down to XGBoost core.  Or some parameters are not used but slip through this\n",
      "  verification. Please open an issue if you find above cases.\n",
      "\n",
      "\n",
      "[13:03:38] WARNING: C:\\Users\\Administrator\\workspace\\xgboost-win64_release_1.1.0\\src\\learner.cc:480: \n",
      "Parameters: { n_estimators, nrounds } might not be used.\n",
      "\n",
      "  This may not be accurate due to some parameters are only used in language bindings but\n",
      "  passed down to XGBoost core.  Or some parameters are not used but slip through this\n",
      "  verification. Please open an issue if you find above cases.\n",
      "\n",
      "\n",
      "[13:03:38] WARNING: C:\\Users\\Administrator\\workspace\\xgboost-win64_release_1.1.0\\src\\learner.cc:480: \n",
      "Parameters: { n_estimators, nrounds } might not be used.\n",
      "\n",
      "  This may not be accurate due to some parameters are only used in language bindings but\n",
      "  passed down to XGBoost core.  Or some parameters are not used but slip through this\n",
      "  verification. Please open an issue if you find above cases.\n",
      "\n",
      "\n",
      "[13:03:38] WARNING: C:\\Users\\Administrator\\workspace\\xgboost-win64_release_1.1.0\\src\\learner.cc:480: \n",
      "Parameters: { n_estimators, nrounds } might not be used.\n",
      "\n",
      "  This may not be accurate due to some parameters are only used in language bindings but\n",
      "  passed down to XGBoost core.  Or some parameters are not used but slip through this\n",
      "  verification. Please open an issue if you find above cases.\n",
      "\n",
      "\n",
      "[13:03:38] WARNING: C:\\Users\\Administrator\\workspace\\xgboost-win64_release_1.1.0\\src\\learner.cc:480: \n",
      "Parameters: { n_estimators, nrounds } might not be used.\n",
      "\n",
      "  This may not be accurate due to some parameters are only used in language bindings but\n",
      "  passed down to XGBoost core.  Or some parameters are not used but slip through this\n",
      "  verification. Please open an issue if you find above cases.\n",
      "\n",
      "\n"
     ]
    },
    {
     "name": "stdout",
     "output_type": "stream",
     "text": [
      "| \u001b[0m 12      \u001b[0m | \u001b[0m-10.49   \u001b[0m | \u001b[0m 0.7108  \u001b[0m | \u001b[0m 0.2498  \u001b[0m | \u001b[0m 0.5694  \u001b[0m | \u001b[0m 5.991   \u001b[0m | \u001b[0m 1.115   \u001b[0m | \u001b[0m 34.77   \u001b[0m | \u001b[0m 1.797e+0\u001b[0m | \u001b[0m 0.8357  \u001b[0m |\n",
      "[13:03:38] WARNING: C:\\Users\\Administrator\\workspace\\xgboost-win64_release_1.1.0\\src\\learner.cc:480: \n",
      "Parameters: { n_estimators, nrounds } might not be used.\n",
      "\n",
      "  This may not be accurate due to some parameters are only used in language bindings but\n",
      "  passed down to XGBoost core.  Or some parameters are not used but slip through this\n",
      "  verification. Please open an issue if you find above cases.\n",
      "\n",
      "\n",
      "[13:03:38] WARNING: C:\\Users\\Administrator\\workspace\\xgboost-win64_release_1.1.0\\src\\learner.cc:480: \n",
      "Parameters: { n_estimators, nrounds } might not be used.\n",
      "\n",
      "  This may not be accurate due to some parameters are only used in language bindings but\n",
      "  passed down to XGBoost core.  Or some parameters are not used but slip through this\n",
      "  verification. Please open an issue if you find above cases.\n",
      "\n",
      "\n",
      "[13:03:38] WARNING: C:\\Users\\Administrator\\workspace\\xgboost-win64_release_1.1.0\\src\\learner.cc:480: \n",
      "Parameters: { n_estimators, nrounds } might not be used.\n",
      "\n",
      "  This may not be accurate due to some parameters are only used in language bindings but\n",
      "  passed down to XGBoost core.  Or some parameters are not used but slip through this\n",
      "  verification. Please open an issue if you find above cases.\n",
      "\n",
      "\n",
      "[13:03:38] WARNING: C:\\Users\\Administrator\\workspace\\xgboost-win64_release_1.1.0\\src\\learner.cc:480: \n",
      "Parameters: { n_estimators, nrounds } might not be used.\n",
      "\n",
      "  This may not be accurate due to some parameters are only used in language bindings but\n",
      "  passed down to XGBoost core.  Or some parameters are not used but slip through this\n",
      "  verification. Please open an issue if you find above cases.\n",
      "\n",
      "\n",
      "[13:03:38] WARNING: C:\\Users\\Administrator\\workspace\\xgboost-win64_release_1.1.0\\src\\learner.cc:480: \n",
      "Parameters: { n_estimators, nrounds } might not be used.\n",
      "\n",
      "  This may not be accurate due to some parameters are only used in language bindings but\n",
      "  passed down to XGBoost core.  Or some parameters are not used but slip through this\n",
      "  verification. Please open an issue if you find above cases.\n",
      "\n",
      "\n",
      "| \u001b[0m 13      \u001b[0m | \u001b[0m-10.24   \u001b[0m | \u001b[0m 0.4369  \u001b[0m | \u001b[0m 0.2475  \u001b[0m | \u001b[0m 0.3765  \u001b[0m | \u001b[0m 3.892   \u001b[0m | \u001b[0m 1.189   \u001b[0m | \u001b[0m 31.67   \u001b[0m | \u001b[0m 1.795e+0\u001b[0m | \u001b[0m 0.9369  \u001b[0m |\n",
      "=========================================================================================================================\n"
     ]
    }
   ],
   "source": [
    "xgb_bo = BayesianOptimization(xgb_evaluate, {'max_depth': (3,10), \n",
    "                                             'gamma': (0, 2),\n",
    "                                             'subsample': (0.5, 1.0),\n",
    "                                             'colsample_bytree': (0.3, 1.0),\n",
    "                                             'eta' : (0.001, 0.35),\n",
    "                                             'min_child_weight' : (1.0,1.3),\n",
    "                                            'n_estimators' : (20,300),\n",
    "                                              'nrounds' :  (1000,2000) \n",
    "                                            })\n",
    "# Use the expected improvement acquisition function to handle negative numbers\n",
    "# Optimally needs quite a few more initiation points and number of iterations\n",
    "xgb_bo.maximize(init_points=3, n_iter=10, acq='ei')"
   ]
  },
  {
   "cell_type": "code",
   "execution_count": 783,
   "metadata": {},
   "outputs": [],
   "source": [
    "# best_params = xgb_bo.max['params'] # 최적의 파라미터\n",
    "# best_params['max_depth'] = int(best_params['max_depth'])\n",
    "# best_params"
   ]
  },
  {
   "cell_type": "code",
   "execution_count": 784,
   "metadata": {},
   "outputs": [
    {
     "data": {
      "text/plain": [
       "{'colsample_bytree': 0.6705789588531197,\n",
       " 'eta': 0.12982248072664607,\n",
       " 'gamma': 0.30434502504053595,\n",
       " 'max_depth': 7,\n",
       " 'min_child_weight': 1.1210161101649359,\n",
       " 'n_estimators': 233,\n",
       " 'nrounds': 1285,\n",
       " 'subsample': 0.7447761521797485}"
      ]
     },
     "execution_count": 784,
     "metadata": {},
     "output_type": "execute_result"
    }
   ],
   "source": [
    "best_params1 = xgb_bo.max['params']\n",
    "best_params1['max_depth'] = int(best_params1['max_depth'])\n",
    "best_params1['nrounds'] = int(best_params1['nrounds'])\n",
    "best_params1['n_estimators'] =  int(best_params1['n_estimators'])\n",
    "best_params1"
   ]
  },
  {
   "cell_type": "code",
   "execution_count": 785,
   "metadata": {},
   "outputs": [],
   "source": [
    "# input7_lgb_rmse = 0.70\n",
    "# input7_lgb_Ar2 = 9.59"
   ]
  },
  {
   "cell_type": "code",
   "execution_count": 788,
   "metadata": {},
   "outputs": [
    {
     "name": "stdout",
     "output_type": "stream",
     "text": [
      "[13:04:21] WARNING: C:\\Users\\Administrator\\workspace\\xgboost-win64_release_1.1.0\\src\\learner.cc:480: \n",
      "Parameters: { n_estimators, nrounds } might not be used.\n",
      "\n",
      "  This may not be accurate due to some parameters are only used in language bindings but\n",
      "  passed down to XGBoost core.  Or some parameters are not used but slip through this\n",
      "  verification. Please open an issue if you find above cases.\n",
      "\n",
      "\n"
     ]
    }
   ],
   "source": [
    "\n",
    "best_model = xgb.train(best_params1, dtrain, num_boost_round=250)\n",
    "model2 = best_model"
   ]
  },
  {
   "cell_type": "code",
   "execution_count": null,
   "metadata": {},
   "outputs": [],
   "source": []
  },
  {
   "cell_type": "code",
   "execution_count": 790,
   "metadata": {
    "scrolled": true
   },
   "outputs": [
    {
     "name": "stdout",
     "output_type": "stream",
     "text": [
      "train 데이터 예측 rmse : 0.23024806523616292\n",
      "hold-out(test 데이터) 예측 rmse : 10.150790272023208\n"
     ]
    }
   ],
   "source": [
    "# Predict on testing and training set\n",
    "y_pred =model2.predict(dtest)\n",
    "y_train_pred = model2.predict(dtrain)\n",
    "\n",
    "# Report testing and training RMSE\n",
    "\n",
    "print('train 데이터 예측 rmse :', np.sqrt(mean_squared_error(ytrain, y_train_pred)))\n",
    "print('hold-out(test 데이터) 예측 rmse :', np.sqrt(mean_squared_error(ytest, y_pred))) #오버피팅이 심함"
   ]
  },
  {
   "cell_type": "code",
   "execution_count": null,
   "metadata": {},
   "outputs": [],
   "source": []
  },
  {
   "cell_type": "code",
   "execution_count": null,
   "metadata": {},
   "outputs": [],
   "source": []
  },
  {
   "cell_type": "code",
   "execution_count": null,
   "metadata": {},
   "outputs": [],
   "source": [
    "# best model\n",
    "best_params\n",
    "best_model = xgb.train(best_params, dtrain, num_boost_round=250)"
   ]
  },
  {
   "cell_type": "code",
   "execution_count": null,
   "metadata": {},
   "outputs": [],
   "source": []
  },
  {
   "cell_type": "code",
   "execution_count": null,
   "metadata": {},
   "outputs": [],
   "source": []
  },
  {
   "cell_type": "code",
   "execution_count": null,
   "metadata": {},
   "outputs": [],
   "source": []
  },
  {
   "cell_type": "code",
   "execution_count": null,
   "metadata": {},
   "outputs": [],
   "source": []
  },
  {
   "cell_type": "code",
   "execution_count": null,
   "metadata": {},
   "outputs": [],
   "source": []
  },
  {
   "cell_type": "markdown",
   "metadata": {},
   "source": [
    "----"
   ]
  },
  {
   "cell_type": "markdown",
   "metadata": {},
   "source": [
    "# 새로운 로드킬 발생지역과 그 수 정리"
   ]
  },
  {
   "cell_type": "code",
   "execution_count": 1,
   "metadata": {},
   "outputs": [
    {
     "ename": "NameError",
     "evalue": "name 'pd' is not defined",
     "output_type": "error",
     "traceback": [
      "\u001b[1;31m---------------------------------------------------------------------------\u001b[0m",
      "\u001b[1;31mNameError\u001b[0m                                 Traceback (most recent call last)",
      "\u001b[1;32m<ipython-input-1-97c51b9fb5c7>\u001b[0m in \u001b[0;36m<module>\u001b[1;34m\u001b[0m\n\u001b[0;32m      1\u001b[0m \u001b[1;31m# 신규 지역(도로개발지역) 예측\u001b[0m\u001b[1;33m\u001b[0m\u001b[1;33m\u001b[0m\u001b[1;33m\u001b[0m\u001b[0m\n\u001b[0;32m      2\u001b[0m \u001b[1;31m# 새로운 지역의 feature 값들 불러오기\u001b[0m\u001b[1;33m\u001b[0m\u001b[1;33m\u001b[0m\u001b[1;33m\u001b[0m\u001b[0m\n\u001b[1;32m----> 3\u001b[1;33m \u001b[0mnew_df\u001b[0m \u001b[1;33m=\u001b[0m \u001b[0mpd\u001b[0m\u001b[1;33m.\u001b[0m\u001b[0mread_csv\u001b[0m\u001b[1;33m(\u001b[0m\u001b[1;34m'C:/Users/Admin/Desktop/최종 프로젝트 - 로드킬 생태통로/예측용5km.csv'\u001b[0m\u001b[1;33m,\u001b[0m \u001b[0mencoding\u001b[0m \u001b[1;33m=\u001b[0m \u001b[1;34m'cp949'\u001b[0m\u001b[1;33m)\u001b[0m\u001b[1;33m\u001b[0m\u001b[1;33m\u001b[0m\u001b[0m\n\u001b[0m",
      "\u001b[1;31mNameError\u001b[0m: name 'pd' is not defined"
     ]
    }
   ],
   "source": [
    "# 신규 지역(도로개발지역) 예측\n",
    "# 새로운 지역의 feature 값들 불러오기\n",
    "new_df = pd.read_csv('C:/Users/Admin/Desktop/최종 프로젝트 - 로드킬 생태통로/예측용5km.csv', encoding = 'cp949')"
   ]
  },
  {
   "cell_type": "code",
   "execution_count": 2,
   "metadata": {},
   "outputs": [
    {
     "ename": "NameError",
     "evalue": "name 'new_df' is not defined",
     "output_type": "error",
     "traceback": [
      "\u001b[1;31m---------------------------------------------------------------------------\u001b[0m",
      "\u001b[1;31mNameError\u001b[0m                                 Traceback (most recent call last)",
      "\u001b[1;32m<ipython-input-2-58ad22e406d5>\u001b[0m in \u001b[0;36m<module>\u001b[1;34m\u001b[0m\n\u001b[1;32m----> 1\u001b[1;33m \u001b[0mnew_df\u001b[0m\u001b[1;33m.\u001b[0m\u001b[0mhead\u001b[0m\u001b[1;33m(\u001b[0m\u001b[1;33m)\u001b[0m\u001b[1;33m\u001b[0m\u001b[1;33m\u001b[0m\u001b[0m\n\u001b[0m",
      "\u001b[1;31mNameError\u001b[0m: name 'new_df' is not defined"
     ]
    }
   ],
   "source": [
    "new_df.head()"
   ]
  },
  {
   "cell_type": "code",
   "execution_count": 113,
   "metadata": {},
   "outputs": [],
   "source": [
    "new_x = new_df[['sleep', 'restarea', 'temple', 'icjc',\n",
    "       'bridge', 'gas', 'traffic', 'sangtae', 'nongji', 'rail', 'deunggo',\n",
    "       'gorani', 'jokjebi', 'cat', 'noru', 'chungsolmo', 'osori', 'nuguri',\n",
    "       'wildboar', 'digda', 'sanji']]"
   ]
  },
  {
   "cell_type": "markdown",
   "metadata": {},
   "source": [
    "## 모델로 예측하기 전에 robust scaling 해줌"
   ]
  },
  {
   "cell_type": "code",
   "execution_count": 114,
   "metadata": {},
   "outputs": [],
   "source": [
    "    # RobustScaler(X) -> 중앙값(median)이 0, IQR(interquartile range)이 1이 되도록 변환. -> 아웃라이어 영향 최소화\n",
    "    from sklearn.preprocessing import RobustScaler\n",
    "    robust_scaler = RobustScaler()\n",
    "    robust_scaler.fit(new_x)\n",
    "    df_robust_scaled = robust_scaler.transform(new_x)\n",
    "    df_robust_scaled = pd.DataFrame(df_robust_scaled, columns = new_x.columns)\n",
    "    new_x = df_robust_scaled"
   ]
  },
  {
   "cell_type": "code",
   "execution_count": 115,
   "metadata": {},
   "outputs": [
    {
     "data": {
      "text/html": [
       "<div>\n",
       "<style scoped>\n",
       "    .dataframe tbody tr th:only-of-type {\n",
       "        vertical-align: middle;\n",
       "    }\n",
       "\n",
       "    .dataframe tbody tr th {\n",
       "        vertical-align: top;\n",
       "    }\n",
       "\n",
       "    .dataframe thead th {\n",
       "        text-align: right;\n",
       "    }\n",
       "</style>\n",
       "<table border=\"1\" class=\"dataframe\">\n",
       "  <thead>\n",
       "    <tr style=\"text-align: right;\">\n",
       "      <th></th>\n",
       "      <th>sleep</th>\n",
       "      <th>restarea</th>\n",
       "      <th>temple</th>\n",
       "      <th>icjc</th>\n",
       "      <th>bridge</th>\n",
       "      <th>gas</th>\n",
       "      <th>traffic</th>\n",
       "      <th>sangtae</th>\n",
       "      <th>nongji</th>\n",
       "      <th>rail</th>\n",
       "      <th>...</th>\n",
       "      <th>gorani</th>\n",
       "      <th>jokjebi</th>\n",
       "      <th>cat</th>\n",
       "      <th>noru</th>\n",
       "      <th>chungsolmo</th>\n",
       "      <th>osori</th>\n",
       "      <th>nuguri</th>\n",
       "      <th>wildboar</th>\n",
       "      <th>digda</th>\n",
       "      <th>sanji</th>\n",
       "    </tr>\n",
       "  </thead>\n",
       "  <tbody>\n",
       "    <tr>\n",
       "      <th>0</th>\n",
       "      <td>NaN</td>\n",
       "      <td>NaN</td>\n",
       "      <td>NaN</td>\n",
       "      <td>0.0</td>\n",
       "      <td>-0.375</td>\n",
       "      <td>-0.25</td>\n",
       "      <td>NaN</td>\n",
       "      <td>NaN</td>\n",
       "      <td>NaN</td>\n",
       "      <td>NaN</td>\n",
       "      <td>...</td>\n",
       "      <td>1.043478</td>\n",
       "      <td>NaN</td>\n",
       "      <td>0.0</td>\n",
       "      <td>NaN</td>\n",
       "      <td>1.5</td>\n",
       "      <td>NaN</td>\n",
       "      <td>0.0</td>\n",
       "      <td>NaN</td>\n",
       "      <td>-0.5</td>\n",
       "      <td>-0.503969</td>\n",
       "    </tr>\n",
       "    <tr>\n",
       "      <th>1</th>\n",
       "      <td>NaN</td>\n",
       "      <td>NaN</td>\n",
       "      <td>0.0</td>\n",
       "      <td>0.0</td>\n",
       "      <td>-0.375</td>\n",
       "      <td>0.25</td>\n",
       "      <td>NaN</td>\n",
       "      <td>NaN</td>\n",
       "      <td>-0.331956</td>\n",
       "      <td>NaN</td>\n",
       "      <td>...</td>\n",
       "      <td>0.347826</td>\n",
       "      <td>NaN</td>\n",
       "      <td>1.0</td>\n",
       "      <td>NaN</td>\n",
       "      <td>1.0</td>\n",
       "      <td>NaN</td>\n",
       "      <td>0.0</td>\n",
       "      <td>NaN</td>\n",
       "      <td>0.0</td>\n",
       "      <td>-0.246080</td>\n",
       "    </tr>\n",
       "    <tr>\n",
       "      <th>2</th>\n",
       "      <td>NaN</td>\n",
       "      <td>NaN</td>\n",
       "      <td>NaN</td>\n",
       "      <td>0.0</td>\n",
       "      <td>-0.250</td>\n",
       "      <td>0.25</td>\n",
       "      <td>NaN</td>\n",
       "      <td>NaN</td>\n",
       "      <td>-0.157015</td>\n",
       "      <td>NaN</td>\n",
       "      <td>...</td>\n",
       "      <td>2.608696</td>\n",
       "      <td>NaN</td>\n",
       "      <td>0.5</td>\n",
       "      <td>NaN</td>\n",
       "      <td>0.0</td>\n",
       "      <td>NaN</td>\n",
       "      <td>1.0</td>\n",
       "      <td>NaN</td>\n",
       "      <td>-0.5</td>\n",
       "      <td>0.046416</td>\n",
       "    </tr>\n",
       "    <tr>\n",
       "      <th>3</th>\n",
       "      <td>NaN</td>\n",
       "      <td>NaN</td>\n",
       "      <td>0.0</td>\n",
       "      <td>0.0</td>\n",
       "      <td>-0.375</td>\n",
       "      <td>-0.25</td>\n",
       "      <td>NaN</td>\n",
       "      <td>NaN</td>\n",
       "      <td>4.172564</td>\n",
       "      <td>NaN</td>\n",
       "      <td>...</td>\n",
       "      <td>2.260870</td>\n",
       "      <td>NaN</td>\n",
       "      <td>1.0</td>\n",
       "      <td>NaN</td>\n",
       "      <td>0.5</td>\n",
       "      <td>NaN</td>\n",
       "      <td>25.0</td>\n",
       "      <td>NaN</td>\n",
       "      <td>0.0</td>\n",
       "      <td>-0.369206</td>\n",
       "    </tr>\n",
       "    <tr>\n",
       "      <th>4</th>\n",
       "      <td>NaN</td>\n",
       "      <td>NaN</td>\n",
       "      <td>NaN</td>\n",
       "      <td>0.0</td>\n",
       "      <td>-0.125</td>\n",
       "      <td>-0.50</td>\n",
       "      <td>-0.472278</td>\n",
       "      <td>NaN</td>\n",
       "      <td>1.228933</td>\n",
       "      <td>NaN</td>\n",
       "      <td>...</td>\n",
       "      <td>1.217391</td>\n",
       "      <td>NaN</td>\n",
       "      <td>0.5</td>\n",
       "      <td>NaN</td>\n",
       "      <td>NaN</td>\n",
       "      <td>NaN</td>\n",
       "      <td>0.0</td>\n",
       "      <td>NaN</td>\n",
       "      <td>1.5</td>\n",
       "      <td>0.308768</td>\n",
       "    </tr>\n",
       "  </tbody>\n",
       "</table>\n",
       "<p>5 rows × 21 columns</p>\n",
       "</div>"
      ],
      "text/plain": [
       "   sleep  restarea  temple  icjc  bridge   gas   traffic  sangtae    nongji  \\\n",
       "0    NaN       NaN     NaN   0.0  -0.375 -0.25       NaN      NaN       NaN   \n",
       "1    NaN       NaN     0.0   0.0  -0.375  0.25       NaN      NaN -0.331956   \n",
       "2    NaN       NaN     NaN   0.0  -0.250  0.25       NaN      NaN -0.157015   \n",
       "3    NaN       NaN     0.0   0.0  -0.375 -0.25       NaN      NaN  4.172564   \n",
       "4    NaN       NaN     NaN   0.0  -0.125 -0.50 -0.472278      NaN  1.228933   \n",
       "\n",
       "   rail  ...    gorani  jokjebi  cat  noru  chungsolmo  osori  nuguri  \\\n",
       "0   NaN  ...  1.043478      NaN  0.0   NaN         1.5    NaN     0.0   \n",
       "1   NaN  ...  0.347826      NaN  1.0   NaN         1.0    NaN     0.0   \n",
       "2   NaN  ...  2.608696      NaN  0.5   NaN         0.0    NaN     1.0   \n",
       "3   NaN  ...  2.260870      NaN  1.0   NaN         0.5    NaN    25.0   \n",
       "4   NaN  ...  1.217391      NaN  0.5   NaN         NaN    NaN     0.0   \n",
       "\n",
       "   wildboar  digda     sanji  \n",
       "0       NaN   -0.5 -0.503969  \n",
       "1       NaN    0.0 -0.246080  \n",
       "2       NaN   -0.5  0.046416  \n",
       "3       NaN    0.0 -0.369206  \n",
       "4       NaN    1.5  0.308768  \n",
       "\n",
       "[5 rows x 21 columns]"
      ]
     },
     "execution_count": 115,
     "metadata": {},
     "output_type": "execute_result"
    }
   ],
   "source": [
    "new_x.head()"
   ]
  },
  {
   "cell_type": "markdown",
   "metadata": {},
   "source": [
    "## 가장 성능이 좋았던 XGB regressor 모델로 예측"
   ]
  },
  {
   "cell_type": "code",
   "execution_count": 116,
   "metadata": {},
   "outputs": [],
   "source": [
    "new_y_prediction = xgb_reg.predict(new_x)"
   ]
  },
  {
   "cell_type": "code",
   "execution_count": 117,
   "metadata": {},
   "outputs": [
    {
     "data": {
      "text/plain": [
       "array([12.564048, 24.237425, 25.60059 , 22.157524, 43.995003, 31.983694,\n",
       "       32.821968, 16.834255, 20.894045, 48.092587, 39.015347, 35.22361 ,\n",
       "       55.02251 , 29.24519 , 42.845497, 51.02884 , 57.220036, 76.599236,\n",
       "       22.992462, 36.200817, 32.72026 , 30.306797, 27.773779, 47.715393,\n",
       "       23.46725 , 21.877457, 54.28585 , 57.837067, 40.766872, 29.86085 ,\n",
       "       35.277004, 71.15667 , 54.130436, 66.84558 , 76.84501 , 55.28853 ,\n",
       "       79.367836, 37.727295, 54.728912, 18.659466, 36.233917, 27.6473  ,\n",
       "       68.96678 , 38.47051 , 57.52763 , 74.60385 , 30.39584 , 68.704025,\n",
       "       28.491854, 45.592045, 24.727737, 28.454174, 23.471445, 46.579765,\n",
       "       13.259678, 36.234043, 15.807738, 30.82101 , 44.122345, 58.54915 ,\n",
       "       28.141657, 33.13143 , 34.59635 , 42.436684, 79.609795, 61.54724 ,\n",
       "       51.647766, 53.199852, 51.645313, 51.011375, 28.614632],\n",
       "      dtype=float32)"
      ]
     },
     "execution_count": 117,
     "metadata": {},
     "output_type": "execute_result"
    }
   ],
   "source": [
    "new_y_prediction"
   ]
  },
  {
   "cell_type": "code",
   "execution_count": 118,
   "metadata": {},
   "outputs": [],
   "source": [
    "new_df['roadkill'] = new_y_prediction"
   ]
  },
  {
   "cell_type": "code",
   "execution_count": 120,
   "metadata": {},
   "outputs": [],
   "source": [
    "new_df.to_csv('roadkill_predict(kim).csv', encoding = 'cp949')"
   ]
  },
  {
   "cell_type": "code",
   "execution_count": null,
   "metadata": {},
   "outputs": [],
   "source": []
  },
  {
   "cell_type": "code",
   "execution_count": null,
   "metadata": {},
   "outputs": [],
   "source": []
  },
  {
   "cell_type": "code",
   "execution_count": null,
   "metadata": {},
   "outputs": [],
   "source": []
  },
  {
   "cell_type": "code",
   "execution_count": null,
   "metadata": {},
   "outputs": [],
   "source": []
  },
  {
   "cell_type": "code",
   "execution_count": null,
   "metadata": {},
   "outputs": [],
   "source": []
  }
 ],
 "metadata": {
  "kernelspec": {
   "display_name": "Python 3",
   "language": "python",
   "name": "python3"
  },
  "language_info": {
   "codemirror_mode": {
    "name": "ipython",
    "version": 3
   },
   "file_extension": ".py",
   "mimetype": "text/x-python",
   "name": "python",
   "nbconvert_exporter": "python",
   "pygments_lexer": "ipython3",
   "version": "3.7.6"
  }
 },
 "nbformat": 4,
 "nbformat_minor": 4
}
